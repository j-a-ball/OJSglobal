{
 "cells": [
  {
   "cell_type": "markdown",
   "metadata": {},
   "source": [
    "# How Many Journals Are There? Beginning to Count the Discounted\n",
    "Jon Ball, Saurabh Khanna, Juan Alperin, and John Willinsky"
   ]
  },
  {
   "cell_type": "markdown",
   "metadata": {},
   "source": [
    "#### Abstract\n",
    "This paper describes the scope of scholarly journal activity largely concentrated in the Global South that relies on the open source publishing platform Open Journal Systems (OJS). It takes advantage of indexing data collected from most of the OJS-deploying journals to provide a detailed picture of 25,671 open access journals that published at least five articles a year in 2020, of which 20,871 (81.7 percent) are published in the Global South. These journals form part of a band of scholarly publishing that is often under-counted and dis-counted. \n",
    "\n",
    "Areas considered include the global distribution of journals among 136 countries, the disciplinary distribution, the linguistic richness represented by publications in 54 languages, the citation leaders, indexing coverage, including among so-called predatory lists. \n"
   ]
  },
  {
   "cell_type": "markdown",
   "metadata": {},
   "source": [
    "### Notebook objectives:\n",
    "1. [Clean the Open Journal Systems beacon dataset and save the cleaned copy.](#beacon)\n",
    "2. [Visualize growth in the number of journals actively using OJS.](#activeojs)\n",
    "3. [Concatenate journal titles and abstracts contained in the OJS data dump, to use as inputs to a disciplinary classifier.](#datadump) "
   ]
  },
  {
   "cell_type": "markdown",
   "metadata": {},
   "source": [
    "## Data Preprocessing <a name=\"beacon\"></a>\n",
    "Import packages and read the beacon dataset into pandas:"
   ]
  },
  {
   "cell_type": "code",
   "execution_count": 1,
   "metadata": {},
   "outputs": [],
   "source": [
    "import matplotlib\n",
    "import matplotlib.pyplot as plt\n",
    "import numpy as np\n",
    "import pandas as pd\n",
    "import seaborn as sns\n",
    "from collections import defaultdict\n",
    "from collections import Counter\n",
    "import gcld3\n",
    "import ijson\n",
    "import json\n",
    "import time\n",
    "import os\n",
    "import re"
   ]
  },
  {
   "cell_type": "code",
   "execution_count": 2,
   "metadata": {},
   "outputs": [],
   "source": [
    "beacon = pd.read_csv('data/beacon.csv')"
   ]
  },
  {
   "cell_type": "markdown",
   "metadata": {},
   "source": [
    "Slice the beacon DataFrame so that it includes only **active journals (publishing 5 or more articles in 2020)**:"
   ]
  },
  {
   "cell_type": "code",
   "execution_count": 3,
   "metadata": {},
   "outputs": [],
   "source": [
    "beaconActive = beacon[beacon['record_count_2020'] >= 5].reset_index(drop=True)"
   ]
  },
  {
   "cell_type": "markdown",
   "metadata": {},
   "source": [
    "Clean the 'oai_url' variable:"
   ]
  },
  {
   "cell_type": "code",
   "execution_count": 4,
   "metadata": {},
   "outputs": [],
   "source": [
    "#Several 'oai_url' vars contain duplicates and trailing punctuation\n",
    "beaconActive['oai_url'] = beaconActive['oai_url'].str.split(r'\\s|\\?').str.get(0).str.replace('[\\./]+$', '', regex=True)"
   ]
  },
  {
   "cell_type": "markdown",
   "metadata": {},
   "source": [
    "Split the 'issn' variable, because it contains some duplicates:"
   ]
  },
  {
   "cell_type": "code",
   "execution_count": 5,
   "metadata": {},
   "outputs": [],
   "source": [
    "#Several issn vars contain two issns separated by '\\n'\n",
    "beaconActive['issn_1'] = beaconActive['issn'].str.split(r'\\n').str.get(0)\n",
    "beaconActive['issn_2'] = beaconActive['issn'].str.split(r'\\n').str.get(1)"
   ]
  },
  {
   "cell_type": "markdown",
   "metadata": {},
   "source": [
    "Create a new 'journal_url' column for accessing journal web pages:"
   ]
  },
  {
   "cell_type": "code",
   "execution_count": 6,
   "metadata": {},
   "outputs": [],
   "source": [
    "pattern = re.compile(\"index/oai$|oai$\")\n",
    "\n",
    "def create_url(row):\n",
    "    return pattern.sub(\"\", row[\"oai_url\"]) + row[\"set_spec\"]\n",
    "\n",
    "beaconActive['journal_url'] = beaconActive.apply(create_url, axis=1)"
   ]
  },
  {
   "cell_type": "markdown",
   "metadata": {},
   "source": [
    "Check for missing values and duplicates:"
   ]
  },
  {
   "cell_type": "code",
   "execution_count": 7,
   "metadata": {
    "scrolled": true
   },
   "outputs": [
    {
     "data": {
      "text/plain": [
       "oai_url                      0\n",
       "application                  0\n",
       "version                     34\n",
       "admin_email                658\n",
       "earliest_datestamp          99\n",
       "repository_name           4143\n",
       "set_spec                     0\n",
       "context_name                 0\n",
       "stats_id                     0\n",
       "total_record_count           0\n",
       "issn                      2910\n",
       "country_marc              2947\n",
       "country_issn              3022\n",
       "country_tld               5367\n",
       "country_ip                 282\n",
       "country_consolidated        94\n",
       "last_completed_update       22\n",
       "first_beacon                 0\n",
       "last_beacon                  0\n",
       "last_oai_response           99\n",
       "unresponsive_endpoint        0\n",
       "unresponsive_context         0\n",
       "record_count_2010            0\n",
       "record_count_2011            0\n",
       "record_count_2012            0\n",
       "record_count_2013            0\n",
       "record_count_2014            0\n",
       "record_count_2015            0\n",
       "record_count_2016            0\n",
       "record_count_2017            0\n",
       "record_count_2018            0\n",
       "record_count_2019            0\n",
       "record_count_2020            0\n",
       "record_count_2021            0\n",
       "issn_1                    2910\n",
       "issn_2                   17323\n",
       "journal_url                  0\n",
       "dtype: int64"
      ]
     },
     "execution_count": 7,
     "metadata": {},
     "output_type": "execute_result"
    }
   ],
   "source": [
    "beaconActive.isnull().sum()"
   ]
  },
  {
   "cell_type": "code",
   "execution_count": 8,
   "metadata": {},
   "outputs": [
    {
     "data": {
      "text/plain": [
       "False"
      ]
     },
     "execution_count": 8,
     "metadata": {},
     "output_type": "execute_result"
    }
   ],
   "source": [
    "beaconActive.duplicated().any()"
   ]
  },
  {
   "cell_type": "code",
   "execution_count": 9,
   "metadata": {},
   "outputs": [],
   "source": [
    "beaconActive.to_csv('data/beacon_active.csv')"
   ]
  },
  {
   "cell_type": "markdown",
   "metadata": {},
   "source": [
    "## Journals using OJS <a name=activeojs></a>\n",
    "### Growing number of active journals, articles published using OJS (2010-2020)"
   ]
  },
  {
   "cell_type": "code",
   "execution_count": 10,
   "metadata": {},
   "outputs": [],
   "source": [
    "#Drop duplicate journal titles from the beacon DataFrame\n",
    "beacon.drop_duplicates(subset='context_name', inplace=True)\n",
    "#Pull 'record_count' column names and store in a list \n",
    "record_cols = beacon.columns[beacon.columns.str.contains('record_count_2')].tolist()\n",
    "#Create a numpy array where cells represent record counts by journal, year\n",
    "#Convert cells where record_count >=  5 -> 1, else 0\n",
    "beaconGrowth = np.where(beacon[record_cols[:-1]] >= 5, 1, 0) #index record_cols to exlude year 2021 [-1]"
   ]
  },
  {
   "cell_type": "markdown",
   "metadata": {},
   "source": [
    "Plot the total number of active journals using OJS by year (2010-2020):"
   ]
  },
  {
   "cell_type": "code",
   "execution_count": 11,
   "metadata": {
    "scrolled": true
   },
   "outputs": [
    {
     "data": {
      "image/png": "[encoded data removed]",
      "text/plain": [
       "<Figure size 432x288 with 1 Axes>"
      ]
     },
     "metadata": {},
     "output_type": "display_data"
    }
   ],
   "source": [
    "%matplotlib inline\n",
    "#Set style for sns\n",
    "sns.set_style('white')\n",
    "sns.set_style('ticks')\n",
    "\n",
    "active_journal_growth = sns.lineplot(x = range(2010,2021), y = beaconGrowth.sum(axis=0))\n",
    "active_journal_growth.set(xlabel = 'Year',\n",
    "                          ylabel = 'Active journals using OJS',\n",
    "                          title = 'Total journals active yearly (2010-2020)')\n",
    "matplotlib.pyplot.show()"
   ]
  },
  {
   "cell_type": "markdown",
   "metadata": {},
   "source": [
    "Plot the number of new articles published each year (2010-2020):"
   ]
  },
  {
   "cell_type": "code",
   "execution_count": 12,
   "metadata": {},
   "outputs": [
    {
     "data": {
      "image/png": "[encoded data removed]",
      "text/plain": [
       "<Figure size 432x288 with 1 Axes>"
      ]
     },
     "metadata": {
      "needs_background": "light"
     },
     "output_type": "display_data"
    }
   ],
   "source": [
    "%matplotlib inline\n",
    "\n",
    "article_growth = sns.lineplot(x = range(2010,2021), y = beacon[record_cols[:-1]].sum().to_list())\n",
    "article_growth.set(xlabel = 'Year',\n",
    "                   ylabel = 'Articles published using OJS',\n",
    "                   title = 'Total articles published yearly (2010-2020)')\n",
    "article_growth.ticklabel_format(style='plain')\n",
    "matplotlib.pyplot.show()"
   ]
  },
  {
   "cell_type": "markdown",
   "metadata": {},
   "source": [
    "## Preprocessing article titles and abstracts for disciplinary classification <a name=datadump></a>"
   ]
  },
  {
   "cell_type": "markdown",
   "metadata": {},
   "source": [
    "Finally, create a function that concatenates article titles and abstracts contained in the data dump. These string \"payloads\" are mapped to journal ISSNs, serving as inputs for journal-level disciplinary classification. The function:\n",
    "<br>\n",
    "1. Opens and streams a datadump.json file of journal issns mapped to titles and short descriptions / abstracts;\n",
    "- {issn: {title: list(str), description: list(str)}}\n",
    "<br><br>\n",
    "2. Concatenates titles and abstracts into a single `payload` for each journal issn, for use as a classifier input;\n",
    "    - The `payload` consists of **200-300 words for each journal** (a small sample to preserve computer memory later, during translation)\n",
    "    - These words are pulled from the `title` and `abstract` metadata fields of each of the **5 most recent articles published in each journal**\n",
    "    - Titles and abstracts are truncated at 30 words, then concatenated to form the classifier input\n",
    "<br><br>\n",
    "3. Saves files containing payloads separately, **by language**, as json-encoded dictionaries {issn: payload}: "
   ]
  },
  {
   "cell_type": "code",
   "execution_count": 13,
   "metadata": {},
   "outputs": [],
   "source": [
    "def parse_split_save(path_to_json, data_dir, classifier, language_code):\n",
    "    \n",
    "    issn2payload = defaultdict(str) #function returns a dictionary mapping ISSN -> payload of titles and abstracts\n",
    "    title_count = defaultdict(int) #count titles, 5 per journal\n",
    "    abstract_count = defaultdict(int) #count abstracts, 5 per journal\n",
    "    \n",
    "    issn = ''\n",
    "    title_prefix = ''\n",
    "    description_prefix = ''\n",
    "    outstr = ''\n",
    "    journal_count = 0\n",
    "    \n",
    "    with open(path_to_json, 'r') as f: #open json file, streamed as dict(dict(list(str)))\n",
    "        for prefix, event, value in ijson.parse(f): #parse each json event iteratively\n",
    "            \n",
    "            if event == 'map_key': #if the event is a new dictionary\n",
    "                if re.search('\\d{4}-\\d{4}', value): #and the value of the key is an issn\n",
    "                    \n",
    "                    issn = value #store the issn to use as a prefix\n",
    "                    title_prefix = issn + '.' + 'title' + '.' + 'item' #store a 'title' prefix\n",
    "                    description_prefix = issn + '.' + 'description' + '.' + 'item' #store a 'description' prefix\n",
    "                    journal_count += 1 #add to the journal count\n",
    "                \n",
    "            elif (prefix, event) == (title_prefix, 'string'): #if the json event is a 'title' string\n",
    "                if title_count[issn] < 5 and len(value) > 10: #take 5 titles per journal \n",
    "                    #if 'title' string is not arbitrary\n",
    "                    pred_ = classifier.FindLanguage(text=value)\n",
    "                    if pred_.is_reliable and pred_.language == language_code: #if the title is in the specified language\n",
    "                        outstr = ' '.join(tok.strip('\\n') for tok in value.split()[:30]) #clip at 30 tokens for memory needs\n",
    "                        issn2payload[issn] += outstr #concatenate the new description with payload\n",
    "                        issn2payload[issn] += ' '\n",
    "                        title_count[issn] += 1\n",
    "                    del pred_\n",
    "                        \n",
    "            elif (prefix, event) == (description_prefix, 'string'): #if the json event is a 'description' string\n",
    "                if abstract_count[issn] < 5 and len(value) > 10: #take 10 articles+titles per journal\n",
    "                    #if 'description' string is not arbitrary (<10 characters)\n",
    "                    pred_ = classifier.FindLanguage(text=value)\n",
    "                    if pred_.is_reliable and pred_.language == language_code: #if the abstract is in specified language\n",
    "                        outstr = ' '.join(tok.strip('\\n') for tok in value.split()[:30]) #clip at 30 tokens for memory needs\n",
    "                        issn2payload[issn] += outstr #concatenate the new abstract with payload\n",
    "                        issn2payload[issn] += ' '\n",
    "                        abstract_count[issn] += 1\n",
    "                    del pred_\n",
    "    \n",
    "            else:\n",
    "                continue\n",
    "                \n",
    "    print('Total journal count: {}'.format(journal_count) + '\\n')\n",
    "    \n",
    "    filename = 'issn2' + language_code + '.json'\n",
    "    print('Saving at {}...'.format(filename))\n",
    "\n",
    "    with open(os.path.join(data_dir, filename), 'w') as f:\n",
    "        json.dump(issn2payload, f)\n",
    "        print(\"{} '{}' payloads saved as json.\".format(len(issn2payload), language_code))\n",
    "    \n",
    "    del issn2payload"
   ]
  },
  {
   "cell_type": "markdown",
   "metadata": {},
   "source": [
    "Call the function and save journal samples in several prominent languages to complete preprocessing:"
   ]
  },
  {
   "cell_type": "code",
   "execution_count": 14,
   "metadata": {},
   "outputs": [],
   "source": [
    "path_to_json = os.path.join('data', 'datadump.json')\n",
    "data_dir = os.path.join('data')\n",
    "classifier = gcld3.NNetLanguageIdentifier(min_num_bytes=0, max_num_bytes=10000)"
   ]
  },
  {
   "cell_type": "markdown",
   "metadata": {},
   "source": [
    "English:"
   ]
  },
  {
   "cell_type": "code",
   "execution_count": 15,
   "metadata": {},
   "outputs": [
    {
     "name": "stdout",
     "output_type": "stream",
     "text": [
      "Total journal count: 20543\n",
      "\n",
      "Saving at issn2en.json...\n",
      "18140 'en' payloads saved as json.\n",
      "CPU times: user 13min 35s, sys: 6min 7s, total: 19min 42s\n",
      "Wall time: 19min 51s\n"
     ]
    }
   ],
   "source": [
    "%time parse_split_save(path_to_json, data_dir, classifier, language_code='en')"
   ]
  },
  {
   "cell_type": "markdown",
   "metadata": {},
   "source": [
    "Bahasa Indonesia:"
   ]
  },
  {
   "cell_type": "code",
   "execution_count": 16,
   "metadata": {},
   "outputs": [
    {
     "name": "stdout",
     "output_type": "stream",
     "text": [
      "Total journal count: 20543\n",
      "\n",
      "Saving at issn2id.json...\n",
      "9034 'id' payloads saved as json.\n",
      "CPU times: user 29min 25s, sys: 5min 53s, total: 35min 19s\n",
      "Wall time: 35min 25s\n"
     ]
    }
   ],
   "source": [
    "%time parse_split_save(path_to_json, data_dir, classifier, language_code='id')"
   ]
  },
  {
   "cell_type": "markdown",
   "metadata": {},
   "source": [
    "Spanish:"
   ]
  },
  {
   "cell_type": "code",
   "execution_count": 17,
   "metadata": {},
   "outputs": [
    {
     "name": "stdout",
     "output_type": "stream",
     "text": [
      "Total journal count: 20543\n",
      "\n",
      "Saving at issn2es.json...\n",
      "5124 'es' payloads saved as json.\n",
      "CPU times: user 50min 58s, sys: 6min 14s, total: 57min 13s\n",
      "Wall time: 57min 15s\n"
     ]
    }
   ],
   "source": [
    "%time parse_split_save(path_to_json, data_dir, classifier, language_code='es')"
   ]
  },
  {
   "cell_type": "markdown",
   "metadata": {},
   "source": [
    "Portuguese:"
   ]
  },
  {
   "cell_type": "code",
   "execution_count": 18,
   "metadata": {},
   "outputs": [
    {
     "name": "stdout",
     "output_type": "stream",
     "text": [
      "Total journal count: 20543\n",
      "\n",
      "Saving at issn2pt.json...\n",
      "4194 'pt' payloads saved as json.\n",
      "CPU times: user 55min 26s, sys: 6min 21s, total: 1h 1min 48s\n",
      "Wall time: 1h 1min 49s\n"
     ]
    }
   ],
   "source": [
    "%time parse_split_save(path_to_json, data_dir, classifier, language_code='pt')"
   ]
  },
  {
   "cell_type": "markdown",
   "metadata": {},
   "source": [
    "Afrikaans:"
   ]
  },
  {
   "cell_type": "code",
   "execution_count": 19,
   "metadata": {},
   "outputs": [
    {
     "name": "stdout",
     "output_type": "stream",
     "text": [
      "Total journal count: 20543\n",
      "\n",
      "Saving at issn2af.json...\n",
      "1196 'af' payloads saved as json.\n",
      "CPU times: user 1h 12min 9s, sys: 6min 45s, total: 1h 18min 55s\n",
      "Wall time: 1h 18min 57s\n"
     ]
    }
   ],
   "source": [
    "%time parse_split_save(path_to_json, data_dir, classifier, language_code='af')"
   ]
  },
  {
   "cell_type": "markdown",
   "metadata": {},
   "source": [
    "Japanese:"
   ]
  },
  {
   "cell_type": "code",
   "execution_count": 20,
   "metadata": {},
   "outputs": [
    {
     "name": "stdout",
     "output_type": "stream",
     "text": [
      "Total journal count: 20543\n",
      "\n",
      "Saving at issn2ja.json...\n",
      "290 'ja' payloads saved as json.\n",
      "CPU times: user 1h 14min 54s, sys: 7min 1s, total: 1h 21min 56s\n",
      "Wall time: 1h 21min 57s\n"
     ]
    }
   ],
   "source": [
    "%time parse_split_save(path_to_json, data_dir, classifier, language_code='ja')"
   ]
  },
  {
   "cell_type": "markdown",
   "metadata": {},
   "source": [
    "Russian:"
   ]
  },
  {
   "cell_type": "code",
   "execution_count": 21,
   "metadata": {},
   "outputs": [
    {
     "name": "stdout",
     "output_type": "stream",
     "text": [
      "Total journal count: 20543\n",
      "\n",
      "Saving at issn2ru.json...\n",
      "743 'ru' payloads saved as json.\n",
      "CPU times: user 1h 12min 27s, sys: 7min 2s, total: 1h 19min 30s\n",
      "Wall time: 1h 19min 31s\n"
     ]
    }
   ],
   "source": [
    "%time parse_split_save(path_to_json, data_dir, classifier, language_code='ru')"
   ]
  },
  {
   "cell_type": "markdown",
   "metadata": {},
   "source": [
    "French:"
   ]
  },
  {
   "cell_type": "code",
   "execution_count": 22,
   "metadata": {},
   "outputs": [
    {
     "name": "stdout",
     "output_type": "stream",
     "text": [
      "Total journal count: 20543\n",
      "\n",
      "Saving at issn2fr.json...\n",
      "2326 'fr' payloads saved as json.\n",
      "CPU times: user 1h 7min 25s, sys: 6min 41s, total: 1h 14min 7s\n",
      "Wall time: 1h 14min 8s\n"
     ]
    }
   ],
   "source": [
    "%time parse_split_save(path_to_json, data_dir, classifier, language_code='fr')"
   ]
  },
  {
   "cell_type": "markdown",
   "metadata": {},
   "source": [
    "Malay:"
   ]
  },
  {
   "cell_type": "code",
   "execution_count": 23,
   "metadata": {},
   "outputs": [
    {
     "name": "stdout",
     "output_type": "stream",
     "text": [
      "Total journal count: 20543\n",
      "\n",
      "Saving at issn2ms.json...\n",
      "7958 'ms' payloads saved as json.\n",
      "CPU times: user 47min 34s, sys: 6min 13s, total: 53min 48s\n",
      "Wall time: 53min 48s\n"
     ]
    }
   ],
   "source": [
    "%time parse_split_save(path_to_json, data_dir, classifier, language_code='ms')"
   ]
  },
  {
   "cell_type": "markdown",
   "metadata": {},
   "source": [
    "Ukrainian:"
   ]
  },
  {
   "cell_type": "code",
   "execution_count": 24,
   "metadata": {},
   "outputs": [
    {
     "name": "stdout",
     "output_type": "stream",
     "text": [
      "Total journal count: 20543\n",
      "\n",
      "Saving at issn2uk.json...\n",
      "516 'uk' payloads saved as json.\n",
      "CPU times: user 1h 13min 9s, sys: 6min 35s, total: 1h 19min 44s\n",
      "Wall time: 1h 19min 46s\n"
     ]
    }
   ],
   "source": [
    "%time parse_split_save(path_to_json, data_dir, classifier, language_code='uk')"
   ]
  },
  {
   "cell_type": "markdown",
   "metadata": {},
   "source": [
    "Italian:"
   ]
  },
  {
   "cell_type": "code",
   "execution_count": 25,
   "metadata": {},
   "outputs": [
    {
     "name": "stdout",
     "output_type": "stream",
     "text": [
      "Total journal count: 20543\n",
      "\n",
      "Saving at issn2it.json...\n",
      "2562 'it' payloads saved as json.\n",
      "CPU times: user 1h 8min 48s, sys: 6min 26s, total: 1h 15min 14s\n",
      "Wall time: 1h 15min 15s\n"
     ]
    }
   ],
   "source": [
    "%time parse_split_save(path_to_json, data_dir, classifier, language_code='it')"
   ]
  },
  {
   "cell_type": "markdown",
   "metadata": {},
   "source": [
    "Polish:"
   ]
  },
  {
   "cell_type": "code",
   "execution_count": 26,
   "metadata": {},
   "outputs": [
    {
     "name": "stdout",
     "output_type": "stream",
     "text": [
      "Total journal count: 20543\n",
      "\n",
      "Saving at issn2pl.json...\n",
      "575 'pl' payloads saved as json.\n",
      "CPU times: user 1h 13min 35s, sys: 6min 30s, total: 1h 20min 5s\n",
      "Wall time: 1h 20min 6s\n"
     ]
    }
   ],
   "source": [
    "%time parse_split_save(path_to_json, data_dir, classifier, language_code='pl')"
   ]
  },
  {
   "cell_type": "markdown",
   "metadata": {},
   "source": [
    "German:"
   ]
  },
  {
   "cell_type": "code",
   "execution_count": 27,
   "metadata": {},
   "outputs": [
    {
     "name": "stdout",
     "output_type": "stream",
     "text": [
      "Total journal count: 20543\n",
      "\n",
      "Saving at issn2de.json...\n",
      "1389 'de' payloads saved as json.\n",
      "CPU times: user 1h 11min 18s, sys: 6min 27s, total: 1h 17min 46s\n",
      "Wall time: 1h 17min 47s\n"
     ]
    }
   ],
   "source": [
    "%time parse_split_save(path_to_json, data_dir, classifier, language_code='de')"
   ]
  },
  {
   "cell_type": "markdown",
   "metadata": {},
   "source": [
    "Arabic:"
   ]
  },
  {
   "cell_type": "code",
   "execution_count": 28,
   "metadata": {},
   "outputs": [
    {
     "name": "stdout",
     "output_type": "stream",
     "text": [
      "Total journal count: 20543\n",
      "\n",
      "Saving at issn2ar.json...\n",
      "493 'ar' payloads saved as json.\n",
      "CPU times: user 1h 11min 53s, sys: 6min 51s, total: 1h 18min 45s\n",
      "Wall time: 1h 18min 49s\n"
     ]
    }
   ],
   "source": [
    "%time parse_split_save(path_to_json, data_dir, classifier, language_code='ar')"
   ]
  }
 ],
 "metadata": {
  "kernelspec": {
   "display_name": "OJS",
   "language": "python",
   "name": "ojs"
  },
  "language_info": {
   "codemirror_mode": {
    "name": "ipython",
    "version": 3
   },
   "file_extension": ".py",
   "mimetype": "text/x-python",
   "name": "python",
   "nbconvert_exporter": "python",
   "pygments_lexer": "ipython3",
   "version": "3.7.11"
  }
 },
 "nbformat": 4,
 "nbformat_minor": 4
}
