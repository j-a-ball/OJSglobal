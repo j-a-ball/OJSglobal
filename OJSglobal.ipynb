{
 "cells": [
  {
   "cell_type": "markdown",
   "metadata": {},
   "source": [
    "# How Many Journals Are There? Centering the Discounted \n",
    "Jon Ball, Saurabh Khanna, and John Willinsky"
   ]
  },
  {
   "cell_type": "markdown",
   "metadata": {},
   "source": [
    "## Table of Contents\n",
    "1. [Introduction](#introduction)\n",
    "2. [Data Preprocessing](#dataprep)\n",
    "3. [Journals using OJS](#activeojs)\n",
    "    1. [Active journals](#growth)\n",
    "    2. [Languages](#languages)\n",
    "    3. [Disciplines](#disciplines)\n",
    "4. [World Bank income groups](#worldbank)\n",
    "5. [Index Overlap](#index)"
   ]
  },
  {
   "cell_type": "markdown",
   "metadata": {},
   "source": [
    "## Introduction <a name=\"introduction\"></a>"
   ]
  },
  {
   "cell_type": "markdown",
   "metadata": {},
   "source": [
    "## Data Preprocessing <a name=\"dataprep\"></a>\n",
    "Import packages and read the beacon dataset into pandas:"
   ]
  },
  {
   "cell_type": "code",
   "execution_count": 1,
   "metadata": {},
   "outputs": [],
   "source": [
    "import matplotlib\n",
    "import numpy as np\n",
    "import pandas as pd\n",
    "import seaborn as sns\n",
    "import re\n",
    "\n",
    "beacon = pd.read_csv('data/beacon.csv')"
   ]
  },
  {
   "cell_type": "markdown",
   "metadata": {},
   "source": [
    "Slice the beacon DataFrame so that it includes only **active journals (publishing 5 or more articles per year)**:"
   ]
  },
  {
   "cell_type": "code",
   "execution_count": 2,
   "metadata": {},
   "outputs": [],
   "source": [
    "beaconActive = beacon[beacon['record_count_2020'] >= 5].reset_index(drop=True)"
   ]
  },
  {
   "cell_type": "markdown",
   "metadata": {},
   "source": [
    "Select only columns relevant to the analysis:"
   ]
  },
  {
   "cell_type": "code",
   "execution_count": 3,
   "metadata": {},
   "outputs": [],
   "source": [
    "beaconActive = beaconActive[['oai_url', \n",
    "                             'set_spec',\n",
    "                             'context_name',\n",
    "                             'issn',\n",
    "                             'country_consolidated']]"
   ]
  },
  {
   "cell_type": "markdown",
   "metadata": {},
   "source": [
    "Clean the 'oai_url' variable:"
   ]
  },
  {
   "cell_type": "code",
   "execution_count": 4,
   "metadata": {},
   "outputs": [],
   "source": [
    "#Several 'oai_url' vars contain duplicates and trailing punctuation\n",
    "beaconActive['oai_url'] = beaconActive['oai_url'].str.split(r'\\s|\\?').str.get(0).str.replace('[\\./]+$', '', regex=True)"
   ]
  },
  {
   "cell_type": "markdown",
   "metadata": {},
   "source": [
    "Clean the 'issn' variable:"
   ]
  },
  {
   "cell_type": "code",
   "execution_count": 5,
   "metadata": {},
   "outputs": [],
   "source": [
    "#Several issn vars contain two issns separated by '\\n'\n",
    "beaconActive['issn_1'] = beaconActive['issn'].str.split(r'\\n').str.get(0)\n",
    "beaconActive['issn_2'] = beaconActive['issn'].str.split(r'\\n').str.get(1)"
   ]
  },
  {
   "cell_type": "markdown",
   "metadata": {},
   "source": [
    "Create a new 'journal_url' column for accessing journal web pages:"
   ]
  },
  {
   "cell_type": "code",
   "execution_count": 6,
   "metadata": {},
   "outputs": [],
   "source": [
    "pattern = re.compile(\"index/oai$|oai$\")\n",
    "\n",
    "def create_url(row):\n",
    "    return pattern.sub(\"\", row[\"oai_url\"]) + row[\"set_spec\"]\n",
    "\n",
    "beaconActive['journal_url'] = beaconActive.apply(create_url, axis=1)"
   ]
  },
  {
   "cell_type": "markdown",
   "metadata": {},
   "source": [
    "Check for missing values and duplicates:"
   ]
  },
  {
   "cell_type": "code",
   "execution_count": 7,
   "metadata": {},
   "outputs": [
    {
     "data": {
      "text/plain": [
       "oai_url                     0\n",
       "set_spec                    0\n",
       "context_name                0\n",
       "issn                     2910\n",
       "country_consolidated       94\n",
       "issn_1                   2910\n",
       "issn_2                  17323\n",
       "journal_url                 0\n",
       "dtype: int64"
      ]
     },
     "execution_count": 7,
     "metadata": {},
     "output_type": "execute_result"
    }
   ],
   "source": [
    "beaconActive.isnull().sum()"
   ]
  },
  {
   "cell_type": "code",
   "execution_count": 8,
   "metadata": {},
   "outputs": [
    {
     "data": {
      "text/plain": [
       "False"
      ]
     },
     "execution_count": 8,
     "metadata": {},
     "output_type": "execute_result"
    }
   ],
   "source": [
    "beaconActive.duplicated().any()"
   ]
  },
  {
   "cell_type": "markdown",
   "metadata": {},
   "source": [
    "## Journals using OJS <a name=activeojs></a>"
   ]
  },
  {
   "cell_type": "markdown",
   "metadata": {},
   "source": [
    "### Growing number of active journals, articles published using OJS (2010-2020) <a name=growth></a>"
   ]
  },
  {
   "cell_type": "code",
   "execution_count": 9,
   "metadata": {},
   "outputs": [],
   "source": [
    "#Drop duplicate journal titles from the beacon DataFrame\n",
    "beacon.drop_duplicates(subset='context_name', inplace=True)"
   ]
  },
  {
   "cell_type": "code",
   "execution_count": 10,
   "metadata": {},
   "outputs": [],
   "source": [
    "#Pull 'record_count' column names and store in a list \n",
    "record_cols = beacon.columns[beacon.columns.str.contains('record_count_2')].tolist()"
   ]
  },
  {
   "cell_type": "code",
   "execution_count": 11,
   "metadata": {},
   "outputs": [],
   "source": [
    "#Create a numpy array where cells represent record counts by journal, year\n",
    "#Convert cells where record_count >=  5 -> 1, else 0\n",
    "beaconGrowth = np.where(beacon[record_cols[:-1]] >= 5, 1, 0) #index record_cols to exlude year 2021 [-1]"
   ]
  },
  {
   "cell_type": "code",
   "execution_count": 12,
   "metadata": {},
   "outputs": [
    {
     "data": {
      "image/png": "[encoded data removed]",
      "text/plain": [
       "<Figure size 432x288 with 1 Axes>"
      ]
     },
     "metadata": {},
     "output_type": "display_data"
    }
   ],
   "source": [
    "#Plot the total number of active journals using OJS by year (2010-2020)\n",
    "%matplotlib inline\n",
    "#Set style for sns\n",
    "sns.set_style('white')\n",
    "sns.set_style('ticks')\n",
    "\n",
    "active_journal_growth = sns.lineplot(x = range(2010,2021), y = beaconGrowth.sum(axis=0))\n",
    "active_journal_growth.set(xlabel = 'Year',\n",
    "                          ylabel = 'Active journals using OJS',\n",
    "                          title = 'Total journals active yearly (2010-2020)')\n",
    "matplotlib.pyplot.show()"
   ]
  },
  {
   "cell_type": "code",
   "execution_count": 13,
   "metadata": {},
   "outputs": [
    {
     "data": {
      "image/png": "[encoded data removed]",
      "text/plain": [
       "<Figure size 432x288 with 1 Axes>"
      ]
     },
     "metadata": {
      "needs_background": "light"
     },
     "output_type": "display_data"
    }
   ],
   "source": [
    "#Plot the number of new articles published each year (2010-2020)\n",
    "%matplotlib inline\n",
    "\n",
    "article_growth = sns.lineplot(x = range(2010,2021), y = beacon[record_cols[:-1]].sum().to_list())\n",
    "article_growth.set(xlabel = 'Year',\n",
    "                   ylabel = 'Articles published using OJS',\n",
    "                   title = 'Total articles published yearly (2010-2020)')\n",
    "article_growth.ticklabel_format(style='plain')\n",
    "matplotlib.pyplot.show()"
   ]
  },
  {
   "cell_type": "markdown",
   "metadata": {},
   "source": [
    "### Languages <a name=languages></a>"
   ]
  },
  {
   "cell_type": "markdown",
   "metadata": {},
   "source": [
    "<a href='https://docs.google.com/document/d/103l90P0OuM0muOsmUYlnProG_Xo9yBR4IQ6INB21WaE/edit?usp=sharing'>This link</a> navigates to a Google doc with examples of journals using OJS to publish open access articles in **56 different languages**. <br>"
   ]
  },
  {
   "cell_type": "markdown",
   "metadata": {},
   "source": [
    "#### Google's Compact Language Detector v3 (gcld3)"
   ]
  },
  {
   "cell_type": "markdown",
   "metadata": {},
   "source": [
    "Import packages and create a defaultdict(list) to hold strings representing <a href='https://github.com/google/cld3'>gcld3 language classifications</a> for article abstracts published in each journal. <br> (*n*=20,420) "
   ]
  },
  {
   "cell_type": "code",
   "execution_count": 14,
   "metadata": {},
   "outputs": [],
   "source": [
    "import gcld3\n",
    "import ijson\n",
    "import json\n",
    "import time \n",
    "from collections import Counter\n",
    "from collections import defaultdict\n",
    "#{journal issn: [list of predicted language codes for each article]}\n",
    "issn_to_language = defaultdict(list)"
   ]
  },
  {
   "cell_type": "markdown",
   "metadata": {},
   "source": [
    "Initialize <a href='https://github.com/google/cld3'>gcld3</a>:\n"
   ]
  },
  {
   "cell_type": "code",
   "execution_count": 15,
   "metadata": {},
   "outputs": [],
   "source": [
    "identifier = gcld3.NNetLanguageIdentifier(min_num_bytes=0, max_num_bytes=1000)"
   ]
  },
  {
   "cell_type": "markdown",
   "metadata": {},
   "source": [
    "Open a 15 GB .json file of selected metadata [title, description, subject, language]  for the most recent 100 journal articles published in 20,420 OJS contexts; <br> Pass the 'description' values to gcld3 to generate lists of predicted languages for each journal:"
   ]
  },
  {
   "cell_type": "code",
   "execution_count": 16,
   "metadata": {},
   "outputs": [
    {
     "name": "stdout",
     "output_type": "stream",
     "text": [
      "CPU times: user 1h 36min 24s, sys: 30.6 s, total: 1h 36min 55s\n",
      "Wall time: 1h 37min 2s\n"
     ]
    }
   ],
   "source": [
    "%%time\n",
    "\n",
    "issn = ''\n",
    "description_prefix = ''\n",
    "journal_count = 0\n",
    "article_count = 0\n",
    "\n",
    "with open('Data/beacon_metadata.json', 'r') as f: #open json file, streamed as dict(dict(list(str)))\n",
    "    #with open('Data/descriptions.txt', 'w') as outfile:\n",
    "        \n",
    "        for prefix, event, value in ijson.parse(f): #parse each json event iteratively\n",
    "            \n",
    "            if event == 'map_key': #if the event is a new dictionary\n",
    "                if re.search('\\d{4}-\\d{4}', value): #and the value of the key is an issn\n",
    "                    \n",
    "                    issn = value #store the issn to use as a prefix in ijson.parse()\n",
    "                    description_prefix = issn + '.' + 'description' + '.' + 'item' #store a 'description' prefix\n",
    "                    journal_count += 1 #add to the journal count\n",
    "                \n",
    "            elif (prefix, event) == (description_prefix, 'string'): #if the json event is a 'description' string\n",
    "            \n",
    "                if len(value) > 10: #if the 'description' string is not arbitrary\n",
    "                \n",
    "                    #outfile.write(value + '\\n') #save the description to a .txt file\n",
    "                    article_count += 1 # add to the article count\n",
    "                \n",
    "                    language_result = identifier.FindLanguage(text=value)\n",
    "                    if language_result.is_reliable: # if the language prediction is reliable\n",
    "                    \n",
    "                        issn_to_language[issn].append(language_result.language) \n",
    "                        #pass the 'description' string to gcld3 and store the predicted language code\n",
    "                        #{journal issn: [list of predicted language codes for each article]}\n",
    "                        del language_result\n",
    "    \n",
    "            else:\n",
    "                continue"
   ]
  },
  {
   "cell_type": "markdown",
   "metadata": {},
   "source": [
    "Number of article abstracts:"
   ]
  },
  {
   "cell_type": "code",
   "execution_count": 17,
   "metadata": {},
   "outputs": [
    {
     "data": {
      "text/plain": [
       "8600880"
      ]
     },
     "execution_count": 17,
     "metadata": {},
     "output_type": "execute_result"
    }
   ],
   "source": [
    "article_count"
   ]
  },
  {
   "cell_type": "markdown",
   "metadata": {},
   "source": [
    "Number of journals, indexed by issn:"
   ]
  },
  {
   "cell_type": "code",
   "execution_count": 18,
   "metadata": {},
   "outputs": [
    {
     "data": {
      "text/plain": [
       "20418"
      ]
     },
     "execution_count": 18,
     "metadata": {},
     "output_type": "execute_result"
    }
   ],
   "source": [
    "len(issn_to_language)"
   ]
  },
  {
   "cell_type": "code",
   "execution_count": 19,
   "metadata": {},
   "outputs": [
    {
     "name": "stdout",
     "output_type": "stream",
     "text": [
      "<class 'collections.defaultdict'>\n",
      "2715-2502\n",
      "['id', 'en', 'id', 'id', 'id', 'id', 'id', 'en', 'id', 'en', 'en', 'id', 'id', 'ms', 'id', 'en', 'id', 'en', 'id', 'id', 'en']\n"
     ]
    }
   ],
   "source": [
    "print(type(issn_to_language)) #defaultdict of defaultdict of lists\n",
    "for k, v in issn_to_language.items():\n",
    "    print(k) #issn for one journal\n",
    "    print(v) #list of gcld3 language classifications for most recent 100 or fewer articles published in journal\n",
    "    break"
   ]
  },
  {
   "cell_type": "markdown",
   "metadata": {},
   "source": [
    "Store a list of gcld3 language codes corresponding to the 56 languages known to be supported by OJS:"
   ]
  },
  {
   "cell_type": "code",
   "execution_count": 20,
   "metadata": {},
   "outputs": [],
   "source": [
    "known_langs = ['af', 'ar', 'bg', 'bg-Latn', 'bs', 'ca', 'cs', 'da', 'de', 'el', 'el-Latn', 'en', 'es', 'et', 'eu',\n",
    "               'fa', 'fi', 'fr', 'gd', 'gl', 'hi', 'hi-Latn', 'hr', 'hu', 'hy', 'id', 'ig', 'is', 'it', 'ja',\n",
    "               'ja-Latn', 'ka', 'kk', 'ko', 'lt', 'mk', 'ms', 'ne', 'nl', 'no', 'pl', 'pt', 'ro', 'ru', 'ru-Latn',\n",
    "               'si', 'sk', 'sl', 'sr', 'sv', 'sw', 'ta', 'th', 'tr', 'uk', 'ur', 'uz', 'vi', 'zh', 'zh-Latn']"
   ]
  },
  {
   "cell_type": "markdown",
   "metadata": {},
   "source": [
    "Create another dictionary of lists of article-level language classifications for each journal, filtered by inclusion in 'known_langs':"
   ]
  },
  {
   "cell_type": "code",
   "execution_count": 21,
   "metadata": {},
   "outputs": [],
   "source": [
    "issn_language_lists = {}\n",
    "for k, v in issn_to_language.items():\n",
    "    issn_language_lists[k] = [lang for lang in v if lang in known_langs]"
   ]
  },
  {
   "cell_type": "markdown",
   "metadata": {},
   "source": [
    "Create a dictionary that maps issn -> [(single most common language, prediction count)]:"
   ]
  },
  {
   "cell_type": "code",
   "execution_count": 22,
   "metadata": {},
   "outputs": [],
   "source": [
    "top_languages = {}\n",
    "for k, v in issn_language_lists.items():\n",
    "    top_languages[k] = Counter(v).most_common(1)"
   ]
  },
  {
   "cell_type": "markdown",
   "metadata": {},
   "source": [
    "Create a final dictionary mapping journal counts to their **primary** language, or the most common language identified in a given journal's article abstracts:"
   ]
  },
  {
   "cell_type": "code",
   "execution_count": 23,
   "metadata": {},
   "outputs": [],
   "source": [
    "language_counts = defaultdict(int)\n",
    "for k, v in top_languages.items():\n",
    "    if v: #in case of empty lists\n",
    "        language_counts[v[0][0]] += 1"
   ]
  },
  {
   "cell_type": "markdown",
   "metadata": {},
   "source": [
    "Create a DataFrame called 'primaryLanguage' to represent ['language', 'count']:"
   ]
  },
  {
   "cell_type": "code",
   "execution_count": 24,
   "metadata": {},
   "outputs": [
    {
     "name": "stdout",
     "output_type": "stream",
     "text": [
      "Total: 20416 journals\n"
     ]
    }
   ],
   "source": [
    "#Store the language codes and their counts in a pd.Series\n",
    "language_distribution = pd.Series(language_counts)\n",
    "#Sort the language code Series by count\n",
    "language_distribution.sort_values(ascending=False, inplace=True)\n",
    "#Convert the Series to a DataFrame\n",
    "primaryLangs = pd.DataFrame(language_distribution, columns=['count'], index=language_distribution.index)\n",
    "primaryLangs.reset_index(inplace=True)\n",
    "primaryLangs.rename(columns = {'index':'language'}, inplace=True)\n",
    "#Total number of journals:\n",
    "total = primaryLangs['count'].sum()\n",
    "#Print n\n",
    "print('Total: {} journals'.format(total))"
   ]
  },
  {
   "cell_type": "code",
   "execution_count": 25,
   "metadata": {},
   "outputs": [
    {
     "data": {
      "text/html": [
       "<div>\n",
       "<style scoped>\n",
       "    .dataframe tbody tr th:only-of-type {\n",
       "        vertical-align: middle;\n",
       "    }\n",
       "\n",
       "    .dataframe tbody tr th {\n",
       "        vertical-align: top;\n",
       "    }\n",
       "\n",
       "    .dataframe thead th {\n",
       "        text-align: right;\n",
       "    }\n",
       "</style>\n",
       "<table border=\"1\" class=\"dataframe\">\n",
       "  <thead>\n",
       "    <tr style=\"text-align: right;\">\n",
       "      <th></th>\n",
       "      <th>language</th>\n",
       "      <th>count</th>\n",
       "    </tr>\n",
       "  </thead>\n",
       "  <tbody>\n",
       "    <tr>\n",
       "      <th>0</th>\n",
       "      <td>en</td>\n",
       "      <td>10165</td>\n",
       "    </tr>\n",
       "    <tr>\n",
       "      <th>1</th>\n",
       "      <td>id</td>\n",
       "      <td>4601</td>\n",
       "    </tr>\n",
       "    <tr>\n",
       "      <th>2</th>\n",
       "      <td>es</td>\n",
       "      <td>2423</td>\n",
       "    </tr>\n",
       "    <tr>\n",
       "      <th>3</th>\n",
       "      <td>pt</td>\n",
       "      <td>2062</td>\n",
       "    </tr>\n",
       "    <tr>\n",
       "      <th>4</th>\n",
       "      <td>uk</td>\n",
       "      <td>144</td>\n",
       "    </tr>\n",
       "    <tr>\n",
       "      <th>5</th>\n",
       "      <td>ru</td>\n",
       "      <td>133</td>\n",
       "    </tr>\n",
       "    <tr>\n",
       "      <th>6</th>\n",
       "      <td>de</td>\n",
       "      <td>114</td>\n",
       "    </tr>\n",
       "    <tr>\n",
       "      <th>7</th>\n",
       "      <td>fr</td>\n",
       "      <td>107</td>\n",
       "    </tr>\n",
       "    <tr>\n",
       "      <th>8</th>\n",
       "      <td>pl</td>\n",
       "      <td>69</td>\n",
       "    </tr>\n",
       "    <tr>\n",
       "      <th>9</th>\n",
       "      <td>ar</td>\n",
       "      <td>64</td>\n",
       "    </tr>\n",
       "  </tbody>\n",
       "</table>\n",
       "</div>"
      ],
      "text/plain": [
       "  language  count\n",
       "0       en  10165\n",
       "1       id   4601\n",
       "2       es   2423\n",
       "3       pt   2062\n",
       "4       uk    144\n",
       "5       ru    133\n",
       "6       de    114\n",
       "7       fr    107\n",
       "8       pl     69\n",
       "9       ar     64"
      ]
     },
     "execution_count": 25,
     "metadata": {},
     "output_type": "execute_result"
    }
   ],
   "source": [
    "primaryLangs.head(10)"
   ]
  },
  {
   "cell_type": "markdown",
   "metadata": {},
   "source": [
    "#### Bar plot of the 10 most common languages in which OJS users publish their articles  (*n*=20,416) <br>\n",
    "Each bar represents the proportion of journals for which the specified language is their primary publishing language."
   ]
  },
  {
   "cell_type": "code",
   "execution_count": 26,
   "metadata": {},
   "outputs": [
    {
     "data": {
      "image/png": "[encoded data removed]",
      "text/plain": [
       "<Figure size 432x288 with 1 Axes>"
      ]
     },
     "metadata": {
      "needs_background": "light"
     },
     "output_type": "display_data"
    }
   ],
   "source": [
    "%matplotlib inline\n",
    "\n",
    "fig, ax = matplotlib.pyplot.subplots()\n",
    "\n",
    "sns.set_theme()\n",
    "sns.set_style()\n",
    "sns.set_style('whitegrid')\n",
    "sns.set_color_codes()\n",
    "\n",
    "lang = sns.barplot(x=primaryLangs['count'][:10],\n",
    "                   y=['English', 'Bahasa Indonesia', 'Spanish', 'Portuguese', 'Ukrainian',\n",
    "                      'Russian', 'German', 'French', 'Polish', 'Arabic'],\n",
    "                   data=primaryLangs,\n",
    "                   orient='h',\n",
    "                   color='grey')\n",
    "\n",
    "ax.set(xlim=(0, 12000),\n",
    "       xlabel=\"Active journals using OJS\",\n",
    "       ylabel=\"Language\")\n",
    "\n",
    "\n",
    "matplotlib.pyplot.xticks([2000, 4000, 6000, 8000, 10000],\n",
    "                         ['2,000', '4,000', '6,000', '8,000', '10,000'])\n",
    "\n",
    "for p in lang.patches:\n",
    "    _x = p.get_x() + p.get_width()\n",
    "    _y = p.get_y() + p.get_height() - 0.2\n",
    "    percent = round(((p.get_width() / total) * 100), 1)\n",
    "    value = '{}'.format(str(percent)+'%')\n",
    "    lang.text(_x + 100, _y, value, ha='left', weight='bold')\n",
    "\n",
    "fig.savefig('OJS_top10_langs.png', bbox_inches=('tight'))"
   ]
  },
  {
   "cell_type": "markdown",
   "metadata": {},
   "source": [
    "#### Bar plot of multilingualism among journals using OJS  (*n*=20,228) <br>\n",
    "Each bar represents the proportion of journals that published **5 or more articles in each of their publishing languages**."
   ]
  },
  {
   "cell_type": "code",
   "execution_count": 27,
   "metadata": {},
   "outputs": [],
   "source": [
    "multilingual = defaultdict(list)\n",
    "for k, v in issn_to_language.items():\n",
    "    for language in Counter(v).items():\n",
    "        if language[1] >= 5: #If the the number of article abstracts tagged as a given language ('en') exceeds 5\n",
    "            multilingual[k].append(language[0]) #Append the language (e.g.,'en') to a language list for the journal"
   ]
  },
  {
   "cell_type": "code",
   "execution_count": 28,
   "metadata": {},
   "outputs": [
    {
     "name": "stdout",
     "output_type": "stream",
     "text": [
      "Total: 20228 journals\n",
      "Average number of languages per journal: 1.670011864741942\n"
     ]
    }
   ],
   "source": [
    "multilingual_counts = defaultdict(int)\n",
    "array_lengths = []\n",
    "\n",
    "for k, v in multilingual.items():\n",
    "    multiplier = len(v)\n",
    "    array_lengths.append(multiplier)\n",
    "    if multiplier >= 3:\n",
    "        multilingual_counts['Multi- (3+ languages)'] += 1\n",
    "    elif multiplier == 2:\n",
    "        multilingual_counts['Bi- (2 languages)'] += 1\n",
    "    elif multiplier == 1:\n",
    "        multilingual_counts['Mono- (1 language)'] += 1\n",
    "    else:\n",
    "        continue\n",
    "        \n",
    "total = 0\n",
    "for v in multilingual_counts.values():\n",
    "    total += v\n",
    "#Print n\n",
    "print('Total: {} journals'.format(total))\n",
    "\n",
    "#Print average length of language list per journal\n",
    "print('Average number of languages per journal: {}'.format( np.array(array_lengths).mean() ))"
   ]
  },
  {
   "cell_type": "code",
   "execution_count": 29,
   "metadata": {},
   "outputs": [
    {
     "data": {
      "text/plain": [
       "Index(['Mono- (1 language)', 'Bi- (2 languages)', 'Multi- (3+ languages)'], dtype='object')"
      ]
     },
     "execution_count": 29,
     "metadata": {},
     "output_type": "execute_result"
    }
   ],
   "source": [
    "multilingual_dist = pd.Series(multilingual_counts)\n",
    "\n",
    "multilingual_dist.sort_values(ascending=False, inplace=True)\n",
    "\n",
    "multilingual_dist.index"
   ]
  },
  {
   "cell_type": "code",
   "execution_count": 30,
   "metadata": {},
   "outputs": [
    {
     "data": {
      "image/png": "[encoded data removed]",
      "text/plain": [
       "<Figure size 432x288 with 1 Axes>"
      ]
     },
     "metadata": {
      "needs_background": "light"
     },
     "output_type": "display_data"
    }
   ],
   "source": [
    "%matplotlib inline\n",
    "\n",
    "fig, ax = matplotlib.pyplot.subplots()\n",
    "\n",
    "mult = sns.barplot(y=multilingual_dist.index,\n",
    "                   x=multilingual_dist.values,\n",
    "                   orient='h',\n",
    "                   color='grey')\n",
    "\n",
    "ax.set(xlim=(0, 12000),\n",
    "       xlabel=\"Active journals using OJS\",\n",
    "       ylabel=\"*-lingual journals\")\n",
    "\n",
    "matplotlib.pyplot.xticks([2000, 4000, 6000, 8000, 10000],\n",
    "                         ['2,000', '4,000', '6,000', '8,000', '10,000'])\n",
    "\n",
    "for p in mult.patches:\n",
    "    _x = p.get_x() + p.get_width()\n",
    "    _y = p.get_y() + p.get_height() - 0.3\n",
    "    percent = round(((p.get_width() / total) * 100), 1)\n",
    "    value = '{}'.format(str(percent)+'%')\n",
    "    mult.text(_x + 250, _y, value, ha='left', weight='bold')\n",
    "\n",
    "fig.savefig('OJS_multilingual.png', bbox_inches=('tight'))"
   ]
  },
  {
   "cell_type": "markdown",
   "metadata": {},
   "source": [
    "## Disciplines (In Progress) <a name=disciplines></a>"
   ]
  },
  {
   "cell_type": "markdown",
   "metadata": {},
   "source": [
    "import pandas as pd\n",
    "from fosc import load_model, vectorize\n",
    "from fosc.config import config"
   ]
  },
  {
   "cell_type": "markdown",
   "metadata": {},
   "source": [
    "model_id = 'mlp_l'\n",
    "model = load_model(model_id)"
   ]
  },
  {
   "cell_type": "markdown",
   "metadata": {},
   "source": [
    "df = pd.DataFrame(\n",
    "    [\n",
    "        { \"id\": \"Information and Computer Science Example\",\n",
    "          \"payload\": \"Automated classification of metadata of research\" \\\n",
    "                     \" data by their discipline(s) of research can be used\" \\\n",
    "                     \" in scientometric research, by repository service providers,\" \\\n",
    "                     \" and in the context of research data aggregation services.\" \\\n",
    "                     \" Openly available metadata of the DataCite index for research\"\\\n",
    "                     \" data were used to compile a large training and evaluation set\" \\\n",
    "                     \" comprised of 609,524 records, which is published alongside this\" \\\n",
    "                     \" paper. These data allow to reproducibly assess classification\" \\\n",
    "                     \" approaches, such as tree-based models and neural networks.\" \\\n",
    "                     \" According to our experiments with 20 base classes (multi-label\" \\\n",
    "                     \" classification), multi-layer perceptron models perform best with\" \\\n",
    "                     \" a f1-macro score of 0.760 closely followed by Long Short-Term Memory\" \\\n",
    "                     \" models (f1-macro score of 0.755). A possible application of the\" \\\n",
    "                     \" trained classification models is the quantitative analysis of trends\" \\\n",
    "                     \" towards interdisciplinarity of digital scholarly output or the\" \\\n",
    "                     \" characterization of growth patterns of research data, stratified\" \\\n",
    "                     \" by discipline of research. Both applications perform at scale with\" \\\n",
    "                     \" the proposed models which are available for re-use.\"\n",
    "         } \n",
    "    ]\n",
    ")"
   ]
  },
  {
   "cell_type": "markdown",
   "metadata": {},
   "source": [
    "vectorized = vectorize(df.payload, model_id).sort_indices()\n",
    "preds = pd.DataFrame(model.predict(vectorized))\n",
    "df = df.join(preds)\n",
    "df"
   ]
  },
  {
   "cell_type": "markdown",
   "metadata": {},
   "source": [
    "## World Bank income groups<a name=\"worldbank\"></a>\n",
    "Determine the number of active OJS journals by country, then group countries by income using World Bank GNI data*:\n",
    "https://datahelpdesk.worldbank.org/knowledgebase/articles/906519-world-bank-country-and-lending-groups <br>\n",
    "*GNI data is updated as of FY22 but reflects 2020 data"
   ]
  },
  {
   "cell_type": "markdown",
   "metadata": {},
   "source": [
    "Rename the beaconActive DataFrame's 'country_consolidated' variable as 'tld' (top-level domain):"
   ]
  },
  {
   "cell_type": "code",
   "execution_count": 31,
   "metadata": {},
   "outputs": [],
   "source": [
    "beaconActive.rename(columns={'country_consolidated':'tld'}, inplace=True)"
   ]
  },
  {
   "cell_type": "markdown",
   "metadata": {},
   "source": [
    "#### Preprocess the World Bank country and lending group dataset (12/2021):"
   ]
  },
  {
   "cell_type": "code",
   "execution_count": 32,
   "metadata": {},
   "outputs": [],
   "source": [
    "wbGroups = pd.read_excel('data/wb_tlds.xlsx')"
   ]
  },
  {
   "cell_type": "code",
   "execution_count": 33,
   "metadata": {},
   "outputs": [],
   "source": [
    "#Select only the country, income_group, and tld variables, and rename them accordingly:\n",
    "wbGroups = wbGroups[['Economy',\n",
    "                       'Income group',\n",
    "                       'Domain']]\n",
    "wbGroups.rename(columns={'Economy':'country','Income group':'income_group','Domain':'tld'}, inplace=True)"
   ]
  },
  {
   "cell_type": "code",
   "execution_count": 34,
   "metadata": {},
   "outputs": [
    {
     "data": {
      "text/plain": [
       "country         0\n",
       "income_group    0\n",
       "tld             1\n",
       "dtype: int64"
      ]
     },
     "execution_count": 34,
     "metadata": {},
     "output_type": "execute_result"
    }
   ],
   "source": [
    "wbGroups.isnull().sum()"
   ]
  },
  {
   "cell_type": "code",
   "execution_count": 35,
   "metadata": {},
   "outputs": [
    {
     "data": {
      "text/html": [
       "<div>\n",
       "<style scoped>\n",
       "    .dataframe tbody tr th:only-of-type {\n",
       "        vertical-align: middle;\n",
       "    }\n",
       "\n",
       "    .dataframe tbody tr th {\n",
       "        vertical-align: top;\n",
       "    }\n",
       "\n",
       "    .dataframe thead th {\n",
       "        text-align: right;\n",
       "    }\n",
       "</style>\n",
       "<table border=\"1\" class=\"dataframe\">\n",
       "  <thead>\n",
       "    <tr style=\"text-align: right;\">\n",
       "      <th></th>\n",
       "      <th>country</th>\n",
       "      <th>income_group</th>\n",
       "      <th>tld</th>\n",
       "    </tr>\n",
       "  </thead>\n",
       "  <tbody>\n",
       "    <tr>\n",
       "      <th>141</th>\n",
       "      <td>Namibia</td>\n",
       "      <td>Upper middle income</td>\n",
       "      <td>NaN</td>\n",
       "    </tr>\n",
       "  </tbody>\n",
       "</table>\n",
       "</div>"
      ],
      "text/plain": [
       "     country         income_group  tld\n",
       "141  Namibia  Upper middle income  NaN"
      ]
     },
     "execution_count": 35,
     "metadata": {},
     "output_type": "execute_result"
    }
   ],
   "source": [
    "#There is one missing 'tld' value\n",
    "wbGroups[wbGroups['tld'].isnull()]"
   ]
  },
  {
   "cell_type": "code",
   "execution_count": 36,
   "metadata": {},
   "outputs": [],
   "source": [
    "#Namibia is missing! The top-level domain 'NA' read into pandas as NaN\n",
    "#Change NaN to NA in the 'tld' column for both DataFrames\n",
    "wbGroups['tld'] = np.where(wbGroups['tld'].isnull(), 'NA', wbGroups['tld'])\n",
    "beaconActive['tld'] = np.where(beaconActive['oai_url'].str.contains('.na/'), 'NA', beaconActive['tld'])"
   ]
  },
  {
   "cell_type": "code",
   "execution_count": 37,
   "metadata": {},
   "outputs": [
    {
     "name": "stdout",
     "output_type": "stream",
     "text": [
      "<class 'pandas.core.frame.DataFrame'>\n",
      "RangeIndex: 139 entries, 0 to 138\n",
      "Data columns (total 4 columns):\n",
      " #   Column        Non-Null Count  Dtype \n",
      "---  ------        --------------  ----- \n",
      " 0   index         139 non-null    int64 \n",
      " 1   country       139 non-null    object\n",
      " 2   income_group  139 non-null    object\n",
      " 3   tld           139 non-null    object\n",
      "dtypes: int64(1), object(3)\n",
      "memory usage: 4.5+ KB\n"
     ]
    }
   ],
   "source": [
    "#Filter the World Bank income class dataset to include only those countries that match beaconActive:\n",
    "wbGroups = wbGroups[wbGroups['tld'].isin(beaconActive['tld'])].reset_index()\n",
    "wbGroups.info()"
   ]
  },
  {
   "cell_type": "code",
   "execution_count": 38,
   "metadata": {},
   "outputs": [
    {
     "data": {
      "text/html": [
       "<div>\n",
       "<style scoped>\n",
       "    .dataframe tbody tr th:only-of-type {\n",
       "        vertical-align: middle;\n",
       "    }\n",
       "\n",
       "    .dataframe tbody tr th {\n",
       "        vertical-align: top;\n",
       "    }\n",
       "\n",
       "    .dataframe thead th {\n",
       "        text-align: right;\n",
       "    }\n",
       "</style>\n",
       "<table border=\"1\" class=\"dataframe\">\n",
       "  <thead>\n",
       "    <tr style=\"text-align: right;\">\n",
       "      <th></th>\n",
       "      <th>index</th>\n",
       "      <th>country</th>\n",
       "      <th>income_group</th>\n",
       "      <th>tld</th>\n",
       "    </tr>\n",
       "  </thead>\n",
       "  <tbody>\n",
       "    <tr>\n",
       "      <th>134</th>\n",
       "      <td>216</td>\n",
       "      <td>Kosovo</td>\n",
       "      <td>Upper middle income</td>\n",
       "      <td>AL</td>\n",
       "    </tr>\n",
       "  </tbody>\n",
       "</table>\n",
       "</div>"
      ],
      "text/plain": [
       "     index country         income_group tld\n",
       "134    216  Kosovo  Upper middle income  AL"
      ]
     },
     "execution_count": 38,
     "metadata": {},
     "output_type": "execute_result"
    }
   ],
   "source": [
    "#Check for duplicates in the 'tld' column \n",
    "wbGroups[wbGroups['tld'].duplicated()]"
   ]
  },
  {
   "cell_type": "code",
   "execution_count": 39,
   "metadata": {},
   "outputs": [],
   "source": [
    "#Kosovo shares a top-level domain with Albania. But both Kosovo and Albania belong to the same income_group\n",
    "#Merging on 'tld', so delete Kosovo for now\n",
    "wbGroups.drop(index=134, inplace=True)"
   ]
  },
  {
   "cell_type": "code",
   "execution_count": 40,
   "metadata": {},
   "outputs": [
    {
     "name": "stdout",
     "output_type": "stream",
     "text": [
      "Low income\n",
      "Lower middle income\n",
      "Upper middle income\n",
      "High income\n",
      "Unclassified\n"
     ]
    }
   ],
   "source": [
    "#Drop the index column\n",
    "wbGroups.drop('index', axis=1, inplace=True)\n",
    "for group in wbGroups['income_group'].unique():\n",
    "    print(group)"
   ]
  },
  {
   "cell_type": "markdown",
   "metadata": {},
   "source": [
    "Change Venezuela's income classification from 'Unclassified' (2021) to its previous classification (2020):"
   ]
  },
  {
   "cell_type": "code",
   "execution_count": 41,
   "metadata": {},
   "outputs": [],
   "source": [
    "wbGroups['income_group'] = np.where(wbGroups['income_group'].str.contains('Unclassified'),\n",
    "                                    'Upper middle income',\n",
    "                                    wbGroups['income_group'])"
   ]
  },
  {
   "cell_type": "markdown",
   "metadata": {},
   "source": [
    "#### Merge the Beacon and World Bank datasets by Top-Level Domain"
   ]
  },
  {
   "cell_type": "code",
   "execution_count": 42,
   "metadata": {},
   "outputs": [],
   "source": [
    "incomeGroups = beaconActive.merge(wbGroups, how='inner', on='tld')"
   ]
  },
  {
   "cell_type": "code",
   "execution_count": 43,
   "metadata": {},
   "outputs": [
    {
     "name": "stdout",
     "output_type": "stream",
     "text": [
      "<class 'pandas.core.frame.DataFrame'>\n",
      "Int64Index: 25651 entries, 0 to 25650\n",
      "Data columns (total 10 columns):\n",
      " #   Column        Non-Null Count  Dtype \n",
      "---  ------        --------------  ----- \n",
      " 0   oai_url       25651 non-null  object\n",
      " 1   set_spec      25651 non-null  object\n",
      " 2   context_name  25651 non-null  object\n",
      " 3   issn          22832 non-null  object\n",
      " 4   tld           25651 non-null  object\n",
      " 5   issn_1        22832 non-null  object\n",
      " 6   issn_2        8419 non-null   object\n",
      " 7   journal_url   25651 non-null  object\n",
      " 8   country       25651 non-null  object\n",
      " 9   income_group  25651 non-null  object\n",
      "dtypes: object(10)\n",
      "memory usage: 2.2+ MB\n"
     ]
    }
   ],
   "source": [
    "#91 rows (25742 - 25651) contain empty 'tld' values, so those have been dropped\n",
    "incomeGroups.info()"
   ]
  },
  {
   "cell_type": "code",
   "execution_count": 44,
   "metadata": {
    "scrolled": true
   },
   "outputs": [
    {
     "data": {
      "text/plain": [
       "oai_url             0\n",
       "set_spec            0\n",
       "context_name        0\n",
       "issn             2819\n",
       "tld                 0\n",
       "issn_1           2819\n",
       "issn_2          17232\n",
       "journal_url         0\n",
       "country             0\n",
       "income_group        0\n",
       "dtype: int64"
      ]
     },
     "execution_count": 44,
     "metadata": {},
     "output_type": "execute_result"
    }
   ],
   "source": [
    "incomeGroups.isnull().sum()"
   ]
  },
  {
   "cell_type": "code",
   "execution_count": 45,
   "metadata": {},
   "outputs": [
    {
     "data": {
      "image/png": "[encoded data removed]",
      "text/plain": [
       "<Figure size 432x288 with 1 Axes>"
      ]
     },
     "metadata": {},
     "output_type": "display_data"
    }
   ],
   "source": [
    "#Plot the distribution of OJS journals by World Bank income group\n",
    "sns.set()\n",
    "sns.set_style('ticks')\n",
    "sns.set_color_codes()\n",
    "inc = sns.countplot(y='income_group', \n",
    "                    order=['Low income',\n",
    "                           'Lower middle income',\n",
    "                           'Upper middle income',\n",
    "                           'High income'],\n",
    "                    data=incomeGroups,\n",
    "                    color='grey')\n",
    "\n",
    "\n",
    "matplotlib.pyplot.xlim(0,20000)\n",
    "\n",
    "matplotlib.pyplot.xticks([2500, 5000, 7500, 10000, 12500, 15000],\n",
    "                         ['2,500', '5,000', '7,500', '10,000', '12,500', '15,000'])\n",
    "\n",
    "for p in inc.patches:\n",
    "    _x = p.get_x() + p.get_width()\n",
    "    _y = p.get_y() + p.get_height() - 0.3\n",
    "    value = '{:,}'.format(p.get_width())\n",
    "    percent = round(((p.get_width() / 25651) * 100), 1)\n",
    "    value = value + ' ({})'.format(str(percent)+'%')\n",
    "    inc.text(_x + 250, _y, value, ha='left')\n",
    "\n",
    "inc.set(xlabel='Active journals using OJS', ylabel='World Bank income group')\n",
    "inc.figure.savefig('OJS_income_groups.png', bbox_inches='tight')"
   ]
  },
  {
   "cell_type": "markdown",
   "metadata": {},
   "source": [
    "## Index Overlap <a name=\"index\"></a>"
   ]
  }
 ],
 "metadata": {
  "kernelspec": {
   "display_name": "Python 3 (ipykernel)",
   "language": "python",
   "name": "python3"
  },
  "language_info": {
   "codemirror_mode": {
    "name": "ipython",
    "version": 3
   },
   "file_extension": ".py",
   "mimetype": "text/x-python",
   "name": "python",
   "nbconvert_exporter": "python",
   "pygments_lexer": "ipython3",
   "version": "3.7.12"
  }
 },
 "nbformat": 4,
 "nbformat_minor": 4
}
