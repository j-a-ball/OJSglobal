{
 "cells": [
  {
   "cell_type": "code",
   "execution_count": 2,
   "metadata": {},
   "outputs": [],
   "source": [
    "import pandas as pd\n",
    "import json\n",
    "import lxml\n",
    "import sys\n",
    "import os\n",
    "from lxml import html\n",
    "from tqdm import tqdm\n",
    "from collections import defaultdict, Counter"
   ]
  },
  {
   "cell_type": "code",
   "execution_count": 3,
   "metadata": {},
   "outputs": [
    {
     "name": "stdout",
     "output_type": "stream",
     "text": [
      "<class 'dict'>\n"
     ]
    }
   ],
   "source": [
    "with open (\"data/issn2json.json\", \"r\") as f:\n",
    "    issn2json = json.load(f)\n",
    "print(f\"type: {type(issn2json)}\")\n",
    "print(f\"size: {sys.getsizeof(issn2json)}\")"
   ]
  },
  {
   "cell_type": "code",
   "execution_count": 51,
   "metadata": {},
   "outputs": [
    {
     "name": "stdout",
     "output_type": "stream",
     "text": [
      "{'@graph': [{'@id': 'http://id.loc.gov/vocabulary/countries/no', 'label': 'Norway'}, {'@id': 'organization/ISSNCenter#_r', '@type': 'http://schema.org/Organization'}, {'@id': 'resource/ISSN-L/0032-8847', 'identifiedBy': 'resource/ISSN/0032-8847#ISSN-L'}, {'@id': 'resource/ISSN/0032-8847', 'identifiedBy': ['resource/ISSN/0032-8847#KeyTitle', 'resource/ISSN/0032-8847#ISSN-L'], 'mainTitle': 'Prismet', 'otherPhysicalFormat': 'resource/ISSN/2535-311X', 'title': 'resource/ISSN/0032-8847#KeyTitle', 'format': 'vocabularies/medium#Print', 'isFormatOf': 'resource/ISSN/2535-311X', 'type': 'http://marc21rdf.info/terms/formofmaterial#a', 'isPartOf': 'resource/ISSN-L/0032-8847', 'name': ['Prismet', 'Prismet (Oslo)'], 'publication': 'resource/ISSN/0032-8847#ReferencePublicationEvent', 'url': 'https://www.nb.no/search?q=seriestitleid:\"oai:nb.bibsys.no:998520425584702202\"&mediatype=tidsskrift'}, {'@id': 'resource/ISSN/0032-8847#ISSN-L', '@type': 'http://id.loc.gov/ontologies/bibframe/IssnL', 'status': 'vocabularies/IdentifierStatus#Valid', 'value': '0032-8847'}, {'@id': 'resource/ISSN/0032-8847#KeyTitle', '@type': ['http://id.loc.gov/ontologies/bibframe/Identifier', 'http://id.loc.gov/ontologies/bibframe/KeyTitle'], 'value': 'Prismet (Oslo)'}, {'@id': 'resource/ISSN/0032-8847#Record', '@type': 'http://schema.org/CreativeWork', 'modified': '20230615085220.689591', 'mainEntity': 'resource/ISSN/0032-8847', 'wasAttributedTo': 'organization/ISSNCenter#_r'}, {'@id': 'resource/ISSN/0032-8847#ReferencePublicationEvent', '@type': 'http://schema.org/PublicationEvent', 'location': 'http://id.loc.gov/vocabulary/countries/no'}], '@context': {'location': {'@id': 'http://schema.org/location', '@type': '@id'}, 'value': {'@id': 'http://www.w3.org/1999/02/22-rdf-syntax-ns#value'}, 'status': {'@id': 'http://id.loc.gov/ontologies/bibframe/status', '@type': '@id'}, 'url': {'@id': 'http://schema.org/url'}, 'name': {'@id': 'http://schema.org/name'}, 'publication': {'@id': 'http://schema.org/publication', '@type': '@id'}, 'otherPhysicalFormat': {'@id': 'http://id.loc.gov/ontologies/bibframe/otherPhysicalFormat', '@type': '@id'}, 'format': {'@id': 'http://purl.org/dc/elements/1.1/format', '@type': '@id'}, 'title': {'@id': 'http://id.loc.gov/ontologies/bibframe/title', '@type': '@id'}, 'identifiedBy': {'@id': 'http://id.loc.gov/ontologies/bibframe/identifiedBy', '@type': '@id'}, 'isFormatOf': {'@id': 'http://purl.org/dc/terms/isFormatOf', '@type': '@id'}, 'mainTitle': {'@id': 'http://id.loc.gov/ontologies/bibframe/mainTitle'}, 'isPartOf': {'@id': 'http://schema.org/isPartOf', '@type': '@id'}, 'type': {'@id': 'http://purl.org/dc/terms/type', '@type': '@id'}, 'modified': {'@id': 'http://purl.org/dc/terms/modified', '@type': 'http://www.w3.org/2001/XMLSchema#dateTime'}, 'wasAttributedTo': {'@id': 'http://www.w3.org/ns/prov#wasAttributedTo', '@type': '@id'}, 'mainEntity': {'@id': 'http://schema.org/mainEntity', '@type': '@id'}, 'label': {'@id': 'http://www.w3.org/2000/01/rdf-schema#label'}}}\n",
      "JSON decode error\n"
     ]
    }
   ],
   "source": [
    "seen = set()\n",
    "for k, v in issn2json.items():\n",
    "    if type(v) not in seen:\n",
    "        print(v)\n",
    "    seen.add(type(v))"
   ]
  },
  {
   "cell_type": "code",
   "execution_count": 52,
   "metadata": {},
   "outputs": [
    {
     "name": "stdout",
     "output_type": "stream",
     "text": [
      "number of json responses: 79143\n"
     ]
    }
   ],
   "source": [
    "issn2json = {k: v for k, v in issn2json.items() if not isinstance(v, str)}\n",
    "print(f\"number of json responses: {len(issn2json)}\")"
   ]
  },
  {
   "cell_type": "code",
   "execution_count": 53,
   "metadata": {},
   "outputs": [
    {
     "name": "stdout",
     "output_type": "stream",
     "text": [
      "keys: dict_keys(['@graph', '@context'])\n"
     ]
    }
   ],
   "source": [
    "d = next(iter(issn2json.values()))\n",
    "print(f\"keys: {d.keys()}\")"
   ]
  },
  {
   "cell_type": "code",
   "execution_count": 56,
   "metadata": {},
   "outputs": [
    {
     "name": "stdout",
     "output_type": "stream",
     "text": [
      "keys: {'error', 'exception', 'status', 'message', '@graph', 'timestamp', 'path', '@context'}\n"
     ]
    }
   ],
   "source": [
    "keys = set()\n",
    "for d in issn2json.values():\n",
    "    for k in d.keys():\n",
    "        keys.add(k)\n",
    "print(f\"keys: {keys}\")"
   ]
  },
  {
   "cell_type": "code",
   "execution_count": 60,
   "metadata": {},
   "outputs": [
    {
     "name": "stdout",
     "output_type": "stream",
     "text": [
      "{'timestamp': '2023-09-13T21:07:35.051+0000', 'status': 500, 'error': 'Internal Server Error', 'exception': 'org.marc4j.util.JsonParser$Escape', 'message': 'A string value cannot contain data after its closing quote (this is most likely caused by a missing comma between members); at Input Source: \"MarcInput\", Line: 1, Column: 1776, Member Name: ind1', 'path': '/restricted-api/rest/rdf/json'}\n",
      "number of errors: 34\n",
      "number of exceptions: 34\n"
     ]
    }
   ],
   "source": [
    "for d in issn2json.values():\n",
    "    if \"error\" in d.keys():\n",
    "        print(d)\n",
    "        break\n",
    "\n",
    "print(f\"number of errors: {len([d for d in issn2json.values() if 'error' in d])}\")\n",
    "print(f\"number of exceptions: {len([d for d in issn2json.values() if 'exception' in d])}\")"
   ]
  },
  {
   "cell_type": "code",
   "execution_count": 61,
   "metadata": {},
   "outputs": [
    {
     "name": "stdout",
     "output_type": "stream",
     "text": [
      "number of json responses: 79109\n"
     ]
    }
   ],
   "source": [
    "issn2json = {k: v for k, v in issn2json.items() if \"error\" not in v}\n",
    "print(f\"number of json responses: {len(issn2json)}\")"
   ]
  },
  {
   "cell_type": "code",
   "execution_count": 63,
   "metadata": {},
   "outputs": [
    {
     "name": "stdout",
     "output_type": "stream",
     "text": [
      "num records: 79109\n",
      "num json responses: 79109\n",
      "num titles: 78407\n"
     ]
    }
   ],
   "source": [
    "print(f\"num records: {len(issn2json)}\")\n",
    "valid = [rec for rec in issn2json.values() if isinstance(rec, dict)]\n",
    "print(f\"num json responses: {len(valid)}\")\n",
    "# nested list comprehension that returns the number of dicts in issn2json.values() that have a key 'mainTitle' in one of the dictionaries listed at the key '@graph'\n",
    "titles = [(k, title) for k, rec in issn2json.items() for title in rec[\"@graph\"] if \"mainTitle\" in title]\n",
    "print(f\"num titles: {len(titles)}\")"
   ]
  },
  {
   "cell_type": "code",
   "execution_count": 67,
   "metadata": {},
   "outputs": [
    {
     "name": "stdout",
     "output_type": "stream",
     "text": [
      "num titles: 78407\n",
      "[('0032-8847', 'Prismet'), ('2595-9204', 'Revista Summa Sapientiae.'), ('2654-8097', 'Jurnal Akuntansi dan Pasar Modal.'), ('2655-1772', 'Prosiding Asis.'), ('1984-0098', 'Mythos.')]\n"
     ]
    }
   ],
   "source": [
    "issn2title = [(k, title[\"mainTitle\"]) for k, rec in issn2json.items() for title in rec[\"@graph\"] if \"mainTitle\" in title]\n",
    "print(f\"num titles: {len(issn2title)}\")\n",
    "print(issn2title[:5])"
   ]
  },
  {
   "cell_type": "code",
   "execution_count": 68,
   "metadata": {},
   "outputs": [],
   "source": [
    "issn2title = dict(issn2title)\n",
    "with open(\"data/issn2title.json\", \"w\") as f:\n",
    "    json.dump(issn2title, f)"
   ]
  },
  {
   "cell_type": "code",
   "execution_count": 74,
   "metadata": {},
   "outputs": [
    {
     "data": {
      "text/plain": [
       "'Prismet'"
      ]
     },
     "execution_count": 74,
     "metadata": {},
     "output_type": "execute_result"
    }
   ],
   "source": [
    "next(iter(issn2title.values()))"
   ]
  },
  {
   "cell_type": "code",
   "execution_count": 76,
   "metadata": {},
   "outputs": [
    {
     "name": "stdout",
     "output_type": "stream",
     "text": [
      "Prismet\n",
      "['Cifrova platforma: ìnformacìjnì tehnologìï v socìokulʹturnìj sferì.', 'Цифрова платформа: інформаційні технології в соціокультурній сфері.']\n"
     ]
    }
   ],
   "source": [
    "seen = set()\n",
    "for k, v in issn2title.items():\n",
    "    if type(v) not in seen:\n",
    "        print(v)\n",
    "    seen.add(type(v))"
   ]
  },
  {
   "cell_type": "code",
   "execution_count": 77,
   "metadata": {},
   "outputs": [
    {
     "name": "stdout",
     "output_type": "stream",
     "text": [
      "num unique titles: 60231\n"
     ]
    }
   ],
   "source": [
    "#unique titles\n",
    "unique_titles = set([t[0] if isinstance(t, list) else t for t in issn2title.values()])\n",
    "print(f\"num unique titles: {len(unique_titles)}\")"
   ]
  },
  {
   "cell_type": "code",
   "execution_count": 80,
   "metadata": {},
   "outputs": [
    {
     "name": "stdout",
     "output_type": "stream",
     "text": [
      "num missing issns: 282\n"
     ]
    }
   ],
   "source": [
    "with open(\"data/ukr_missing_issns_from_01jul2023_to_11jul2023.csv\", \"r\") as f:\n",
    "    missing_issns = list(line for line in f.read().split(\"\\n\") if line)[1:]\n",
    "print(f\"num missing issns: {len(missing_issns)}\")"
   ]
  },
  {
   "cell_type": "code",
   "execution_count": 82,
   "metadata": {},
   "outputs": [
    {
     "name": "stdout",
     "output_type": "stream",
     "text": [
      "2309-1533 ['Ìнноваційна економіка.', 'Ìnnovacìjna ekonomìka.']\n",
      "2310-4864 ['Ìнноваційна економіка.', 'Ìnnovacìjna ekonomìka.']\n",
      "2520-2626 ['Українознавчий альманах.', 'Ukraïnoznavčij alʹmanah.']\n",
      "2709-8400 ['Технології електронного навчання.', 'Tehnologìï elektronnogo navčannâ.']\n",
      "2221-3805 Elektrotehnìčnì ta komp'ûternì sistemi.\n",
      "2221-3937 [\"Elektrotehnìčnì ta komp'ûternì sistemi.\", \"Електротехнічні та комп'ютерні системи.\"]\n",
      "2312-3125 ['Автоматизация технологических и бизнес-процессов.', 'Avtomatizaciâ tehnologičeskih i biznes-processov.']\n",
      "2312-931X ['Автоматизация технологических и бизнес-процессов.', 'Avtomatizaciâ tehnologičeskih i biznes-processov.']\n",
      "2312-847X ['Економіка харчової промисловості.', 'Ekonomìka harčovoï promislovostì.']\n",
      "2411-4111 ['Ekonomìka harčovoï promislovostì.', 'Економіка харчової промисловості.']\n"
     ]
    }
   ],
   "source": [
    "for issn in missing_issns[:10]:\n",
    "    if issn in issn2title:\n",
    "        print(issn, issn2title[issn])"
   ]
  }
 ],
 "metadata": {
  "kernelspec": {
   "display_name": "nlu",
   "language": "python",
   "name": "python3"
  },
  "language_info": {
   "codemirror_mode": {
    "name": "ipython",
    "version": 3
   },
   "file_extension": ".py",
   "mimetype": "text/x-python",
   "name": "python",
   "nbconvert_exporter": "python",
   "pygments_lexer": "ipython3",
   "version": "3.9.13"
  },
  "orig_nbformat": 4
 },
 "nbformat": 4,
 "nbformat_minor": 2
}
