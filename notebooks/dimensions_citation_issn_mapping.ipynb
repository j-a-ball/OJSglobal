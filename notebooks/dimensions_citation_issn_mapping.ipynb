{
 "cells": [
  {
   "cell_type": "code",
   "execution_count": 1,
   "metadata": {},
   "outputs": [],
   "source": [
    "__author__ = \"Jon Ball\"\n",
    "__version__ = \"June 2024\""
   ]
  },
  {
   "cell_type": "code",
   "execution_count": 2,
   "metadata": {},
   "outputs": [],
   "source": [
    "import re\n",
    "import json\n",
    "import numpy as np\n",
    "import pandas as pd\n",
    "from collections import defaultdict\n",
    "from numpy import array # needed for eval()"
   ]
  },
  {
   "cell_type": "code",
   "execution_count": 3,
   "metadata": {},
   "outputs": [
    {
     "name": "stdout",
     "output_type": "stream",
     "text": [
      "60709\n"
     ]
    }
   ],
   "source": [
    "with open(\"data/issns_active_2022.txt\", \"r\") as infile:\n",
    "    issnsActive = list(line.strip() for line in infile.readlines())\n",
    "issnsActive = {issn: 1 for issn in issnsActive if issn}\n",
    "print(len(issnsActive))"
   ]
  },
  {
   "cell_type": "code",
   "execution_count": 4,
   "metadata": {},
   "outputs": [],
   "source": [
    "def get_edges(row):\n",
    "    # for each unique publication in the dimensions data\n",
    "    pub_id = row[\"publication_id\"]\n",
    "    # if the ISSN indicates a 2022 active OJS context\n",
    "    if row[\"issn\"] in issnsActive or row[\"eissn\"] in issnsActive:\n",
    "        # get publication_id for each document it references\n",
    "        ref_ids =  list(set([s.strip(\"'\") for s in row[\"reference_ids\"].strip(\"[]\").split()])) if \"[]\" not in row[\"reference_ids\"] else []\n",
    "        # get publication_id for each document that cites it\n",
    "        cite_ids = list(set([d[\"id\"] for d in [eval(s) for s in re.split(r\"\\.*\\n+\\.*\", row[\"citing_ids\"].strip(\"[]\"))]])) if \"[]\" not in row[\"citing_ids\"] else []\n",
    "        # define edges in the citation graph\n",
    "        V = [(pub_id, ref_id) for ref_id in ref_ids if ref_id]\n",
    "        V += [(cite_id, pub_id) for cite_id in cite_ids if cite_id]\n",
    "        return V\n",
    "    else:\n",
    "        return None"
   ]
  },
  {
   "cell_type": "code",
   "execution_count": 5,
   "metadata": {},
   "outputs": [],
   "source": [
    "def get_issns(row):\n",
    "    # if an ISSN is provided\n",
    "    issn = row[\"issn\"]\n",
    "    issn = issn.strip() if isinstance(issn, str) else \"\"\n",
    "    # if an E-ISSN is provided\n",
    "    eissn = row[\"eissn\"]\n",
    "    eissn = eissn.strip() if isinstance(eissn, str) else \"\"\n",
    "    # join ISSN and E-ISSN if both are present, else take either\n",
    "    if issn and eissn:\n",
    "        issns = f\"{issn}\\n{eissn}\"\n",
    "    elif issn:\n",
    "        issns = issn\n",
    "    elif eissn:\n",
    "        issns = eissn\n",
    "    else:\n",
    "        issns = None\n",
    "    return issns\n"
   ]
  },
  {
   "cell_type": "code",
   "execution_count": 6,
   "metadata": {},
   "outputs": [],
   "source": [
    "def get_id_issn_map(row):\n",
    "    # for each unique publication in the dimensions data\n",
    "    pub_id = row[\"publication_id\"]\n",
    "    # return a mapping of publication_id to ISSN(s)\n",
    "    issns = row[\"issns\"]\n",
    "    return pub_id, issns"
   ]
  },
  {
   "cell_type": "markdown",
   "metadata": {},
   "source": [
    "## references_of_all_pubs.csv - 2022 active ISSNs"
   ]
  },
  {
   "cell_type": "code",
   "execution_count": 7,
   "metadata": {},
   "outputs": [
    {
     "data": {
      "text/html": [
       "<div>\n",
       "<style scoped>\n",
       "    .dataframe tbody tr th:only-of-type {\n",
       "        vertical-align: middle;\n",
       "    }\n",
       "\n",
       "    .dataframe tbody tr th {\n",
       "        vertical-align: top;\n",
       "    }\n",
       "\n",
       "    .dataframe thead th {\n",
       "        text-align: right;\n",
       "    }\n",
       "</style>\n",
       "<table border=\"1\" class=\"dataframe\">\n",
       "  <thead>\n",
       "    <tr style=\"text-align: right;\">\n",
       "      <th></th>\n",
       "      <th>index</th>\n",
       "      <th>publication_id</th>\n",
       "      <th>reference_ids</th>\n",
       "      <th>citing_ids</th>\n",
       "      <th>doi</th>\n",
       "      <th>issn</th>\n",
       "      <th>eissn</th>\n",
       "      <th>type</th>\n",
       "      <th>date</th>\n",
       "      <th>category_for</th>\n",
       "      <th>times_cited</th>\n",
       "      <th>research_org_cities</th>\n",
       "      <th>ur_id</th>\n",
       "      <th>source</th>\n",
       "      <th>research_org_country_names</th>\n",
       "      <th>altmetrics</th>\n",
       "      <th>title</th>\n",
       "      <th>abstract</th>\n",
       "      <th>concepts</th>\n",
       "      <th>idk</th>\n",
       "    </tr>\n",
       "  </thead>\n",
       "  <tbody>\n",
       "    <tr>\n",
       "      <th>0</th>\n",
       "      <td>0</td>\n",
       "      <td>pub.1120627557</td>\n",
       "      <td>[]</td>\n",
       "      <td>[{'id': 'pub.1158208917', 'year': 2023}]</td>\n",
       "      <td>10.35673/ajmpi.v4i1.215</td>\n",
       "      <td>2406-8802</td>\n",
       "      <td>2685-550X</td>\n",
       "      <td>article</td>\n",
       "      <td>2019-07-31</td>\n",
       "      <td>{'first_level': {'codes': array(['43', '50'], ...</td>\n",
       "      <td>{'times_cited': 1, 'recent_citations': 1, 'fie...</td>\n",
       "      <td>[]</td>\n",
       "      <td>['ur.011573102374.79']</td>\n",
       "      <td>{'id': 'jour.1377569', 'title': 'Al-Adalah Jur...</td>\n",
       "      <td>[]</td>\n",
       "      <td>{'id': None, 'score': None}</td>\n",
       "      <td>{'preferred': 'PRAKSIS POLITIK NABI MUHAMMAD S...</td>\n",
       "      <td>{'preferred': \"This paper examines the praxis ...</td>\n",
       "      <td>[{'concept': 'political action', 'relevance': ...</td>\n",
       "      <td>[]</td>\n",
       "    </tr>\n",
       "    <tr>\n",
       "      <th>1</th>\n",
       "      <td>1</td>\n",
       "      <td>pub.1016805418</td>\n",
       "      <td>['pub.1060450759' 'pub.1060527901' 'pub.106052...</td>\n",
       "      <td>[{'id': 'pub.1138140594', 'year': 2021}\\n {'id...</td>\n",
       "      <td>10.1038/294139a0</td>\n",
       "      <td>0028-0836</td>\n",
       "      <td>1476-4687</td>\n",
       "      <td>article</td>\n",
       "      <td>1981-11-01</td>\n",
       "      <td>{'first_level': {'codes': array(['34', '51'], ...</td>\n",
       "      <td>{'times_cited': 120, 'recent_citations': 4, 'f...</td>\n",
       "      <td>['grid.482271.a']</td>\n",
       "      <td>['ur.0770644175.43' 'ur.01133403503.58' 'ur.01...</td>\n",
       "      <td>{'id': 'jour.1018957', 'title': 'Nature', 'iss...</td>\n",
       "      <td>['United Kingdom']</td>\n",
       "      <td>{'id': None, 'score': None}</td>\n",
       "      <td>{'preferred': 'Near-edge X-ray absorption spec...</td>\n",
       "      <td>{'preferred': 'The measurement of X-ray absorp...</td>\n",
       "      <td>[{'concept': 'X-ray absorption fine structure'...</td>\n",
       "      <td>[]</td>\n",
       "    </tr>\n",
       "    <tr>\n",
       "      <th>2</th>\n",
       "      <td>2</td>\n",
       "      <td>pub.1144573636</td>\n",
       "      <td>['pub.1029003997' 'pub.1134779582' 'pub.113470...</td>\n",
       "      <td>[{'id': 'pub.1162918892', 'year': 2023}\\n {'id...</td>\n",
       "      <td>10.3390/w14020151</td>\n",
       "      <td>NaN</td>\n",
       "      <td>2073-4441</td>\n",
       "      <td>article</td>\n",
       "      <td>2022-01-07</td>\n",
       "      <td>{'first_level': {'codes': array(['37', '40'], ...</td>\n",
       "      <td>{'times_cited': 26, 'recent_citations': 26, 'f...</td>\n",
       "      <td>[]</td>\n",
       "      <td>['ur.011257637763.81' 'ur.016141117352.37' 'ur...</td>\n",
       "      <td>{'id': 'jour.1398516', 'title': 'Water', 'issn...</td>\n",
       "      <td>[]</td>\n",
       "      <td>{'id': None, 'score': None}</td>\n",
       "      <td>{'preferred': 'Development of a Distributed Ma...</td>\n",
       "      <td>{'preferred': 'The article is devoted to the p...</td>\n",
       "      <td>[{'concept': 'mathematical model', 'relevance'...</td>\n",
       "      <td>[]</td>\n",
       "    </tr>\n",
       "    <tr>\n",
       "      <th>3</th>\n",
       "      <td>3</td>\n",
       "      <td>pub.1142327767</td>\n",
       "      <td>['pub.1001503523' 'pub.1002062994' 'pub.100313...</td>\n",
       "      <td>[{'id': 'pub.1150797038', 'year': 2022}\\n {'id...</td>\n",
       "      <td>10.1016/j.seta.2021.101661</td>\n",
       "      <td>2213-1388</td>\n",
       "      <td>2213-1396</td>\n",
       "      <td>article</td>\n",
       "      <td>2022-02-01</td>\n",
       "      <td>{'first_level': {'codes': array(['33'], dtype=...</td>\n",
       "      <td>{'times_cited': 32, 'recent_citations': 32, 'f...</td>\n",
       "      <td>['grid.1004.5' 'grid.5037.1']</td>\n",
       "      <td>['ur.011201747573.76' 'ur.01166110143.28']</td>\n",
       "      <td>{'id': 'jour.1144532', 'title': 'Sustainable E...</td>\n",
       "      <td>['Australia' 'Sweden']</td>\n",
       "      <td>{'id': '119980489', 'score': 8}</td>\n",
       "      <td>{'preferred': 'A comparative review on the app...</td>\n",
       "      <td>{'preferred': 'Radiant low-temperature heating...</td>\n",
       "      <td>[{'concept': 'high-temperature cooling', 'rele...</td>\n",
       "      <td>[]</td>\n",
       "    </tr>\n",
       "    <tr>\n",
       "      <th>4</th>\n",
       "      <td>4</td>\n",
       "      <td>pub.1037712872</td>\n",
       "      <td>['pub.1069651355' 'pub.1058573268' 'pub.100770...</td>\n",
       "      <td>[{'id': 'pub.1134429328', 'year': 2021}\\n {'id...</td>\n",
       "      <td>10.1016/0304-3878(81)90004-3</td>\n",
       "      <td>0304-3878</td>\n",
       "      <td>1872-6089</td>\n",
       "      <td>article</td>\n",
       "      <td>1981-08-01</td>\n",
       "      <td>{'first_level': {'codes': array(['38', '44'], ...</td>\n",
       "      <td>{'times_cited': 800, 'recent_citations': 82, '...</td>\n",
       "      <td>['grid.17635.36']</td>\n",
       "      <td>['ur.010256274757.27' 'ur.012552575265.02']</td>\n",
       "      <td>{'id': 'jour.1122871', 'title': 'Journal of De...</td>\n",
       "      <td>['United States']</td>\n",
       "      <td>{'id': '64389583', 'score': 15}</td>\n",
       "      <td>{'preferred': 'The measurement and sources of ...</td>\n",
       "      <td>{'preferred': 'Production function models are ...</td>\n",
       "      <td>[{'concept': 'firm attributes', 'relevance': 0...</td>\n",
       "      <td>[]</td>\n",
       "    </tr>\n",
       "  </tbody>\n",
       "</table>\n",
       "</div>"
      ],
      "text/plain": [
       "   index  publication_id                                      reference_ids  \\\n",
       "0      0  pub.1120627557                                                 []   \n",
       "1      1  pub.1016805418  ['pub.1060450759' 'pub.1060527901' 'pub.106052...   \n",
       "2      2  pub.1144573636  ['pub.1029003997' 'pub.1134779582' 'pub.113470...   \n",
       "3      3  pub.1142327767  ['pub.1001503523' 'pub.1002062994' 'pub.100313...   \n",
       "4      4  pub.1037712872  ['pub.1069651355' 'pub.1058573268' 'pub.100770...   \n",
       "\n",
       "                                          citing_ids  \\\n",
       "0           [{'id': 'pub.1158208917', 'year': 2023}]   \n",
       "1  [{'id': 'pub.1138140594', 'year': 2021}\\n {'id...   \n",
       "2  [{'id': 'pub.1162918892', 'year': 2023}\\n {'id...   \n",
       "3  [{'id': 'pub.1150797038', 'year': 2022}\\n {'id...   \n",
       "4  [{'id': 'pub.1134429328', 'year': 2021}\\n {'id...   \n",
       "\n",
       "                            doi       issn      eissn     type        date  \\\n",
       "0       10.35673/ajmpi.v4i1.215  2406-8802  2685-550X  article  2019-07-31   \n",
       "1              10.1038/294139a0  0028-0836  1476-4687  article  1981-11-01   \n",
       "2             10.3390/w14020151        NaN  2073-4441  article  2022-01-07   \n",
       "3    10.1016/j.seta.2021.101661  2213-1388  2213-1396  article  2022-02-01   \n",
       "4  10.1016/0304-3878(81)90004-3  0304-3878  1872-6089  article  1981-08-01   \n",
       "\n",
       "                                        category_for  \\\n",
       "0  {'first_level': {'codes': array(['43', '50'], ...   \n",
       "1  {'first_level': {'codes': array(['34', '51'], ...   \n",
       "2  {'first_level': {'codes': array(['37', '40'], ...   \n",
       "3  {'first_level': {'codes': array(['33'], dtype=...   \n",
       "4  {'first_level': {'codes': array(['38', '44'], ...   \n",
       "\n",
       "                                         times_cited  \\\n",
       "0  {'times_cited': 1, 'recent_citations': 1, 'fie...   \n",
       "1  {'times_cited': 120, 'recent_citations': 4, 'f...   \n",
       "2  {'times_cited': 26, 'recent_citations': 26, 'f...   \n",
       "3  {'times_cited': 32, 'recent_citations': 32, 'f...   \n",
       "4  {'times_cited': 800, 'recent_citations': 82, '...   \n",
       "\n",
       "             research_org_cities  \\\n",
       "0                             []   \n",
       "1              ['grid.482271.a']   \n",
       "2                             []   \n",
       "3  ['grid.1004.5' 'grid.5037.1']   \n",
       "4              ['grid.17635.36']   \n",
       "\n",
       "                                               ur_id  \\\n",
       "0                             ['ur.011573102374.79']   \n",
       "1  ['ur.0770644175.43' 'ur.01133403503.58' 'ur.01...   \n",
       "2  ['ur.011257637763.81' 'ur.016141117352.37' 'ur...   \n",
       "3         ['ur.011201747573.76' 'ur.01166110143.28']   \n",
       "4        ['ur.010256274757.27' 'ur.012552575265.02']   \n",
       "\n",
       "                                              source  \\\n",
       "0  {'id': 'jour.1377569', 'title': 'Al-Adalah Jur...   \n",
       "1  {'id': 'jour.1018957', 'title': 'Nature', 'iss...   \n",
       "2  {'id': 'jour.1398516', 'title': 'Water', 'issn...   \n",
       "3  {'id': 'jour.1144532', 'title': 'Sustainable E...   \n",
       "4  {'id': 'jour.1122871', 'title': 'Journal of De...   \n",
       "\n",
       "  research_org_country_names                       altmetrics  \\\n",
       "0                         []      {'id': None, 'score': None}   \n",
       "1         ['United Kingdom']      {'id': None, 'score': None}   \n",
       "2                         []      {'id': None, 'score': None}   \n",
       "3     ['Australia' 'Sweden']  {'id': '119980489', 'score': 8}   \n",
       "4          ['United States']  {'id': '64389583', 'score': 15}   \n",
       "\n",
       "                                               title  \\\n",
       "0  {'preferred': 'PRAKSIS POLITIK NABI MUHAMMAD S...   \n",
       "1  {'preferred': 'Near-edge X-ray absorption spec...   \n",
       "2  {'preferred': 'Development of a Distributed Ma...   \n",
       "3  {'preferred': 'A comparative review on the app...   \n",
       "4  {'preferred': 'The measurement and sources of ...   \n",
       "\n",
       "                                            abstract  \\\n",
       "0  {'preferred': \"This paper examines the praxis ...   \n",
       "1  {'preferred': 'The measurement of X-ray absorp...   \n",
       "2  {'preferred': 'The article is devoted to the p...   \n",
       "3  {'preferred': 'Radiant low-temperature heating...   \n",
       "4  {'preferred': 'Production function models are ...   \n",
       "\n",
       "                                            concepts idk  \n",
       "0  [{'concept': 'political action', 'relevance': ...  []  \n",
       "1  [{'concept': 'X-ray absorption fine structure'...  []  \n",
       "2  [{'concept': 'mathematical model', 'relevance'...  []  \n",
       "3  [{'concept': 'high-temperature cooling', 'rele...  []  \n",
       "4  [{'concept': 'firm attributes', 'relevance': 0...  []  "
      ]
     },
     "execution_count": 7,
     "metadata": {},
     "output_type": "execute_result"
    }
   ],
   "source": [
    "ref_df = pd.read_csv(\"data/references_of_all_pubs.csv\", header=None)\n",
    "ref_df.columns = [\"index\", \"publication_id\", \"reference_ids\", \"citing_ids\", \"doi\", \"issn\", \"eissn\", \"type\", \"date\", \"category_for\", \"times_cited\", \"research_org_cities\", \"ur_id\", \"source\", \"research_org_country_names\", \"altmetrics\", \"title\", \"abstract\", \"concepts\", \"idk\"]\n",
    "ref_df.head()"
   ]
  },
  {
   "cell_type": "code",
   "execution_count": 8,
   "metadata": {},
   "outputs": [],
   "source": [
    "ref_df[\"issns\"] = ref_df.apply(get_issns, axis=1)"
   ]
  },
  {
   "cell_type": "code",
   "execution_count": 9,
   "metadata": {},
   "outputs": [
    {
     "data": {
      "text/plain": [
       "0           2406-8802\\n2685-550X\n",
       "1           0028-0836\\n1476-4687\n",
       "2                      2073-4441\n",
       "3           2213-1388\\n2213-1396\n",
       "4           0304-3878\\n1872-6089\n",
       "                    ...         \n",
       "11556604    0047-2891\\n1573-6601\n",
       "11556605    0269-9931\\n1464-0600\n",
       "11556606    1079-5014\\n1758-5368\n",
       "11556607    0731-7107\\n1545-228X\n",
       "11556608    1554-351X\\n1532-5970\n",
       "Name: issns, Length: 11556609, dtype: object"
      ]
     },
     "execution_count": 9,
     "metadata": {},
     "output_type": "execute_result"
    }
   ],
   "source": [
    "ref_df[\"issns\"]"
   ]
  },
  {
   "cell_type": "code",
   "execution_count": 10,
   "metadata": {},
   "outputs": [
    {
     "data": {
      "text/plain": [
       "index                         1215121\n",
       "publication_id                1215121\n",
       "reference_ids                 1215121\n",
       "citing_ids                    1215121\n",
       "doi                           1187300\n",
       "issn                          1077002\n",
       "eissn                         1119079\n",
       "type                          1215121\n",
       "date                          1214844\n",
       "category_for                   797000\n",
       "times_cited                   1215107\n",
       "research_org_cities           1215121\n",
       "ur_id                         1215121\n",
       "source                        1215121\n",
       "research_org_country_names    1215121\n",
       "altmetrics                    1215121\n",
       "title                         1215121\n",
       "abstract                      1005616\n",
       "concepts                      1215121\n",
       "idk                           1215121\n",
       "issns                         1215121\n",
       "dtype: int64"
      ]
     },
     "execution_count": 10,
     "metadata": {},
     "output_type": "execute_result"
    }
   ],
   "source": [
    "activeDF = ref_df[(ref_df[\"issn\"].isin(issnsActive.keys())) | (ref_df[\"eissn\"].isin(issnsActive.keys()))].copy()\n",
    "activeDF.count()"
   ]
  },
  {
   "cell_type": "code",
   "execution_count": 11,
   "metadata": {},
   "outputs": [
    {
     "name": "stdout",
     "output_type": "stream",
     "text": [
      "[('pub.1158208917', 'pub.1120627557')]\n"
     ]
    }
   ],
   "source": [
    "activeDF[\"edges\"] = activeDF.apply(get_edges, axis=1)\n",
    "print(activeDF.iloc[0][\"edges\"])"
   ]
  },
  {
   "cell_type": "code",
   "execution_count": 12,
   "metadata": {},
   "outputs": [
    {
     "name": "stdout",
     "output_type": "stream",
     "text": [
      "39646526\n",
      "('pub.1158208917', 'pub.1120627557')\n"
     ]
    }
   ],
   "source": [
    "edge_list = [e for el in activeDF[\"edges\"].tolist() for e in el]\n",
    "print(len(edge_list))\n",
    "print(edge_list[0])"
   ]
  },
  {
   "cell_type": "code",
   "execution_count": 13,
   "metadata": {},
   "outputs": [
    {
     "name": "stdout",
     "output_type": "stream",
     "text": [
      "24309\n"
     ]
    }
   ],
   "source": [
    "unique_contexts = activeDF[activeDF[\"issns\"].notnull()][\"issns\"].unique().tolist()\n",
    "print(len(unique_contexts))"
   ]
  },
  {
   "cell_type": "code",
   "execution_count": 14,
   "metadata": {},
   "outputs": [
    {
     "name": "stdout",
     "output_type": "stream",
     "text": [
      "('pub.1120627557', '2406-8802\\n2685-550X')\n"
     ]
    }
   ],
   "source": [
    "id2issns = ref_df.apply(get_id_issn_map, axis=1).tolist()\n",
    "print(id2issns[0])"
   ]
  },
  {
   "cell_type": "code",
   "execution_count": 15,
   "metadata": {},
   "outputs": [],
   "source": [
    "del ref_df"
   ]
  },
  {
   "cell_type": "markdown",
   "metadata": {},
   "source": [
    "## citations_of_all_pubs.csv - 2022 active ISSNs"
   ]
  },
  {
   "cell_type": "code",
   "execution_count": 16,
   "metadata": {},
   "outputs": [
    {
     "data": {
      "text/html": [
       "<div>\n",
       "<style scoped>\n",
       "    .dataframe tbody tr th:only-of-type {\n",
       "        vertical-align: middle;\n",
       "    }\n",
       "\n",
       "    .dataframe tbody tr th {\n",
       "        vertical-align: top;\n",
       "    }\n",
       "\n",
       "    .dataframe thead th {\n",
       "        text-align: right;\n",
       "    }\n",
       "</style>\n",
       "<table border=\"1\" class=\"dataframe\">\n",
       "  <thead>\n",
       "    <tr style=\"text-align: right;\">\n",
       "      <th></th>\n",
       "      <th>index</th>\n",
       "      <th>publication_id</th>\n",
       "      <th>reference_ids</th>\n",
       "      <th>citing_ids</th>\n",
       "      <th>doi</th>\n",
       "      <th>issn</th>\n",
       "      <th>eissn</th>\n",
       "      <th>type</th>\n",
       "      <th>date</th>\n",
       "      <th>category_for</th>\n",
       "      <th>times_cited</th>\n",
       "      <th>research_org_cities</th>\n",
       "      <th>ur_id</th>\n",
       "      <th>source</th>\n",
       "      <th>research_org_country_names</th>\n",
       "      <th>altmetrics</th>\n",
       "      <th>title</th>\n",
       "      <th>abstract</th>\n",
       "      <th>concepts</th>\n",
       "    </tr>\n",
       "  </thead>\n",
       "  <tbody>\n",
       "    <tr>\n",
       "      <th>0</th>\n",
       "      <td>0</td>\n",
       "      <td>pub.1011627231</td>\n",
       "      <td>['pub.1000621744' 'pub.1000722723' 'pub.100103...</td>\n",
       "      <td>[{'id': 'pub.1115166073', 'year': 2016}\\n {'id...</td>\n",
       "      <td>10.1152/ajpendo.90306.2008</td>\n",
       "      <td>0193-1849</td>\n",
       "      <td>1522-1555</td>\n",
       "      <td>article</td>\n",
       "      <td>2008-05-20</td>\n",
       "      <td>{'first_level': {'codes': array(['31', '42'], ...</td>\n",
       "      <td>{'times_cited': 100, 'recent_citations': 6, 'f...</td>\n",
       "      <td>['grid.6451.6']</td>\n",
       "      <td>['ur.07527627403.94' 'ur.01276472107.59']</td>\n",
       "      <td>{'id': 'jour.1327387', 'title': 'AJP Endocrino...</td>\n",
       "      <td>['Israel']</td>\n",
       "      <td>{'id': None, 'score': None}</td>\n",
       "      <td>{'preferred': 'Transcriptional regulation of t...</td>\n",
       "      <td>{'preferred': 'The insulin-responsive glucose ...</td>\n",
       "      <td>[]</td>\n",
       "    </tr>\n",
       "    <tr>\n",
       "      <th>1</th>\n",
       "      <td>1</td>\n",
       "      <td>pub.1011182182</td>\n",
       "      <td>['pub.1013726283' 'pub.1018900088' 'pub.102673...</td>\n",
       "      <td>[{'id': 'pub.1102285413', 'year': 2010}\\n {'id...</td>\n",
       "      <td>10.1353/apa.0.0007</td>\n",
       "      <td>0360-5949</td>\n",
       "      <td>1533-0699</td>\n",
       "      <td>article</td>\n",
       "      <td>2008-03-01</td>\n",
       "      <td>{'first_level': {'codes': array(['43', '44', '...</td>\n",
       "      <td>{'times_cited': 7, 'recent_citations': 2, 'fie...</td>\n",
       "      <td>['grid.266515.3']</td>\n",
       "      <td>['ur.011637600145.05']</td>\n",
       "      <td>{'id': 'jour.1143161', 'title': 'Transactions ...</td>\n",
       "      <td>['United States']</td>\n",
       "      <td>{'id': '56626804', 'score': 9}</td>\n",
       "      <td>{'preferred': 'Genus quid est?: Roman Scholars...</td>\n",
       "      <td>{'preferred': 'From at least as early as Varro...</td>\n",
       "      <td>[]</td>\n",
       "    </tr>\n",
       "    <tr>\n",
       "      <th>2</th>\n",
       "      <td>2</td>\n",
       "      <td>pub.1000357800</td>\n",
       "      <td>['pub.1008741958' 'pub.1040358033' 'pub.105278...</td>\n",
       "      <td>[{'id': 'pub.1055082006', 'year': 2015}\\n {'id...</td>\n",
       "      <td>10.1016/j.cryobiol.2008.09.005</td>\n",
       "      <td>0011-2240</td>\n",
       "      <td>1090-2392</td>\n",
       "      <td>article</td>\n",
       "      <td>2008-09-19</td>\n",
       "      <td>{'first_level': {'codes': array(['30', '32'], ...</td>\n",
       "      <td>{'times_cited': 29, 'recent_citations': 1, 'fi...</td>\n",
       "      <td>['grid.29980.3a']</td>\n",
       "      <td>['ur.013616340112.49' 'ur.01310020772.09' 'ur....</td>\n",
       "      <td>{'id': 'jour.1001351', 'title': 'Cryobiology',...</td>\n",
       "      <td>['New Zealand']</td>\n",
       "      <td>{'id': None, 'score': None}</td>\n",
       "      <td>{'preferred': 'Characterization of a family of...</td>\n",
       "      <td>{'preferred': 'Five genes coding for ice-activ...</td>\n",
       "      <td>[]</td>\n",
       "    </tr>\n",
       "    <tr>\n",
       "      <th>3</th>\n",
       "      <td>3</td>\n",
       "      <td>pub.1007126901</td>\n",
       "      <td>['pub.1006612903' 'pub.1010028023' 'pub.100433...</td>\n",
       "      <td>[{'id': 'pub.1035493063', 'year': 2009}\\n {'id...</td>\n",
       "      <td>10.1080/02513625.2008.10557013</td>\n",
       "      <td>0251-3625</td>\n",
       "      <td>2166-8604</td>\n",
       "      <td>article</td>\n",
       "      <td>2008-01-01</td>\n",
       "      <td>{'first_level': {'codes': array(['33'], dtype=...</td>\n",
       "      <td>{'times_cited': 2, 'recent_citations': 0, 'fie...</td>\n",
       "      <td>[]</td>\n",
       "      <td>['ur.016213633215.53' 'ur.016420304310.79']</td>\n",
       "      <td>{'id': 'jour.1053460', 'title': 'disP - The Pl...</td>\n",
       "      <td>[]</td>\n",
       "      <td>{'id': None, 'score': None}</td>\n",
       "      <td>{'preferred': 'Die Zentralität war schon da!',...</td>\n",
       "      <td>NaN</td>\n",
       "      <td>[]</td>\n",
       "    </tr>\n",
       "    <tr>\n",
       "      <th>4</th>\n",
       "      <td>4</td>\n",
       "      <td>pub.1007032109</td>\n",
       "      <td>['pub.1102845096' 'pub.1113140804' 'pub.106505...</td>\n",
       "      <td>[{'id': 'pub.1046862372', 'year': 2015}\\n {'id...</td>\n",
       "      <td>10.1080/14623940701816709</td>\n",
       "      <td>1462-3943</td>\n",
       "      <td>1470-1103</td>\n",
       "      <td>article</td>\n",
       "      <td>2008-02-01</td>\n",
       "      <td>{'first_level': {'codes': array(['50'], dtype=...</td>\n",
       "      <td>{'times_cited': 3, 'recent_citations': 0, 'fie...</td>\n",
       "      <td>['grid.410319.e']</td>\n",
       "      <td>['ur.01313550775.24']</td>\n",
       "      <td>{'id': 'jour.1139399', 'title': 'Reflective Pr...</td>\n",
       "      <td>['Canada']</td>\n",
       "      <td>{'id': None, 'score': None}</td>\n",
       "      <td>{'preferred': 'Performing responsibility: ethi...</td>\n",
       "      <td>{'preferred': 'I explore, and reflect on, the ...</td>\n",
       "      <td>[]</td>\n",
       "    </tr>\n",
       "  </tbody>\n",
       "</table>\n",
       "</div>"
      ],
      "text/plain": [
       "   index  publication_id                                      reference_ids  \\\n",
       "0      0  pub.1011627231  ['pub.1000621744' 'pub.1000722723' 'pub.100103...   \n",
       "1      1  pub.1011182182  ['pub.1013726283' 'pub.1018900088' 'pub.102673...   \n",
       "2      2  pub.1000357800  ['pub.1008741958' 'pub.1040358033' 'pub.105278...   \n",
       "3      3  pub.1007126901  ['pub.1006612903' 'pub.1010028023' 'pub.100433...   \n",
       "4      4  pub.1007032109  ['pub.1102845096' 'pub.1113140804' 'pub.106505...   \n",
       "\n",
       "                                          citing_ids  \\\n",
       "0  [{'id': 'pub.1115166073', 'year': 2016}\\n {'id...   \n",
       "1  [{'id': 'pub.1102285413', 'year': 2010}\\n {'id...   \n",
       "2  [{'id': 'pub.1055082006', 'year': 2015}\\n {'id...   \n",
       "3  [{'id': 'pub.1035493063', 'year': 2009}\\n {'id...   \n",
       "4  [{'id': 'pub.1046862372', 'year': 2015}\\n {'id...   \n",
       "\n",
       "                              doi       issn      eissn     type        date  \\\n",
       "0      10.1152/ajpendo.90306.2008  0193-1849  1522-1555  article  2008-05-20   \n",
       "1              10.1353/apa.0.0007  0360-5949  1533-0699  article  2008-03-01   \n",
       "2  10.1016/j.cryobiol.2008.09.005  0011-2240  1090-2392  article  2008-09-19   \n",
       "3  10.1080/02513625.2008.10557013  0251-3625  2166-8604  article  2008-01-01   \n",
       "4       10.1080/14623940701816709  1462-3943  1470-1103  article  2008-02-01   \n",
       "\n",
       "                                        category_for  \\\n",
       "0  {'first_level': {'codes': array(['31', '42'], ...   \n",
       "1  {'first_level': {'codes': array(['43', '44', '...   \n",
       "2  {'first_level': {'codes': array(['30', '32'], ...   \n",
       "3  {'first_level': {'codes': array(['33'], dtype=...   \n",
       "4  {'first_level': {'codes': array(['50'], dtype=...   \n",
       "\n",
       "                                         times_cited research_org_cities  \\\n",
       "0  {'times_cited': 100, 'recent_citations': 6, 'f...     ['grid.6451.6']   \n",
       "1  {'times_cited': 7, 'recent_citations': 2, 'fie...   ['grid.266515.3']   \n",
       "2  {'times_cited': 29, 'recent_citations': 1, 'fi...   ['grid.29980.3a']   \n",
       "3  {'times_cited': 2, 'recent_citations': 0, 'fie...                  []   \n",
       "4  {'times_cited': 3, 'recent_citations': 0, 'fie...   ['grid.410319.e']   \n",
       "\n",
       "                                               ur_id  \\\n",
       "0          ['ur.07527627403.94' 'ur.01276472107.59']   \n",
       "1                             ['ur.011637600145.05']   \n",
       "2  ['ur.013616340112.49' 'ur.01310020772.09' 'ur....   \n",
       "3        ['ur.016213633215.53' 'ur.016420304310.79']   \n",
       "4                              ['ur.01313550775.24']   \n",
       "\n",
       "                                              source  \\\n",
       "0  {'id': 'jour.1327387', 'title': 'AJP Endocrino...   \n",
       "1  {'id': 'jour.1143161', 'title': 'Transactions ...   \n",
       "2  {'id': 'jour.1001351', 'title': 'Cryobiology',...   \n",
       "3  {'id': 'jour.1053460', 'title': 'disP - The Pl...   \n",
       "4  {'id': 'jour.1139399', 'title': 'Reflective Pr...   \n",
       "\n",
       "  research_org_country_names                      altmetrics  \\\n",
       "0                 ['Israel']     {'id': None, 'score': None}   \n",
       "1          ['United States']  {'id': '56626804', 'score': 9}   \n",
       "2            ['New Zealand']     {'id': None, 'score': None}   \n",
       "3                         []     {'id': None, 'score': None}   \n",
       "4                 ['Canada']     {'id': None, 'score': None}   \n",
       "\n",
       "                                               title  \\\n",
       "0  {'preferred': 'Transcriptional regulation of t...   \n",
       "1  {'preferred': 'Genus quid est?: Roman Scholars...   \n",
       "2  {'preferred': 'Characterization of a family of...   \n",
       "3  {'preferred': 'Die Zentralität war schon da!',...   \n",
       "4  {'preferred': 'Performing responsibility: ethi...   \n",
       "\n",
       "                                            abstract concepts  \n",
       "0  {'preferred': 'The insulin-responsive glucose ...       []  \n",
       "1  {'preferred': 'From at least as early as Varro...       []  \n",
       "2  {'preferred': 'Five genes coding for ice-activ...       []  \n",
       "3                                                NaN       []  \n",
       "4  {'preferred': 'I explore, and reflect on, the ...       []  "
      ]
     },
     "execution_count": 16,
     "metadata": {},
     "output_type": "execute_result"
    }
   ],
   "source": [
    "cite_df = pd.read_csv(\"data/citations_of_all_pubs.csv\", header=None)\n",
    "cite_df.columns = [\"index\", \"publication_id\", \"reference_ids\", \"citing_ids\", \"doi\", \"issn\", \"eissn\", \"type\", \"date\", \"category_for\", \"times_cited\", \"research_org_cities\", \"ur_id\", \"source\", \"research_org_country_names\", \"altmetrics\", \"title\", \"abstract\", \"concepts\"]\n",
    "cite_df.head()"
   ]
  },
  {
   "cell_type": "code",
   "execution_count": 17,
   "metadata": {},
   "outputs": [],
   "source": [
    "cite_df[\"issns\"] = cite_df.apply(get_issns, axis=1)"
   ]
  },
  {
   "cell_type": "code",
   "execution_count": 18,
   "metadata": {},
   "outputs": [
    {
     "data": {
      "text/plain": [
       "index                         992926\n",
       "publication_id                992926\n",
       "reference_ids                 992926\n",
       "citing_ids                    992926\n",
       "doi                           987473\n",
       "issn                          869269\n",
       "eissn                         926256\n",
       "type                          992926\n",
       "date                          992414\n",
       "category_for                  746954\n",
       "times_cited                   992918\n",
       "research_org_cities           992926\n",
       "ur_id                         992926\n",
       "source                        992926\n",
       "research_org_country_names    992926\n",
       "altmetrics                    992926\n",
       "title                         992926\n",
       "abstract                      889261\n",
       "concepts                      992926\n",
       "issns                         992926\n",
       "dtype: int64"
      ]
     },
     "execution_count": 18,
     "metadata": {},
     "output_type": "execute_result"
    }
   ],
   "source": [
    "activeDF = cite_df[(cite_df[\"issn\"].isin(issnsActive.keys())) | (cite_df[\"eissn\"].isin(issnsActive.keys()))].copy()\n",
    "activeDF.count()"
   ]
  },
  {
   "cell_type": "code",
   "execution_count": 19,
   "metadata": {},
   "outputs": [
    {
     "name": "stdout",
     "output_type": "stream",
     "text": [
      "37575\n"
     ]
    }
   ],
   "source": [
    "unique_contexts += activeDF[activeDF[\"issns\"].notnull()][\"issns\"].unique().tolist()\n",
    "print(len(unique_contexts))"
   ]
  },
  {
   "cell_type": "code",
   "execution_count": 20,
   "metadata": {},
   "outputs": [
    {
     "name": "stdout",
     "output_type": "stream",
     "text": [
      "[('pub.1034132371', 'pub.1002326098'), ('pub.1034132371', 'pub.1045799580'), ('pub.1034132371', 'pub.1052271780'), ('pub.1034132371', 'pub.1026913579'), ('pub.1034132371', 'pub.1003604100'), ('pub.1034132371', 'pub.1022711941'), ('pub.1045952946', 'pub.1034132371'), ('pub.1079673138', 'pub.1034132371'), ('pub.1041770623', 'pub.1034132371'), ('pub.1022062989', 'pub.1034132371'), ('pub.1081150687', 'pub.1034132371'), ('pub.1017412483', 'pub.1034132371'), ('pub.1019258875', 'pub.1034132371'), ('pub.1081321795', 'pub.1034132371'), ('pub.1082366114', 'pub.1034132371'), ('pub.1020675711', 'pub.1034132371'), ('pub.1008448320', 'pub.1034132371'), ('pub.1080561215', 'pub.1034132371'), ('pub.1017860117', 'pub.1034132371'), ('pub.1020250538', 'pub.1034132371'), ('pub.1028685680', 'pub.1034132371'), ('pub.1043886108', 'pub.1034132371'), ('pub.1093077033', 'pub.1034132371'), ('pub.1032937461', 'pub.1034132371'), ('pub.1008432868', 'pub.1034132371'), ('pub.1021686121', 'pub.1034132371'), ('pub.1015365449', 'pub.1034132371'), ('pub.1031903195', 'pub.1034132371'), ('pub.1039318119', 'pub.1034132371'), ('pub.1048157150', 'pub.1034132371'), ('pub.1012545893', 'pub.1034132371'), ('pub.1043495094', 'pub.1034132371'), ('pub.1001087675', 'pub.1034132371'), ('pub.1081042789', 'pub.1034132371'), ('pub.1067818797', 'pub.1034132371'), ('pub.1000087098', 'pub.1034132371'), ('pub.1020310430', 'pub.1034132371')]\n"
     ]
    }
   ],
   "source": [
    "activeDF[\"edges\"] = activeDF.apply(get_edges, axis=1)\n",
    "print(activeDF.iloc[0][\"edges\"])"
   ]
  },
  {
   "cell_type": "code",
   "execution_count": 21,
   "metadata": {},
   "outputs": [
    {
     "name": "stdout",
     "output_type": "stream",
     "text": [
      "78578459\n",
      "('pub.1140573500', 'pub.1110438123')\n"
     ]
    }
   ],
   "source": [
    "edge_list += [e for el in activeDF[\"edges\"].tolist() for e in el]\n",
    "print(len(edge_list))\n",
    "print(edge_list[-1])"
   ]
  },
  {
   "cell_type": "code",
   "execution_count": 22,
   "metadata": {},
   "outputs": [
    {
     "name": "stdout",
     "output_type": "stream",
     "text": [
      "('pub.1032068684', '0001-8791\\n1095-9084')\n"
     ]
    }
   ],
   "source": [
    "id2issns += cite_df.apply(get_id_issn_map, axis=1).tolist()\n",
    "print(id2issns[-1])"
   ]
  },
  {
   "cell_type": "code",
   "execution_count": 23,
   "metadata": {},
   "outputs": [],
   "source": [
    "del cite_df"
   ]
  },
  {
   "cell_type": "markdown",
   "metadata": {},
   "source": [
    "## Map publication_id's to ISSNs in the citation graph"
   ]
  },
  {
   "cell_type": "code",
   "execution_count": 24,
   "metadata": {},
   "outputs": [],
   "source": [
    "id2issns = dict(id2issns)"
   ]
  },
  {
   "cell_type": "code",
   "execution_count": 25,
   "metadata": {},
   "outputs": [],
   "source": [
    "issnEdges = defaultdict(list)\n",
    "for citer_id, citee_id in edge_list:\n",
    "    try:\n",
    "        issnEdges[\n",
    "            id2issns[citer_id]\n",
    "            ].append(\n",
    "                id2issns[citee_id]\n",
    "                )\n",
    "    except KeyError:\n",
    "        continue"
   ]
  },
  {
   "cell_type": "code",
   "execution_count": 26,
   "metadata": {},
   "outputs": [
    {
     "name": "stdout",
     "output_type": "stream",
     "text": [
      "57006\n"
     ]
    }
   ],
   "source": [
    "print(len(issnEdges))"
   ]
  },
  {
   "cell_type": "code",
   "execution_count": 27,
   "metadata": {},
   "outputs": [],
   "source": [
    "with open(\"data/issnEdges.json\", \"w\") as outfile:\n",
    "    json.dump(issnEdges, outfile)"
   ]
  },
  {
   "cell_type": "code",
   "execution_count": 28,
   "metadata": {},
   "outputs": [],
   "source": [
    "with open(\"data/unique_contexts.json\", \"w\") as outfile:\n",
    "    json.dump(unique_contexts, outfile)"
   ]
  }
 ],
 "metadata": {
  "kernelspec": {
   "display_name": "nlu",
   "language": "python",
   "name": "python3"
  },
  "language_info": {
   "codemirror_mode": {
    "name": "ipython",
    "version": 3
   },
   "file_extension": ".py",
   "mimetype": "text/x-python",
   "name": "python",
   "nbconvert_exporter": "python",
   "pygments_lexer": "ipython3",
   "version": "3.11.7"
  }
 },
 "nbformat": 4,
 "nbformat_minor": 2
}
