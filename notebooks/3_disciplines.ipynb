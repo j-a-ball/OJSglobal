{
 "cells": [
  {
   "cell_type": "markdown",
   "id": "215bc882",
   "metadata": {},
   "source": [
    "# 3. Disciplines of Journals using OJS <a name=languages></a>"
   ]
  },
  {
   "cell_type": "markdown",
   "id": "86a287a8",
   "metadata": {},
   "source": [
    "### Notebook objectives:\n",
    "1. Translate concatenated titles and abstracts from 9 other languages into English using [UKP's EasyNMT neural machine translation package](#nmt) with <a href='https://github.com/Helsinki-NLP/Opus-MT'>Helsinki NLP's Opus MT</a> and <a href='https://github.com/facebookresearch/fairseq'>Facebook Research's 'mbart50_m2en' model</a>. This is necessary because the classifier was trained on English text.<br><br>\n",
    "2. Classify the journals known to be actively using OJS by applying [Weber et al.'s (2020) neural field of study classifier](#fosc) to titles and abstracts in 10 primary languages*\n",
    "    * English, Bahasa Indonesia, Spanish, Portuguese, Afrikaans, Russian, Ukrainian, German, French, Japanese\n",
    "<br><br>\n",
    "3. Create bar graphs representing the journals actively using OJS by their disciplinary distribution:\n",
    "    1. [By discipline: 20 ANZSRC field of study labels](#disc)\n",
    "    2. [By division: STEM, Social Sciences, and Humanities](#div)"
   ]
  },
  {
   "cell_type": "markdown",
   "id": "455f83af",
   "metadata": {},
   "source": [
    "Import packages:"
   ]
  },
  {
   "cell_type": "code",
   "execution_count": 1,
   "id": "8cd78e3b",
   "metadata": {},
   "outputs": [],
   "source": [
    "from collections import defaultdict\n",
    "from collections import Counter\n",
    "from tqdm import tqdm\n",
    "import matplotlib.pyplot as plt\n",
    "import matplotlib\n",
    "import seaborn as sns\n",
    "import pandas as pd\n",
    "import ijson\n",
    "import json\n",
    "import time\n",
    "import re\n",
    "import os"
   ]
  },
  {
   "cell_type": "markdown",
   "id": "20c9d8ec",
   "metadata": {},
   "source": [
    "### 1. Translating jounal titles and abstracts with <a href='https://github.com/UKPLab/EasyNMT'>UKP's EasyNMT neural machine translator</a><a id='nmt'></a>"
   ]
  },
  {
   "cell_type": "markdown",
   "id": "6a4bc62e",
   "metadata": {},
   "source": [
    "Import EasyNMT:"
   ]
  },
  {
   "cell_type": "code",
   "execution_count": 2,
   "id": "76337eea",
   "metadata": {
    "scrolled": true
   },
   "outputs": [],
   "source": [
    "import tensorflow\n",
    "from easynmt import EasyNMT"
   ]
  },
  {
   "cell_type": "markdown",
   "id": "c0c184b1",
   "metadata": {},
   "source": [
    "First, create a function that:\n",
    "<br>\n",
    "1. Reads each of the Indonesian, Spanish, and Portuguese .json files mapping journal ISSNs to concatenated article titles and abstracts, or payloads;\n",
    "<br><br>\n",
    "2. Translates the payloads for each journal from the specified source language ('id', 'es', 'pt') to the target language, English ('en');\n",
    "<br><br>\n",
    "3. Saves a dictionary mapping journal ISSN to translated payload as a .json file:"
   ]
  },
  {
   "cell_type": "code",
   "execution_count": 3,
   "id": "d008cba0",
   "metadata": {},
   "outputs": [],
   "source": [
    "def translate(infile, outfile, issns_en, model, source_lang):\n",
    "    issn2translation = {}\n",
    "    \n",
    "    with open(infile, 'r') as infile_:\n",
    "        d = json.load(infile_)\n",
    "        d_ = {}\n",
    "        for k, v in d.items():\n",
    "            if k not in issns_en:\n",
    "                d_[k] = v\n",
    "        del d   \n",
    "        \n",
    "    print('{} examples loaded.'.format(len(d_)))\n",
    "    \n",
    "    print('Translating payloads...')\n",
    "    for k, v in tqdm(list(d_.items())):\n",
    "        issn2translation[k] = model.translate(v, source_lang=source_lang, target_lang='en')\n",
    "    \n",
    "    with open(outfile, 'w') as outfile_:\n",
    "        json.dump(issn2translation, outfile_)\n",
    "    print('Translated payloads saved.')"
   ]
  },
  {
   "cell_type": "code",
   "execution_count": 4,
   "id": "01eb01f4",
   "metadata": {},
   "outputs": [],
   "source": [
    "infile_en = os.path.join('data', 'issn2en.json')\n",
    "with open(infile_en, 'r') as infile:\n",
    "    en = json.load(infile)\n",
    "    issns_en = list(en.keys())\n",
    "    \n",
    "opus = EasyNMT('opus-mt') #Helsinki NLP Opus machine translation model (marian)"
   ]
  },
  {
   "cell_type": "markdown",
   "id": "96d39f12",
   "metadata": {},
   "source": [
    "Bahasa Indonesia:"
   ]
  },
  {
   "cell_type": "code",
   "execution_count": 5,
   "id": "a6b87fda",
   "metadata": {},
   "outputs": [
    {
     "name": "stdout",
     "output_type": "stream",
     "text": [
      "998 examples loaded.\n",
      "Translating payloads...\n"
     ]
    },
    {
     "name": "stderr",
     "output_type": "stream",
     "text": [
      "100%|███████████████████████████████████████| 998/998 [6:31:37<00:00, 23.54s/it]"
     ]
    },
    {
     "name": "stdout",
     "output_type": "stream",
     "text": [
      "Translated payloads saved.\n",
      "CPU times: user 6h 12s, sys: 2h 24min 13s, total: 8h 24min 26s\n",
      "Wall time: 6h 31min 40s\n"
     ]
    },
    {
     "name": "stderr",
     "output_type": "stream",
     "text": [
      "\n"
     ]
    }
   ],
   "source": [
    "infile_id = os.path.join('data', 'issn2id.json')\n",
    "outfile_id = os.path.join('data', 'issn2id_trans.json')\n",
    "%time translate(infile=infile_id, outfile=outfile_id, issns_en=issns_en, model=opus, source_lang='id')"
   ]
  },
  {
   "cell_type": "markdown",
   "id": "6ccea9dc",
   "metadata": {},
   "source": [
    "Spanish:"
   ]
  },
  {
   "cell_type": "code",
   "execution_count": 6,
   "id": "599910f1",
   "metadata": {},
   "outputs": [
    {
     "name": "stdout",
     "output_type": "stream",
     "text": [
      "588 examples loaded.\n",
      "Translating payloads...\n"
     ]
    },
    {
     "name": "stderr",
     "output_type": "stream",
     "text": [
      "100%|███████████████████████████████████████| 588/588 [2:12:36<00:00, 13.53s/it]"
     ]
    },
    {
     "name": "stdout",
     "output_type": "stream",
     "text": [
      "Translated payloads saved.\n",
      "CPU times: user 2h 4min 32s, sys: 38min 50s, total: 2h 43min 23s\n",
      "Wall time: 2h 12min 37s\n"
     ]
    },
    {
     "name": "stderr",
     "output_type": "stream",
     "text": [
      "\n"
     ]
    }
   ],
   "source": [
    "infile_es = os.path.join('data', 'issn2es.json')\n",
    "outfile_es = os.path.join('data', 'issn2es_trans.json')\n",
    "%time translate(infile=infile_es, outfile=outfile_es, issns_en=issns_en, model=opus, source_lang='es')"
   ]
  },
  {
   "cell_type": "markdown",
   "id": "efb077d6",
   "metadata": {},
   "source": [
    "Portuguese:"
   ]
  },
  {
   "cell_type": "code",
   "execution_count": 7,
   "id": "828b472f",
   "metadata": {},
   "outputs": [],
   "source": [
    "mbart = EasyNMT('mbart50_m2en') #Facebook (Meta) mbart50_m2en for pt & uk -> en"
   ]
  },
  {
   "cell_type": "code",
   "execution_count": 8,
   "id": "2f729b8e",
   "metadata": {},
   "outputs": [
    {
     "name": "stdout",
     "output_type": "stream",
     "text": [
      "557 examples loaded.\n",
      "Translating payloads...\n"
     ]
    },
    {
     "name": "stderr",
     "output_type": "stream",
     "text": [
      "100%|██████████████████████████████████████| 557/557 [13:08:13<00:00, 84.91s/it]"
     ]
    },
    {
     "name": "stdout",
     "output_type": "stream",
     "text": [
      "Translated payloads saved.\n",
      "CPU times: user 12h 7min 45s, sys: 3h 22min 29s, total: 15h 30min 14s\n",
      "Wall time: 13h 8min 15s\n"
     ]
    },
    {
     "name": "stderr",
     "output_type": "stream",
     "text": [
      "\n"
     ]
    }
   ],
   "source": [
    "infile_pt = os.path.join('data', 'issn2pt.json')\n",
    "outfile_pt = os.path.join('data', 'issn2pt_trans.json')\n",
    "%time translate(infile=infile_pt, outfile=outfile_pt, issns_en=issns_en, model=mbart, source_lang='pt')"
   ]
  },
  {
   "cell_type": "markdown",
   "id": "789913e8",
   "metadata": {},
   "source": [
    "Afrikaans:"
   ]
  },
  {
   "cell_type": "code",
   "execution_count": 9,
   "id": "f34118da",
   "metadata": {},
   "outputs": [
    {
     "name": "stdout",
     "output_type": "stream",
     "text": [
      "240 examples loaded.\n",
      "Translating payloads...\n"
     ]
    },
    {
     "name": "stderr",
     "output_type": "stream",
     "text": [
      "100%|███████████████████████████████████████| 240/240 [2:00:46<00:00, 30.19s/it]"
     ]
    },
    {
     "name": "stdout",
     "output_type": "stream",
     "text": [
      "Translated payloads saved.\n",
      "CPU times: user 1h 53min 35s, sys: 16min 32s, total: 2h 10min 7s\n",
      "Wall time: 2h 47s\n"
     ]
    },
    {
     "name": "stderr",
     "output_type": "stream",
     "text": [
      "\n"
     ]
    }
   ],
   "source": [
    "infile_af = os.path.join('data', 'issn2af.json')\n",
    "outfile_af = os.path.join('data', 'issn2af_trans.json')\n",
    "%time translate(infile=infile_af, outfile=outfile_af, issns_en=issns_en, model=opus, source_lang='af')"
   ]
  },
  {
   "cell_type": "markdown",
   "id": "6f7c8472",
   "metadata": {},
   "source": [
    "Ukrainian:"
   ]
  },
  {
   "cell_type": "code",
   "execution_count": 10,
   "id": "f954713c",
   "metadata": {},
   "outputs": [
    {
     "name": "stdout",
     "output_type": "stream",
     "text": [
      "8 examples loaded.\n",
      "Translating payloads...\n"
     ]
    },
    {
     "name": "stderr",
     "output_type": "stream",
     "text": [
      "100%|█████████████████████████████████████████████| 8/8 [06:14<00:00, 46.80s/it]"
     ]
    },
    {
     "name": "stdout",
     "output_type": "stream",
     "text": [
      "Translated payloads saved.\n",
      "CPU times: user 5min 48s, sys: 1min 31s, total: 7min 20s\n",
      "Wall time: 6min 14s\n"
     ]
    },
    {
     "name": "stderr",
     "output_type": "stream",
     "text": [
      "\n"
     ]
    }
   ],
   "source": [
    "infile_uk = os.path.join('data', 'issn2uk.json')\n",
    "outfile_uk = os.path.join('data', 'issn2uk_trans.json')\n",
    "%time translate(infile=infile_uk, outfile=outfile_uk, issns_en=issns_en, model=mbart, source_lang='uk')"
   ]
  },
  {
   "cell_type": "markdown",
   "id": "d0bc60a4",
   "metadata": {},
   "source": [
    "Russian:"
   ]
  },
  {
   "cell_type": "code",
   "execution_count": 11,
   "id": "781ff5ec",
   "metadata": {},
   "outputs": [
    {
     "name": "stdout",
     "output_type": "stream",
     "text": [
      "15 examples loaded.\n",
      "Translating payloads...\n"
     ]
    },
    {
     "name": "stderr",
     "output_type": "stream",
     "text": [
      "100%|███████████████████████████████████████████| 15/15 [17:47<00:00, 71.17s/it]"
     ]
    },
    {
     "name": "stdout",
     "output_type": "stream",
     "text": [
      "Translated payloads saved.\n",
      "CPU times: user 16min 30s, sys: 4min 29s, total: 21min\n",
      "Wall time: 17min 47s\n"
     ]
    },
    {
     "name": "stderr",
     "output_type": "stream",
     "text": [
      "\n"
     ]
    }
   ],
   "source": [
    "infile_ru = os.path.join('data', 'issn2ru.json')\n",
    "outfile_ru = os.path.join('data', 'issn2ru_trans.json')\n",
    "%time translate(infile=infile_ru, outfile=outfile_ru, issns_en=issns_en, model=opus, source_lang='ru')"
   ]
  },
  {
   "cell_type": "markdown",
   "id": "62136028",
   "metadata": {},
   "source": [
    "German:"
   ]
  },
  {
   "cell_type": "code",
   "execution_count": 12,
   "id": "2d8e00e5",
   "metadata": {},
   "outputs": [
    {
     "name": "stdout",
     "output_type": "stream",
     "text": [
      "57 examples loaded.\n",
      "Translating payloads...\n"
     ]
    },
    {
     "name": "stderr",
     "output_type": "stream",
     "text": [
      "100%|███████████████████████████████████████████| 57/57 [04:52<00:00,  5.13s/it]"
     ]
    },
    {
     "name": "stdout",
     "output_type": "stream",
     "text": [
      "Translated payloads saved.\n",
      "CPU times: user 4min 40s, sys: 1min 3s, total: 5min 43s\n",
      "Wall time: 4min 52s\n"
     ]
    },
    {
     "name": "stderr",
     "output_type": "stream",
     "text": [
      "\n"
     ]
    }
   ],
   "source": [
    "infile_de = os.path.join('data', 'issn2de.json')\n",
    "outfile_de = os.path.join('data', 'issn2de_trans.json')\n",
    "%time translate(infile=infile_de, outfile=outfile_de, issns_en=issns_en, model=opus, source_lang='de')"
   ]
  },
  {
   "cell_type": "markdown",
   "id": "c203e88b",
   "metadata": {},
   "source": [
    "French:"
   ]
  },
  {
   "cell_type": "code",
   "execution_count": 13,
   "id": "45d99abc",
   "metadata": {},
   "outputs": [
    {
     "name": "stdout",
     "output_type": "stream",
     "text": [
      "99 examples loaded.\n",
      "Translating payloads...\n"
     ]
    },
    {
     "name": "stderr",
     "output_type": "stream",
     "text": [
      "100%|███████████████████████████████████████████| 99/99 [07:17<00:00,  4.42s/it]"
     ]
    },
    {
     "name": "stdout",
     "output_type": "stream",
     "text": [
      "Translated payloads saved.\n",
      "CPU times: user 6min 50s, sys: 1min 40s, total: 8min 31s\n",
      "Wall time: 7min 18s\n"
     ]
    },
    {
     "name": "stderr",
     "output_type": "stream",
     "text": [
      "\n"
     ]
    }
   ],
   "source": [
    "infile_fr = os.path.join('data', 'issn2fr.json')\n",
    "outfile_fr = os.path.join('data', 'issn2fr_trans.json')\n",
    "%time translate(infile=infile_fr, outfile=outfile_fr, issns_en=issns_en, model=opus, source_lang='fr')"
   ]
  },
  {
   "cell_type": "markdown",
   "id": "0d8078a3",
   "metadata": {},
   "source": [
    "Japanese:"
   ]
  },
  {
   "cell_type": "code",
   "execution_count": 14,
   "id": "af664cd0",
   "metadata": {
    "scrolled": true
   },
   "outputs": [
    {
     "name": "stdout",
     "output_type": "stream",
     "text": [
      "182 examples loaded.\n",
      "Translating payloads...\n"
     ]
    },
    {
     "name": "stderr",
     "output_type": "stream",
     "text": [
      "100%|█████████████████████████████████████████| 182/182 [10:51<00:00,  3.58s/it]"
     ]
    },
    {
     "name": "stdout",
     "output_type": "stream",
     "text": [
      "Translated payloads saved.\n",
      "CPU times: user 9min 41s, sys: 2min 29s, total: 12min 10s\n",
      "Wall time: 10min 52s\n"
     ]
    },
    {
     "name": "stderr",
     "output_type": "stream",
     "text": [
      "\n"
     ]
    }
   ],
   "source": [
    "infile_ja = os.path.join('data', 'issn2ja.json')\n",
    "outfile_ja = os.path.join('data', 'issn2ja_trans.json')\n",
    "%time translate(infile=infile_ja, outfile=outfile_ja, issns_en=issns_en, model=opus, source_lang='ja')"
   ]
  },
  {
   "cell_type": "markdown",
   "id": "dd65b3f4",
   "metadata": {},
   "source": [
    "### 2. OJS Field of Study Classification<a id='fosc'></a>\n",
    "<br>\n",
    "Instantiate <a href='https://direct.mit.edu/qss/article/1/2/525/96148/Using-supervised-learning-to-classify-metadata-of'>Weber et al.'s (2020)</a> feedforward neural net for classifying academic fields of study:"
   ]
  },
  {
   "cell_type": "code",
   "execution_count": 15,
   "id": "dd437b44",
   "metadata": {},
   "outputs": [],
   "source": [
    "from fosc import load_model, vectorize\n",
    "from fosc.config import config\n",
    "model_id = 'mlp_l'\n",
    "model = load_model(model_id)"
   ]
  },
  {
   "cell_type": "markdown",
   "id": "92249bed",
   "metadata": {},
   "source": [
    "Create a dict mapping the labels of the fosc classifier `int` to `str`:"
   ]
  },
  {
   "cell_type": "code",
   "execution_count": 16,
   "id": "237031d2",
   "metadata": {},
   "outputs": [],
   "source": [
    "anzsrc = {\n",
    "    0:'Mathematical Sciences',\n",
    "    1:'Physical Sciences',\n",
    "    2:'Chemical Sciences',\n",
    "    3:'Earth and Environmental Sciences',\n",
    "    4:'Biological Sciences',\n",
    "    5:'Agricultural and Veterinary Sciences',\n",
    "    6:'Information and Computing Sciences',\n",
    "    7:'Engineering and Technology',\n",
    "    8:'Medical and Health Sciences',\n",
    "    9:'Built Environment and Design',\n",
    "    10:'Education',\n",
    "    11:'Economics',\n",
    "    12:'Commerce, Management, Tourism and Services',\n",
    "    13:'Studies in Human Society',\n",
    "    14:'Psychology and Cognitive Sciences',\n",
    "    15:'Law and Legal Studies',\n",
    "    16:'Studies in Creative Arts and Writing',\n",
    "    17:'Language, Communication and Culture',\n",
    "    18:'History and Archaeology',\n",
    "    19:'Philosophy and Religious Studies'\n",
    "}"
   ]
  },
  {
   "cell_type": "markdown",
   "id": "88188912",
   "metadata": {},
   "source": [
    "Group the <a href='https://www.abs.gov.au/statistics/classifications/australian-and-new-zealand-standard-research-classification-anzsrc/latest-release'>20 ANZSRC labels</a> into three broad divisions: STEM, Social Sciences, and Humanities"
   ]
  },
  {
   "cell_type": "code",
   "execution_count": 17,
   "id": "a6d3f010",
   "metadata": {},
   "outputs": [],
   "source": [
    "STEM = ['Agricultural and Veterinary Sciences', \n",
    "        'Biological Sciences', \n",
    "        'Built Environment and Design', \n",
    "        'Chemical Sciences',\n",
    "        'Earth and Environmental Sciences',\n",
    "        'Engineering and Technology',\n",
    "        'Information and Computing Sciences',\n",
    "        'Mathematical Sciences',\n",
    "        'Medical and Health Sciences',\n",
    "        'Physical Sciences']\n",
    "\n",
    "SOCSCI = ['Commerce, Management, Tourism and Services',\n",
    "          'Economics',\n",
    "          'Education',\n",
    "          'Law and Legal Studies',\n",
    "          'Psychology and Cognitive Sciences',\n",
    "          'Studies in Human Society']\n",
    "\n",
    "HUM = ['History and Archaeology',\n",
    "       'Language, Communication and Culture',\n",
    "       'Philosophy and Religious Studies',\n",
    "       'Studies in Creative Arts and Writing']"
   ]
  },
  {
   "cell_type": "markdown",
   "id": "e8e71bd2",
   "metadata": {},
   "source": [
    "Create a short helper function for converting integer labels to text labels:"
   ]
  },
  {
   "cell_type": "code",
   "execution_count": 18,
   "id": "93e130a9",
   "metadata": {},
   "outputs": [],
   "source": [
    "def assign_discipline(row):\n",
    "    return anzsrc[row['discipline']]"
   ]
  },
  {
   "cell_type": "markdown",
   "id": "8f7553d1",
   "metadata": {},
   "source": [
    "Create a function that:\n",
    "<br>\n",
    "1. Reads a .json file with a dictionary mapping journal issn to a payload of concatenated article abstracts for each journal;\n",
    "<br><br>\n",
    "2. Passes each payload to Weber et al.'s field of study classifier (fosc);\n",
    "<br><br>\n",
    "3. Selects the most likely field of study label :"
   ]
  },
  {
   "cell_type": "code",
   "execution_count": 19,
   "id": "2d97dc62",
   "metadata": {},
   "outputs": [],
   "source": [
    "def fosc(df, model_id, model):\n",
    " \n",
    "    print('{} examples loaded.'.format(len(df)))\n",
    "\n",
    "    vectorized = vectorize(df['payload'], model_id)\n",
    "    preds = pd.DataFrame(model.predict(vectorized))\n",
    "    payDF = df.join(preds)\n",
    "\n",
    "    #select a primary field of study classification label\n",
    "    payDF['discipline'] = payDF[[i for i in range(0, 20)]].idxmax(axis=1)\n",
    "    payDF['discipline'] = payDF.apply(assign_discipline, axis=1)\n",
    "    print('Journals classified.')\n",
    "    \n",
    "    #return a final DF of discipline counts\n",
    "    countDF = pd.DataFrame(payDF['discipline'].value_counts())\n",
    "    countDF.reset_index(inplace=True)\n",
    "    countDF = countDF.rename(columns = {'index':'Discipline',\n",
    "                                        'discipline': 'Count'})\n",
    "    return countDF"
   ]
  },
  {
   "cell_type": "markdown",
   "id": "5bab9c4e",
   "metadata": {},
   "source": [
    "### Visualize <a id='visuals'></a>"
   ]
  },
  {
   "cell_type": "markdown",
   "id": "7969e6d1",
   "metadata": {},
   "source": [
    "#### English, Bahasa Indonesia, Spanish, Portuguese, Afrikaans, Russian, Ukrainian, German, French, Japanese: <a id='all'></a>"
   ]
  },
  {
   "cell_type": "code",
   "execution_count": 20,
   "id": "2c2d65a4",
   "metadata": {},
   "outputs": [],
   "source": [
    "def aggregate_payloads(data_dir, json_files):\n",
    "    \n",
    "    issn2payload = defaultdict(str)\n",
    "    \n",
    "    for file in json_files:\n",
    "        \n",
    "        with open(os.path.join(data_dir, file), 'r') as f:\n",
    "            payloads = json.load(f)\n",
    "            \n",
    "        for k, v in payloads.items():\n",
    "            issn2payload[k] += v\n",
    "\n",
    "    df = pd.DataFrame({'issn': issn2payload.keys(), 'payload':issn2payload.values()})\n",
    "    print('''{} journals ready for classification.'''.format(len(df)))\n",
    "    \n",
    "    return df"
   ]
  },
  {
   "cell_type": "code",
   "execution_count": 21,
   "id": "f7e58b94",
   "metadata": {},
   "outputs": [
    {
     "name": "stdout",
     "output_type": "stream",
     "text": [
      "Number of languages: 10\n",
      "issn2af_trans.json\n",
      "issn2de_trans.json\n",
      "issn2en.json\n",
      "issn2es_trans.json\n",
      "issn2fr_trans.json\n",
      "issn2id_trans.json\n",
      "issn2ja_trans.json\n",
      "issn2pt_trans.json\n",
      "issn2ru_trans.json\n",
      "issn2uk_trans.json\n"
     ]
    }
   ],
   "source": [
    "data_dir = os.path.join('data')\n",
    "json_files = []\n",
    "\n",
    "for root, dirs, files in os.walk(data_dir, topdown=False):\n",
    "    for file in files:\n",
    "        if file.endswith('en.json'):\n",
    "            json_files.append(file)\n",
    "        elif file.endswith('_trans.json'):\n",
    "            json_files.append(file)\n",
    "        else:\n",
    "            continue\n",
    "print('Number of languages: {}'.format(len(json_files)))\n",
    "for filename in sorted(json_files):\n",
    "    print(filename)"
   ]
  },
  {
   "cell_type": "code",
   "execution_count": 22,
   "id": "641c630a",
   "metadata": {},
   "outputs": [
    {
     "name": "stdout",
     "output_type": "stream",
     "text": [
      "22544 journals ready for classification.\n"
     ]
    }
   ],
   "source": [
    "issn2payload = aggregate_payloads(data_dir=data_dir, json_files=json_files)"
   ]
  },
  {
   "cell_type": "code",
   "execution_count": 23,
   "id": "67af5b9d",
   "metadata": {
    "scrolled": true
   },
   "outputs": [
    {
     "name": "stdout",
     "output_type": "stream",
     "text": [
      "22544 examples loaded.\n"
     ]
    },
    {
     "name": "stderr",
     "output_type": "stream",
     "text": [
      "/Users/jball/opt/anaconda3/envs/ojs/lib/python3.7/site-packages/sklearn/feature_extraction/image.py:167: DeprecationWarning: `np.int` is a deprecated alias for the builtin `int`. To silence this warning, use `int` by itself. Doing this will not modify any behavior and is safe. When replacing `np.int`, you may wish to use e.g. `np.int64` or `np.int32` to specify the precision. If you wish to review your current use, check the release note link for additional information.\n",
      "Deprecated in NumPy 1.20; for more details and guidance: https://numpy.org/devdocs/release/1.20.0-notes.html#deprecations\n",
      "  dtype=np.int):\n",
      "/Users/jball/opt/anaconda3/envs/ojs/lib/python3.7/site-packages/sklearn/linear_model/least_angle.py:30: DeprecationWarning: `np.float` is a deprecated alias for the builtin `float`. To silence this warning, use `float` by itself. Doing this will not modify any behavior and is safe. If you specifically wanted the numpy scalar type, use `np.float64` here.\n",
      "Deprecated in NumPy 1.20; for more details and guidance: https://numpy.org/devdocs/release/1.20.0-notes.html#deprecations\n",
      "  method='lar', copy_X=True, eps=np.finfo(np.float).eps,\n",
      "/Users/jball/opt/anaconda3/envs/ojs/lib/python3.7/site-packages/sklearn/linear_model/least_angle.py:167: DeprecationWarning: `np.float` is a deprecated alias for the builtin `float`. To silence this warning, use `float` by itself. Doing this will not modify any behavior and is safe. If you specifically wanted the numpy scalar type, use `np.float64` here.\n",
      "Deprecated in NumPy 1.20; for more details and guidance: https://numpy.org/devdocs/release/1.20.0-notes.html#deprecations\n",
      "  method='lar', copy_X=True, eps=np.finfo(np.float).eps,\n",
      "/Users/jball/opt/anaconda3/envs/ojs/lib/python3.7/site-packages/sklearn/linear_model/least_angle.py:284: DeprecationWarning: `np.float` is a deprecated alias for the builtin `float`. To silence this warning, use `float` by itself. Doing this will not modify any behavior and is safe. If you specifically wanted the numpy scalar type, use `np.float64` here.\n",
      "Deprecated in NumPy 1.20; for more details and guidance: https://numpy.org/devdocs/release/1.20.0-notes.html#deprecations\n",
      "  eps=np.finfo(np.float).eps, copy_Gram=True, verbose=0,\n",
      "/Users/jball/opt/anaconda3/envs/ojs/lib/python3.7/site-packages/sklearn/linear_model/least_angle.py:862: DeprecationWarning: `np.float` is a deprecated alias for the builtin `float`. To silence this warning, use `float` by itself. Doing this will not modify any behavior and is safe. If you specifically wanted the numpy scalar type, use `np.float64` here.\n",
      "Deprecated in NumPy 1.20; for more details and guidance: https://numpy.org/devdocs/release/1.20.0-notes.html#deprecations\n",
      "  eps=np.finfo(np.float).eps, copy_X=True, fit_path=True,\n",
      "/Users/jball/opt/anaconda3/envs/ojs/lib/python3.7/site-packages/sklearn/linear_model/least_angle.py:1101: DeprecationWarning: `np.float` is a deprecated alias for the builtin `float`. To silence this warning, use `float` by itself. Doing this will not modify any behavior and is safe. If you specifically wanted the numpy scalar type, use `np.float64` here.\n",
      "Deprecated in NumPy 1.20; for more details and guidance: https://numpy.org/devdocs/release/1.20.0-notes.html#deprecations\n",
      "  eps=np.finfo(np.float).eps, copy_X=True, fit_path=True,\n",
      "/Users/jball/opt/anaconda3/envs/ojs/lib/python3.7/site-packages/sklearn/linear_model/least_angle.py:1127: DeprecationWarning: `np.float` is a deprecated alias for the builtin `float`. To silence this warning, use `float` by itself. Doing this will not modify any behavior and is safe. If you specifically wanted the numpy scalar type, use `np.float64` here.\n",
      "Deprecated in NumPy 1.20; for more details and guidance: https://numpy.org/devdocs/release/1.20.0-notes.html#deprecations\n",
      "  eps=np.finfo(np.float).eps, positive=False):\n",
      "/Users/jball/opt/anaconda3/envs/ojs/lib/python3.7/site-packages/sklearn/linear_model/least_angle.py:1362: DeprecationWarning: `np.float` is a deprecated alias for the builtin `float`. To silence this warning, use `float` by itself. Doing this will not modify any behavior and is safe. If you specifically wanted the numpy scalar type, use `np.float64` here.\n",
      "Deprecated in NumPy 1.20; for more details and guidance: https://numpy.org/devdocs/release/1.20.0-notes.html#deprecations\n",
      "  max_n_alphas=1000, n_jobs=None, eps=np.finfo(np.float).eps,\n",
      "/Users/jball/opt/anaconda3/envs/ojs/lib/python3.7/site-packages/sklearn/linear_model/least_angle.py:1602: DeprecationWarning: `np.float` is a deprecated alias for the builtin `float`. To silence this warning, use `float` by itself. Doing this will not modify any behavior and is safe. If you specifically wanted the numpy scalar type, use `np.float64` here.\n",
      "Deprecated in NumPy 1.20; for more details and guidance: https://numpy.org/devdocs/release/1.20.0-notes.html#deprecations\n",
      "  max_n_alphas=1000, n_jobs=None, eps=np.finfo(np.float).eps,\n",
      "/Users/jball/opt/anaconda3/envs/ojs/lib/python3.7/site-packages/sklearn/linear_model/least_angle.py:1738: DeprecationWarning: `np.float` is a deprecated alias for the builtin `float`. To silence this warning, use `float` by itself. Doing this will not modify any behavior and is safe. If you specifically wanted the numpy scalar type, use `np.float64` here.\n",
      "Deprecated in NumPy 1.20; for more details and guidance: https://numpy.org/devdocs/release/1.20.0-notes.html#deprecations\n",
      "  eps=np.finfo(np.float).eps, copy_X=True, positive=False):\n",
      "/Users/jball/opt/anaconda3/envs/ojs/lib/python3.7/site-packages/sklearn/decomposition/online_lda.py:29: DeprecationWarning: `np.float` is a deprecated alias for the builtin `float`. To silence this warning, use `float` by itself. Doing this will not modify any behavior and is safe. If you specifically wanted the numpy scalar type, use `np.float64` here.\n",
      "Deprecated in NumPy 1.20; for more details and guidance: https://numpy.org/devdocs/release/1.20.0-notes.html#deprecations\n",
      "  EPS = np.finfo(np.float).eps\n"
     ]
    },
    {
     "name": "stdout",
     "output_type": "stream",
     "text": [
      "Journals classified.\n",
      "CPU times: user 54.5 s, sys: 5.79 s, total: 1min\n",
      "Wall time: 40.3 s\n"
     ]
    }
   ],
   "source": [
    "%%time \n",
    "OJS = fosc(\n",
    "    df=issn2payload, \n",
    "    model_id=model_id, \n",
    "    model=model)"
   ]
  },
  {
   "cell_type": "code",
   "execution_count": 24,
   "id": "46e77291",
   "metadata": {},
   "outputs": [],
   "source": [
    "filepath = os.path.join(data_dir, 'issn2discipline.csv')\n",
    "OJS.to_csv(filepath)"
   ]
  },
  {
   "cell_type": "markdown",
   "id": "2a30bc89",
   "metadata": {},
   "source": [
    "#### A. Disciplines of journals using OJS to publish in 10 primary languages* ($\\it{n}$ = 22,544)<a id=disc></a>\n",
    "* English, Bahasa Indonesia, Spanish, Portuguese, Afrikaans, Russian, Ukrainian, German, French, Japanese"
   ]
  },
  {
   "cell_type": "code",
   "execution_count": 25,
   "id": "bfebe670",
   "metadata": {},
   "outputs": [
    {
     "data": {
      "image/png": "[encoded data removed]",
      "text/plain": [
       "<Figure size 432x720 with 1 Axes>"
      ]
     },
     "metadata": {},
     "output_type": "display_data"
    }
   ],
   "source": [
    "sns.set_theme(style=\"whitegrid\", font_scale=1.25)\n",
    "\n",
    "fig, ax = plt.subplots(figsize=(6,10))\n",
    "\n",
    "sns.barplot(x=\"Count\", y=\"Discipline\", data=OJS,\n",
    "            label=\"Total\", color=\"grey\")\n",
    "\n",
    "sns.despine(bottom=True)\n",
    "\n",
    "ax.set(xlim=(0, 4200),\n",
    "       xlabel = 'Active journals using OJS',\n",
    "       ylabel = 'Discipline',\n",
    "       title = 'Disciplines of journals using OJS to publish in 10 primary languages* ($\\it{n}$ = 22,544)')\n",
    "\n",
    "matplotlib.pyplot.xticks([0, 500, 1000, 1500, 2000, 2500, 3000, 3500],\n",
    "                         ['0', '500', '1,000', '1,500', '2,000', '2,500', '3,000',  '3,500'])\n",
    "\n",
    "for p in ax.patches:\n",
    "    _x = p.get_x() + p.get_width()\n",
    "    _y = p.get_y() + p.get_height() - 0.2\n",
    "    percent = round(((p.get_width() / 22544) * 100), 1)\n",
    "    if len(str(int(p.get_width()))) == 4:\n",
    "        value = str(int(p.get_width()))[0] + ',' + str(int(p.get_width()))[1:] + ' ({})'.format(str(percent)+'%')\n",
    "    else:\n",
    "        value = str(int(p.get_width())) + ' ({})'.format(str(percent)+'%')\n",
    "    ax.text(_x + 42, _y, value, ha='left', weight='bold')\n",
    "\n",
    "plt.savefig('OJSdisciplines.png', bbox_inches='tight')"
   ]
  },
  {
   "cell_type": "code",
   "execution_count": 26,
   "id": "ecc76d80",
   "metadata": {},
   "outputs": [
    {
     "data": {
      "text/plain": [
       "{'Division': ['Social Sciences', 'STEM', 'Humanities'],\n",
       " 'Count': [10342, 9092, 3110]}"
      ]
     },
     "execution_count": 26,
     "metadata": {},
     "output_type": "execute_result"
    }
   ],
   "source": [
    "OJSpivot = OJS.pivot_table(columns='Discipline')\n",
    "\n",
    "d = {'Division': ['Social Sciences', 'STEM', 'Humanities'],\n",
    "     'Count': [OJSpivot[SOCSCI].values.sum(axis=1)[0],\n",
    "               OJSpivot[STEM].values.sum(axis=1)[0],\n",
    "               OJSpivot[HUM].values.sum(axis=1)[0]]}\n",
    "d"
   ]
  },
  {
   "cell_type": "markdown",
   "id": "4cfcfd98",
   "metadata": {},
   "source": [
    "#### B. Distribution of journals using OJS to publish in 10 primary languages*\\n by their disciplinary coverage ($\\it{n}$ = 22,544)<a id=div></a>\n",
    "* English, Bahasa Indonesia, Spanish, Portuguese, Afrikaans, Russian, Ukrainian, German, French, Japanese"
   ]
  },
  {
   "cell_type": "code",
   "execution_count": 27,
   "id": "c1b2385d",
   "metadata": {},
   "outputs": [
    {
     "data": {
      "image/png": "[encoded data removed]",
      "text/plain": [
       "<Figure size 432x288 with 1 Axes>"
      ]
     },
     "metadata": {},
     "output_type": "display_data"
    }
   ],
   "source": [
    "sns.set_theme(style=\"whitegrid\", font_scale=1.25)\n",
    "\n",
    "fig, ax = plt.subplots()\n",
    "\n",
    "sns.barplot(x=\"Count\", y=\"Division\", data=d,\n",
    "            label=\"Total\", color=\"grey\")\n",
    "\n",
    "sns.despine(bottom=True)\n",
    "\n",
    "ax.set(xlim=(0, 12000),\n",
    "       xlabel = 'Active journals using OJS',\n",
    "       ylabel = 'Discipline',\n",
    "       title = 'Distribution of journals using OJS to publish in 10 primary languages*\\n by their disciplinary coverage ($\\it{n}$ = 22,544)')\n",
    "\n",
    "matplotlib.pyplot.xticks([0, 2000, 4000, 6000, 8000, 10000],\n",
    "                         ['0', '2,000', '4,000', '6,000', '8,000', '10,000'])\n",
    "\n",
    "for p in ax.patches:\n",
    "    _x = p.get_x() + p.get_width()\n",
    "    _y = p.get_y() + p.get_height() - 0.33\n",
    "    percent = round(((p.get_width() / 22544) * 100), 1)\n",
    "    if len(str(int(p.get_width()))) == 4:\n",
    "        value = str(int(p.get_width()))[0] + ',' + str(int(p.get_width()))[1:] + ' ({})'.format(str(percent)+'%')\n",
    "    else:\n",
    "        value = str(int(p.get_width())) + ' ({})'.format(str(percent)+'%')\n",
    "    ax.text(_x + 150, _y, value, ha='left', weight='bold')\n",
    "\n",
    "plt.savefig('OJSdivisions.png', bbox_inches='tight')"
   ]
  },
  {
   "cell_type": "markdown",
   "id": "679ca94a",
   "metadata": {},
   "source": [
    "English:"
   ]
  },
  {
   "cell_type": "code",
   "execution_count": null,
   "id": "e7b8efaa",
   "metadata": {},
   "outputs": [],
   "source": [
    "%%time \n",
    "EN = fosc(\n",
    "    issn2payload=issn2payload_en, \n",
    "    model_id=model_id, \n",
    "    model=model)"
   ]
  }
 ],
 "metadata": {
  "kernelspec": {
   "display_name": "Python 3 (ipykernel)",
   "language": "python",
   "name": "python3"
  },
  "language_info": {
   "codemirror_mode": {
    "name": "ipython",
    "version": 3
   },
   "file_extension": ".py",
   "mimetype": "text/x-python",
   "name": "python",
   "nbconvert_exporter": "python",
   "pygments_lexer": "ipython3",
   "version": "3.7.12"
  }
 },
 "nbformat": 4,
 "nbformat_minor": 5
}
