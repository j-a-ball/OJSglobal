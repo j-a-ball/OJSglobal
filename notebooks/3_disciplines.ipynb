{
 "cells": [
  {
   "cell_type": "markdown",
   "id": "215bc882",
   "metadata": {},
   "source": [
    "# 3. Disciplines of Journals using OJS <a name=languages></a>"
   ]
  },
  {
   "cell_type": "markdown",
   "id": "86a287a8",
   "metadata": {},
   "source": [
    "### Notebook objectives:\n",
    "1. Translate concatenated titles and abstracts from Bahasa Indonesia, Spanish, and Portuguese to English using [UKP's EasyNMT neural machine translator.](#nmt) This is necessary because the field of study classifier was trained on English text.<br><br>\n",
    "2. Classify the journals known to be actively using OJS by applying [Weber et al.'s (2020) neural field of study classifier](#fosc) to titles and abstracts.<br><br>\n",
    "3. Group the classified journals into 3 divisions: [STEM, Social Sciences, or Humanities.](#visuals)\n",
    "  1. [English, Bahasa Indonesia, Spanish, Portuguese](#all)\n",
    "  2. [English](#en)\n",
    "  3. [Bahasa Indonesia](#id)\n",
    "  4. [Spanish](#es)\n",
    "  5. [Portuguese](#pt)"
   ]
  },
  {
   "cell_type": "markdown",
   "id": "455f83af",
   "metadata": {},
   "source": [
    "Import packages:"
   ]
  },
  {
   "cell_type": "code",
   "execution_count": null,
   "id": "8cd78e3b",
   "metadata": {},
   "outputs": [],
   "source": [
    "from collections import defaultdict\n",
    "from collections import Counter\n",
    "from tqdm import tqdm\n",
    "import matplotlib.pyplot as plt\n",
    "import seaborn as sns\n",
    "import pandas as pd\n",
    "import ijson\n",
    "import json\n",
    "import time\n",
    "import re\n",
    "import os"
   ]
  },
  {
   "cell_type": "markdown",
   "id": "20c9d8ec",
   "metadata": {},
   "source": [
    "### 1. Translating jounal titles and abstracts with <a href='https://github.com/UKPLab/EasyNMT'>UKP's EasyNMT neural machine translator</a><a id='nmt'></a>"
   ]
  },
  {
   "cell_type": "markdown",
   "id": "6a4bc62e",
   "metadata": {},
   "source": [
    "Import EasyNMT:"
   ]
  },
  {
   "cell_type": "code",
   "execution_count": null,
   "id": "76337eea",
   "metadata": {},
   "outputs": [],
   "source": [
    "import numpy\n",
    "import tensorflow\n",
    "from easynmt import EasyNMT"
   ]
  },
  {
   "cell_type": "markdown",
   "id": "c0c184b1",
   "metadata": {},
   "source": [
    "First, create a function that:\n",
    "<br>\n",
    "1. Reads each of the Indonesian, Spanish, and Portuguese .json files mapping journal ISSNs to concatenated article titles and abstracts, or payloads;\n",
    "<br><br>\n",
    "2. Translates the payloads for each journal from the specified source language ('id', 'es', 'pt') to the target language, English ('en');\n",
    "<br><br>\n",
    "3. Saves a dictionary mapping journal ISSN to translated payload as a .json file:"
   ]
  },
  {
   "cell_type": "code",
   "execution_count": null,
   "id": "d008cba0",
   "metadata": {},
   "outputs": [],
   "source": [
    "def translate(infile, outfile, model, source_lang):\n",
    "    issn2translation = {}\n",
    "    with open(infile, 'r') as _infile:\n",
    "        d = json.load(_infile)\n",
    "        \n",
    "    for k, v in d.items():\n",
    "        d[k] = ' '.join(w.strip('\\n') for w in v.split()[:100]) #clip all inputs at 100 tokens to lessen memory needs\n",
    "    \n",
    "    print('Translating payloads...')\n",
    "    for k, v in tqdm(list(d.items())):\n",
    "        issn2translation[k] = model.translate(v, source_lang=source_lang, target_lang='en')\n",
    "    \n",
    "    with open(outfile, 'w') as _outfile:\n",
    "        json.dump(issn2translation, _outfile)\n",
    "        print('Translated payloads saved.')"
   ]
  },
  {
   "cell_type": "markdown",
   "id": "96d39f12",
   "metadata": {},
   "source": [
    "Bahasa Indonesia:"
   ]
  },
  {
   "cell_type": "code",
   "execution_count": null,
   "id": "a6b87fda",
   "metadata": {},
   "outputs": [],
   "source": [
    "infile_id = os.path.join('data', 'issn2id.json')\n",
    "outfile_id = os.path.join('data', 'issn2id_trans.json')\n",
    "opus = EasyNMT('opus-mt') #Helsinki NLP opus for id -> en\n",
    "%time translate(infile=infile_id, outfile=outfile_id, model=opus, source_lang='id')"
   ]
  },
  {
   "cell_type": "markdown",
   "id": "6ccea9dc",
   "metadata": {},
   "source": [
    "Spanish:"
   ]
  },
  {
   "cell_type": "code",
   "execution_count": null,
   "id": "599910f1",
   "metadata": {},
   "outputs": [],
   "source": [
    "infile_es = os.path.join('data', 'issn2es.json')\n",
    "outfile_es = os.path.join('data', 'issn2es_trans.json')\n",
    "opus = EasyNMT('opus-mt') #Helsinki NLP opus for es -> en\n",
    "%time translate(infile=infile_es, outfile=outfile_es, model=opus, source_lang='es')"
   ]
  },
  {
   "cell_type": "code",
   "execution_count": null,
   "id": "ba277165",
   "metadata": {},
   "outputs": [],
   "source": [
    "del opus"
   ]
  },
  {
   "cell_type": "markdown",
   "id": "efb077d6",
   "metadata": {},
   "source": [
    "Portuguese:"
   ]
  },
  {
   "cell_type": "code",
   "execution_count": null,
   "id": "253b3035",
   "metadata": {},
   "outputs": [],
   "source": [
    "infile_pt = os.path.join('data', 'issn2pt.json')\n",
    "outfile_pt = os.path.join('data', 'issn2pt_trans.json')\n",
    "mbart = EasyNMT('mbart50_m2en') #Facebook (Meta) mbart50_m2en for pt -> en\n",
    "%time translate(infile=infile_pt, outfile=outfile_pt, model=mbart, source_lang='pt')"
   ]
  },
  {
   "cell_type": "markdown",
   "id": "dd65b3f4",
   "metadata": {},
   "source": [
    "### 2. OJS Field of Study Classification<a id='fosc'></a>\n",
    "<br>\n",
    "Instantiate <a href='https://direct.mit.edu/qss/article/1/2/525/96148/Using-supervised-learning-to-classify-metadata-of'>Weber et al.'s (2020)</a> feedforward neural net for classifying academic fields of study:"
   ]
  },
  {
   "cell_type": "code",
   "execution_count": null,
   "id": "dd437b44",
   "metadata": {},
   "outputs": [],
   "source": [
    "from fosc import load_model, vectorize\n",
    "from fosc.config import config\n",
    "model_id = 'mlp_l'\n",
    "model = load_model(model_id)"
   ]
  },
  {
   "cell_type": "markdown",
   "id": "92249bed",
   "metadata": {},
   "source": [
    "Create a dict mapping the labels of the fosc classifier `int` to `str`:"
   ]
  },
  {
   "cell_type": "code",
   "execution_count": null,
   "id": "237031d2",
   "metadata": {},
   "outputs": [],
   "source": [
    "anzsrc = {\n",
    "    0:'Mathematical Sciences',\n",
    "    1:'Physical Sciences',\n",
    "    2:'Chemical Sciences',\n",
    "    3:'Earth and Environmental Sciences',\n",
    "    4:'Biological Sciences',\n",
    "    5:'Agricultural and Veterinary Sciences',\n",
    "    6:'Information and Computing Sciences',\n",
    "    7:'Engineering and Technology',\n",
    "    8:'Medical and Health Sciences',\n",
    "    9:'Built Environment and Design',\n",
    "    10:'Education',\n",
    "    11:'Economics',\n",
    "    12:'Commerce, Management, Tourism and Services',\n",
    "    13:'Studies in Human Society',\n",
    "    14:'Psychology and Cognitive Sciences',\n",
    "    15:'Law and Legal Studies',\n",
    "    16:'Studies in Creative Arts and Writing',\n",
    "    17:'Language, Communication and Culture',\n",
    "    18:'History and Archaeology',\n",
    "    19:'Philosophy and Religious Studies'\n",
    "}"
   ]
  },
  {
   "cell_type": "markdown",
   "id": "88188912",
   "metadata": {},
   "source": [
    "Group the <a href='https://www.abs.gov.au/statistics/classifications/australian-and-new-zealand-standard-research-classification-anzsrc/latest-release'>20 ANZSRC labels</a> into three broad divisions: STEM, Social Sciences, and Humanities"
   ]
  },
  {
   "cell_type": "code",
   "execution_count": null,
   "id": "a6d3f010",
   "metadata": {},
   "outputs": [],
   "source": [
    "STEM = ['Agricultural and Veterinary Sciences', \n",
    "        'Biological Sciences', \n",
    "        'Built Environment and Design', \n",
    "        'Chemical Sciences',\n",
    "        'Earth and Environmental Sciences',\n",
    "        'Engineering and Technology',\n",
    "        'Information and Computing Sciences',\n",
    "        'Mathematical Sciences',\n",
    "        'Medical and Health Sciences',\n",
    "        'Physical Sciences']\n",
    "\n",
    "SOCSCI = ['Commerce, Management, Tourism and Services',\n",
    "          'Economics',\n",
    "          'Education',\n",
    "          'Law and Legal Studies',\n",
    "          'Psychology and Cognitive Sciences',\n",
    "          'Studies in Human Society']\n",
    "\n",
    "HUM = ['History and Archaeology',\n",
    "       'Language, Communication and Culture',\n",
    "       'Philosophy and Religious Studies',\n",
    "       'Studies in Creative Arts and Writing']"
   ]
  },
  {
   "cell_type": "markdown",
   "id": "e8e71bd2",
   "metadata": {},
   "source": [
    "Create a short helper function for converting integer labels to text labels:"
   ]
  },
  {
   "cell_type": "code",
   "execution_count": null,
   "id": "93e130a9",
   "metadata": {},
   "outputs": [],
   "source": [
    "def assign_discipline(row):\n",
    "    return anzsrc[row['discipline']]"
   ]
  },
  {
   "cell_type": "markdown",
   "id": "8f7553d1",
   "metadata": {},
   "source": [
    "Create a function that:\n",
    "<br>\n",
    "1. Reads a .json file with a dictionary mapping journal issn to a payload of concatenated article abstracts for each journal;\n",
    "<br><br>\n",
    "2. Passes each payload to Weber et al.'s field of study classifier (fosc);\n",
    "<br><br>\n",
    "3. Selects the most likely field of study label :"
   ]
  },
  {
   "cell_type": "code",
   "execution_count": null,
   "id": "2d97dc62",
   "metadata": {},
   "outputs": [],
   "source": [
    "def fosc(issn2payload, model_id, model):\n",
    " \n",
    "    to_df = {'issn': issn2payload.keys(), 'payload': issn2payload.values()}\n",
    "    df = pd.DataFrame.from_dict(to_df)\n",
    "    del issn2payload, to_df\n",
    "    print('{} examples loaded.'.format(len(to_df))\n",
    "\n",
    "    vectorized = vectorize(df['payload'], model_id)\n",
    "    preds = pd.DataFrame(model.predict(vectorized))\n",
    "    payDF = df.join(preds)\n",
    "\n",
    "    #select a primary field of study classification label\n",
    "    df['discipline'] = df[[i for i in range(0, 20)]].idxmax(axis=1)\n",
    "    df['discipline'] = df.apply(assign_discipline, axis=1)\n",
    "    print('Journals classified.')\n",
    "    \n",
    "    #return a final DF of discipline counts\n",
    "    countDF = pd.DataFrame(df['discipline'].value_counts())\n",
    "    del df\n",
    "    countDF.reset_index(inplace=True)\n",
    "    countDF = countDF.rename(columns = {'index':'Discipline',\n",
    "                                        'discipline': 'Count'})\n",
    "    return countDF"
   ]
  },
  {
   "cell_type": "markdown",
   "id": "5bab9c4e",
   "metadata": {},
   "source": [
    "### Visualize <a id='visuals'></a>"
   ]
  },
  {
   "cell_type": "markdown",
   "id": "7969e6d1",
   "metadata": {},
   "source": [
    "#### English, Bahasa Indonesia, Spanish, and Portuguese: <a id='all'></a>\n",
    "<br>\n",
    "Create a helper function to load a dataset of English + translated payloads for disciplinary classification:"
   ]
  },
  {
   "cell_type": "code",
   "execution_count": null,
   "id": "121d38b1",
   "metadata": {},
   "outputs": [],
   "source": [
    "def create_dataset(lang_list):\n",
    "    #English\n",
    "    with open(os.path.join('data', 'issn2en.json'), 'r') as en:\n",
    "        issn2payload = json.load(en)\n",
    "        \n",
    "    for code in lang_list:\n",
    "        filename = 'issn2' + code + '_trans.json'\n",
    "        with open(os.path.join('data', filename), 'r') as infile:\n",
    "            d = json.load(infile)\n",
    "            for k, v in d.items():\n",
    "                if k not in issn2payload:\n",
    "                    issn2payload[k] = v\n",
    "            del d\n",
    "            \n",
    "    return issn2payload\n",
    "    print('{} payloads ready for classification.'.format(len(issn2payload)))"
   ]
  },
  {
   "cell_type": "code",
   "execution_count": null,
   "id": "34eb9346",
   "metadata": {},
   "outputs": [],
   "source": [
    "issn2payload = create_dataset(['id', 'es', 'pt'])"
   ]
  },
  {
   "cell_type": "code",
   "execution_count": null,
   "id": "67af5b9d",
   "metadata": {},
   "outputs": [],
   "source": [
    "%%time \n",
    "OJS = fosc(\n",
    "    issn2payload=issn2payload, \n",
    "    model_id=model_id, \n",
    "    model=model)"
   ]
  },
  {
   "cell_type": "code",
   "execution_count": null,
   "id": "bfebe670",
   "metadata": {},
   "outputs": [],
   "source": [
    "sns.set_theme(style=\"whitegrid\")\n",
    "\n",
    "fig, ax = plt.subplots(figsize=(4, 10))\n",
    "\n",
    "sns.barplot(x=\"Count\", y=\"Discipline\", data=OJS,\n",
    "            label=\"Total\", color=\"grey\")\n",
    "\n",
    "sns.despine(bottom=True)\n",
    "\n",
    "ax.set(xlim=(0, 3000),\n",
    "       xlabel = 'Active journals using OJS',\n",
    "       ylabel = 'Discipline',\n",
    "       title = 'Disciplines of English-language journals ($\\it{n}$ = 17,761)')\n",
    "\n",
    "matplotlib.pyplot.xticks([0, 500, 1000, 1500, 2000, 2500],\n",
    "                         ['0', '500', '1,000', '1,500', '2,000', '2,500'])\n",
    "\n",
    "for p in ax.patches:\n",
    "    _x = p.get_x() + p.get_width()\n",
    "    _y = p.get_y() + p.get_height() - 0.25\n",
    "    percent = round(((p.get_width() / 17761) * 100), 1)\n",
    "    if len(str(int(p.get_width()))) == 4:\n",
    "        value = str(int(p.get_width()))[0] + ',' + str(int(p.get_width()))[1:] + ' ({})'.format(str(percent)+'%')\n",
    "    else:\n",
    "        value = str(int(p.get_width())) + ' ({})'.format(str(percent)+'%')\n",
    "    ax.text(_x + 150, _y, value, ha='left', weight='bold')\n",
    "\n",
    "plt.savefig('disc_en.png', bbox_inches='tight')"
   ]
  },
  {
   "cell_type": "markdown",
   "id": "679ca94a",
   "metadata": {},
   "source": [
    "English:"
   ]
  },
  {
   "cell_type": "code",
   "execution_count": null,
   "id": "e7b8efaa",
   "metadata": {},
   "outputs": [],
   "source": [
    "%%time \n",
    "EN = fosc(\n",
    "    issn2payload=issn2payload_en, \n",
    "    model_id=model_id, \n",
    "    model=model)"
   ]
  },
  {
   "cell_type": "code",
   "execution_count": null,
   "id": "4f446c0d",
   "metadata": {},
   "outputs": [],
   "source": [
    "sns.set_theme(style=\"whitegrid\")\n",
    "\n",
    "# Initialize the matplotlib figure\n",
    "fig, ax = plt.subplots(figsize=(4, 10))\n",
    "\n",
    "# Plot the\n",
    "sns.set_color_codes(\"pastel\")\n",
    "sns.barplot(x=\"Count\", y=\"Discipline\", data=EN,\n",
    "            label=\"Total\", color=\"grey\")\n",
    "\n",
    "sns.despine(bottom=True)\n",
    "\n",
    "ax.set(xlim=(0, 3000),\n",
    "       xlabel = 'Active journals using OJS',\n",
    "       ylabel = 'Discipline',\n",
    "       title = 'Disciplines of English-language journals ($\\it{n}$ = 17,761)')\n",
    "\n",
    "matplotlib.pyplot.xticks([0, 500, 1000, 1500, 2000, 2500],\n",
    "                         ['0', '500', '1,000', '1,500', '2,000', '2,500'])\n",
    "\n",
    "for p in ax.patches:\n",
    "    _x = p.get_x() + p.get_width()\n",
    "    _y = p.get_y() + p.get_height() - 0.25\n",
    "    percent = round(((p.get_width() / 17761) * 100), 1)\n",
    "    if len(str(int(p.get_width()))) == 4:\n",
    "        value = str(int(p.get_width()))[0] + ',' + str(int(p.get_width()))[1:] + ' ({})'.format(str(percent)+'%')\n",
    "    else:\n",
    "        value = str(int(p.get_width())) + ' ({})'.format(str(percent)+'%')\n",
    "    ax.text(_x + 150, _y, value, ha='left', weight='bold')\n",
    "\n",
    "plt.savefig('disc_en.png', bbox_inches='tight')"
   ]
  },
  {
   "cell_type": "code",
   "execution_count": null,
   "id": "147c9ef1",
   "metadata": {},
   "outputs": [],
   "source": [
    "pivot_en = EN.pivot_table(columns='Discipline')\n",
    "\n",
    "triDF_en = {'Division': ['Social Sciences', 'STEM', 'Humanities'],\n",
    "            'Count': [pivot_en[SOCSCI].values.sum(axis=1)[0],\n",
    "                      pivot_en[STEM].values.sum(axis=1)[0],\n",
    "                      pivot_en[HUM].values.sum(axis=1)[0]]}"
   ]
  },
  {
   "cell_type": "code",
   "execution_count": null,
   "id": "be8b87c2",
   "metadata": {},
   "outputs": [],
   "source": [
    "sns.set_theme(style=\"whitegrid\")\n",
    "\n",
    "# Initialize the matplotlib figure\n",
    "fig, ax = plt.subplots(figsize=(10,4))\n",
    "\n",
    "sns.barplot(x=\"Count\", y=\"Division\", data=triDF_en, color=\"grey\")\n",
    "\n",
    "sns.despine(bottom=True)\n",
    "\n",
    "ax.set(xlim=(0, 10000),\n",
    "       xlabel = 'Active journals using OJS',\n",
    "       ylabel = 'Division',\n",
    "       title = 'English-language journals ($\\it{n}$ = 17,761)')\n",
    "\n",
    "matplotlib.pyplot.xticks([0, 1000, 2000, 3000, 4000, 5000, 6000, 7000, 8000, 9000, 10000],\n",
    "                         ['0', '1,000', '2,000', '3,000', '4,000', '5,000', '6,000', '7,000', '8,000', '9,000', ''])\n",
    "\n",
    "for p in ax.patches:\n",
    "    _x = p.get_x() + p.get_width()\n",
    "    _y = p.get_y() + p.get_height() - 0.33\n",
    "    percent = round(((p.get_width() / 17761) * 100), 1)\n",
    "    if len(str(int(p.get_width()))) == 4:\n",
    "        value = str(int(p.get_width()))[0] + ',' + str(int(p.get_width()))[1:] + ' ({})'.format(str(percent)+'%')\n",
    "    else:\n",
    "        value = str(int(p.get_width())) + ' ({})'.format(str(percent)+'%')\n",
    "    ax.text(_x + 125, _y, value, ha='left', weight='bold')\n",
    "\n",
    "plt.savefig('div_en.png', bbox_inches='tight')"
   ]
  },
  {
   "cell_type": "markdown",
   "id": "d48d68b3",
   "metadata": {},
   "source": [
    "Bahasa Indonesia:"
   ]
  },
  {
   "cell_type": "code",
   "execution_count": null,
   "id": "f090683d",
   "metadata": {},
   "outputs": [],
   "source": [
    "sns.set_theme(style=\"whitegrid\")\n",
    "\n",
    "# Initialize the matplotlib figure\n",
    "fig, ax = plt.subplots(figsize=(10,4))\n",
    "\n",
    "sns.barplot(x=\"Count\", y=\"Division\", data=triDF_en, color=\"grey\")\n",
    "\n",
    "sns.despine(bottom=True)\n",
    "\n",
    "ax.set(xlim=(0, 10000),\n",
    "       xlabel = 'Active journals using OJS',\n",
    "       ylabel = 'Division',\n",
    "       title = 'English-language journals ($\\it{n}$ = 17,761)')\n",
    "\n",
    "matplotlib.pyplot.xticks([0, 1000, 2000, 3000, 4000, 5000, 6000, 7000, 8000, 9000, 10000],\n",
    "                         ['0', '1,000', '2,000', '3,000', '4,000', '5,000', '6,000', '7,000', '8,000', '9,000', ''])\n",
    "\n",
    "for p in ax.patches:\n",
    "    _x = p.get_x() + p.get_width()\n",
    "    _y = p.get_y() + p.get_height() - 0.33\n",
    "    percent = round(((p.get_width() / 17761) * 100), 1)\n",
    "    if len(str(int(p.get_width()))) == 4:\n",
    "        value = str(int(p.get_width()))[0] + ',' + str(int(p.get_width()))[1:] + ' ({})'.format(str(percent)+'%')\n",
    "    else:\n",
    "        value = str(int(p.get_width())) + ' ({})'.format(str(percent)+'%')\n",
    "    ax.text(_x + 125, _y, value, ha='left', weight='bold')\n",
    "\n",
    "plt.savefig('div_en.png', bbox_inches='tight')"
   ]
  },
  {
   "cell_type": "code",
   "execution_count": null,
   "id": "429c57ad",
   "metadata": {},
   "outputs": [],
   "source": [
    "sns.set_theme(style=\"whitegrid\")\n",
    "\n",
    "# Initialize the matplotlib figure\n",
    "fig, ax = plt.subplots()\n",
    "\n",
    "# Plot\n",
    "sns.set_color_codes(\"pastel\")\n",
    "sns.barplot(x=\"Count\", y=\"Discipline\", data=countDF_all, color=\"grey\")\n",
    "\n",
    "sns.despine(bottom=True)\n",
    "\n",
    "ax.set(xlim=(0, 3000),\n",
    "       xlabel = 'Active journals using OJS',\n",
    "       ylabel = 'Discipline',\n",
    "       title = 'Disciplines of active journals ($\\it{n}$ = 20,181)')\n",
    "\n",
    "matplotlib.pyplot.xticks([0, 500, 1000, 1500, 2000, 2500],\n",
    "                         ['0', '500', '1,000', '1,500', '2,000', '2,500'])\n",
    "\n",
    "for p in ax.patches:\n",
    "    _x = p.get_x() + p.get_width()\n",
    "    _y = p.get_y() + p.get_height() - 0.25\n",
    "    percent = round(((p.get_width() / 20181) * 100), 1)\n",
    "    if len(str(int(p.get_width()))) == 4:\n",
    "        value = str(int(p.get_width()))[0] + ',' + str(int(p.get_width()))[1:] + ' ({})'.format(str(percent)+'%')\n",
    "    else:\n",
    "        value = str(int(p.get_width())) + ' ({})'.format(str(percent)+'%')\n",
    "    ax.text(_x + 40, _y, value, ha='left', weight='bold')\n",
    "\n",
    "plt.savefig('disc_all.png', bbox_inches='tight')\n",
    "\n",
    "pivot_all = countDF_all.pivot_table(columns='Discipline')\n",
    "\n",
    "triDF_all = {'Division': ['Social Sciences', 'STEM', 'Humanities'],\n",
    "            'Count': [pivot_all[SOCSCI].values.sum(axis=1)[0],\n",
    "                      pivot_all[STEM].values.sum(axis=1)[0],\n",
    "                      pivot_all[HUM].values.sum(axis=1)[0]]}\n",
    "triDF_all\n",
    "\n",
    "sns.set_theme(style=\"whitegrid\")\n",
    "\n",
    "# Initialize the matplotlib figure\n",
    "fig, ax = plt.subplots(figsize=(10,4))\n",
    "\n",
    "sns.barplot(x=\"Count\", y=\"Division\", data=triDF_all, color=\"grey\")\n",
    "\n",
    "sns.despine(bottom=True)\n",
    "\n",
    "ax.set(xlim=(0, 10000),\n",
    "       xlabel = 'Active journals using OJS',\n",
    "       ylabel = 'Division',\n",
    "       title = 'English, Indonesian, Spanish, and Portuguese-language journals ($\\it{n}$ = 20,181)')\n",
    "\n",
    "matplotlib.pyplot.xticks([0, 1000, 2000, 3000, 4000, 5000, 6000, 7000, 8000, 9000, 10000],\n",
    "                         ['0', '1,000', '2,000', '3,000', '4,000', '5,000', '6,000', '7,000', '8,000', '9,000', ''])\n",
    "\n",
    "for p in ax.patches:\n",
    "    _x = p.get_x() + p.get_width()\n",
    "    _y = p.get_y() + p.get_height() - 0.33\n",
    "    percent = round(((p.get_width() / 20181) * 100), 1)\n",
    "    if len(str(int(p.get_width()))) == 4:\n",
    "        value = str(int(p.get_width()))[0] + ',' + str(int(p.get_width()))[1:] + ' ({})'.format(str(percent)+'%')\n",
    "    else:\n",
    "        value = str(int(p.get_width())) + ' ({})'.format(str(percent)+'%')\n",
    "    ax.text(_x + 150, _y, value, ha='left', weight='bold')\n",
    "\n",
    "plt.savefig('div_all.png', bbox_inches='tight')"
   ]
  }
 ],
 "metadata": {
  "kernelspec": {
   "display_name": "OJS",
   "language": "python",
   "name": "ojs"
  },
  "language_info": {
   "codemirror_mode": {
    "name": "ipython",
    "version": 3
   },
   "file_extension": ".py",
   "mimetype": "text/x-python",
   "name": "python",
   "nbconvert_exporter": "python",
   "pygments_lexer": "ipython3",
   "version": "3.7.11"
  }
 },
 "nbformat": 4,
 "nbformat_minor": 5
}
