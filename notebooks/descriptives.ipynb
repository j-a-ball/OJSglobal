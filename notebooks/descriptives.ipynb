{
 "cells": [
  {
   "cell_type": "code",
   "execution_count": 1,
   "metadata": {},
   "outputs": [],
   "source": [
    "import os\n",
    "import re\n",
    "import json\n",
    "import tqdm\n",
    "import fasttext\n",
    "import numpy as np\n",
    "import pandas as pd\n",
    "import networkx as nx\n",
    "from numpy import array # needed for eval()"
   ]
  },
  {
   "cell_type": "code",
   "execution_count": 2,
   "metadata": {},
   "outputs": [],
   "source": [
    "def get_primary_discipline(category_str):\n",
    "    try:\n",
    "        category_dict = eval(category_str)\n",
    "        first_level_disciplines = category_dict[\"first_level\"][\"full\"]\n",
    "        if len(first_level_disciplines) > 0:\n",
    "            return first_level_disciplines[0][\"name\"]\n",
    "        else:\n",
    "            return None\n",
    "    except (KeyError, IndexError, SyntaxError, TypeError, ValueError):\n",
    "        return None"
   ]
  },
  {
   "cell_type": "code",
   "execution_count": 3,
   "metadata": {},
   "outputs": [],
   "source": [
    "def get_country(country_str):\n",
    "    try:\n",
    "        country_list = [s.strip(\"'\") for s in re.split(r\"'\\s+\", country_str.strip(\"[]\")) if s.strip(\"'\")]\n",
    "        if len(country_list) > 0:\n",
    "            return country_list[0]\n",
    "        else:\n",
    "            return None\n",
    "    except (KeyError, IndexError, SyntaxError, TypeError, ValueError):\n",
    "        return None"
   ]
  },
  {
   "cell_type": "code",
   "execution_count": 4,
   "metadata": {},
   "outputs": [],
   "source": [
    "fasttext.FastText.eprint = lambda *args, **kwargs: None\n",
    "fasttext_model_path = \"s2_fos/data/lid.176.bin\"\n",
    "fasttext_model = fasttext.load_model(fasttext_model_path)"
   ]
  },
  {
   "cell_type": "code",
   "execution_count": 5,
   "metadata": {},
   "outputs": [],
   "source": [
    "def get_language(row):\n",
    "    try:\n",
    "        text = eval(row[\"title\"]).get(\"preferred\", \"\") + eval(row[\"abstract\"]).get(\"preferred\", \"\")\n",
    "        if text:\n",
    "            pred = fasttext_model.predict(text.replace(\"\\n\", \" \"))\n",
    "            label = pred[0][0].replace(\"__label__\", \"\")\n",
    "            return label\n",
    "        else:\n",
    "            return None\n",
    "    except (KeyError, IndexError, SyntaxError, TypeError, ValueError):\n",
    "        return None"
   ]
  },
  {
   "cell_type": "markdown",
   "metadata": {},
   "source": [
    "## citations_of_all_pubs.csv"
   ]
  },
  {
   "cell_type": "markdown",
   "metadata": {},
   "source": [
    "### second pass (languages)"
   ]
  },
  {
   "cell_type": "code",
   "execution_count": 6,
   "metadata": {},
   "outputs": [],
   "source": [
    "filtered_df = pd.read_csv(\"data/filtered_citations.csv\")"
   ]
  },
  {
   "cell_type": "markdown",
   "metadata": {},
   "source": [
    "With references:"
   ]
  },
  {
   "cell_type": "code",
   "execution_count": 17,
   "metadata": {},
   "outputs": [],
   "source": [
    "languages = filtered_df[filtered_df[\"reference_ids\"] != '[]'].apply(get_language, axis=1)"
   ]
  },
  {
   "cell_type": "code",
   "execution_count": 18,
   "metadata": {},
   "outputs": [
    {
     "data": {
      "text/plain": [
       "916881"
      ]
     },
     "execution_count": 18,
     "metadata": {},
     "output_type": "execute_result"
    }
   ],
   "source": [
    "languages.count()"
   ]
  },
  {
   "cell_type": "code",
   "execution_count": 19,
   "metadata": {},
   "outputs": [
    {
     "data": {
      "text/plain": [
       "en    0.779176\n",
       "pt    0.066269\n",
       "es    0.062652\n",
       "id    0.061454\n",
       "uk    0.005358\n",
       "        ...   \n",
       "ba    0.000001\n",
       "bn    0.000001\n",
       "sw    0.000001\n",
       "mk    0.000001\n",
       "he    0.000001\n",
       "Name: count, Length: 65, dtype: float64"
      ]
     },
     "execution_count": 19,
     "metadata": {},
     "output_type": "execute_result"
    }
   ],
   "source": [
    "languages.value_counts() / languages.count()"
   ]
  },
  {
   "cell_type": "markdown",
   "metadata": {},
   "source": [
    "With DOIS:"
   ]
  },
  {
   "cell_type": "code",
   "execution_count": 20,
   "metadata": {},
   "outputs": [],
   "source": [
    "languages = filtered_df[filtered_df[\"doi\"].notnull()].apply(get_language, axis=1)"
   ]
  },
  {
   "cell_type": "code",
   "execution_count": 21,
   "metadata": {},
   "outputs": [
    {
     "data": {
      "text/plain": [
       "912706"
      ]
     },
     "execution_count": 21,
     "metadata": {},
     "output_type": "execute_result"
    }
   ],
   "source": [
    "languages.count()"
   ]
  },
  {
   "cell_type": "code",
   "execution_count": 22,
   "metadata": {},
   "outputs": [
    {
     "data": {
      "text/plain": [
       "en    0.778199\n",
       "pt    0.066572\n",
       "es    0.062933\n",
       "id    0.061735\n",
       "uk    0.005383\n",
       "        ...   \n",
       "ba    0.000001\n",
       "bn    0.000001\n",
       "sw    0.000001\n",
       "mk    0.000001\n",
       "he    0.000001\n",
       "Name: count, Length: 65, dtype: float64"
      ]
     },
     "execution_count": 22,
     "metadata": {},
     "output_type": "execute_result"
    }
   ],
   "source": [
    "languages.value_counts() / languages.count()"
   ]
  },
  {
   "cell_type": "markdown",
   "metadata": {},
   "source": [
    "### first pass (disciplines and countries)"
   ]
  },
  {
   "cell_type": "code",
   "execution_count": 4,
   "metadata": {},
   "outputs": [],
   "source": [
    "with open(\"data/ojs_issns.json\", \"r\") as infile:\n",
    "    ojs_issns = json.load(infile)\n",
    "ojs_issns = {k: 1 for k in ojs_issns}"
   ]
  },
  {
   "cell_type": "code",
   "execution_count": 5,
   "metadata": {},
   "outputs": [],
   "source": [
    "cite_df = pd.read_csv(\"data/citations_of_all_pubs.csv\", header=None)"
   ]
  },
  {
   "cell_type": "code",
   "execution_count": 6,
   "metadata": {},
   "outputs": [
    {
     "data": {
      "text/html": [
       "<div>\n",
       "<style scoped>\n",
       "    .dataframe tbody tr th:only-of-type {\n",
       "        vertical-align: middle;\n",
       "    }\n",
       "\n",
       "    .dataframe tbody tr th {\n",
       "        vertical-align: top;\n",
       "    }\n",
       "\n",
       "    .dataframe thead th {\n",
       "        text-align: right;\n",
       "    }\n",
       "</style>\n",
       "<table border=\"1\" class=\"dataframe\">\n",
       "  <thead>\n",
       "    <tr style=\"text-align: right;\">\n",
       "      <th></th>\n",
       "      <th>0</th>\n",
       "      <th>1</th>\n",
       "      <th>2</th>\n",
       "      <th>3</th>\n",
       "      <th>4</th>\n",
       "      <th>5</th>\n",
       "      <th>6</th>\n",
       "      <th>7</th>\n",
       "      <th>8</th>\n",
       "      <th>9</th>\n",
       "      <th>10</th>\n",
       "      <th>11</th>\n",
       "      <th>12</th>\n",
       "      <th>13</th>\n",
       "      <th>14</th>\n",
       "      <th>15</th>\n",
       "      <th>16</th>\n",
       "      <th>17</th>\n",
       "      <th>18</th>\n",
       "    </tr>\n",
       "  </thead>\n",
       "  <tbody>\n",
       "    <tr>\n",
       "      <th>0</th>\n",
       "      <td>0</td>\n",
       "      <td>pub.1011627231</td>\n",
       "      <td>['pub.1000621744' 'pub.1000722723' 'pub.100103...</td>\n",
       "      <td>[{'id': 'pub.1115166073', 'year': 2016}\\n {'id...</td>\n",
       "      <td>10.1152/ajpendo.90306.2008</td>\n",
       "      <td>0193-1849</td>\n",
       "      <td>1522-1555</td>\n",
       "      <td>article</td>\n",
       "      <td>2008-05-20</td>\n",
       "      <td>{'first_level': {'codes': array(['31', '42'], ...</td>\n",
       "      <td>{'times_cited': 100, 'recent_citations': 6, 'f...</td>\n",
       "      <td>['grid.6451.6']</td>\n",
       "      <td>['ur.07527627403.94' 'ur.01276472107.59']</td>\n",
       "      <td>{'id': 'jour.1327387', 'title': 'AJP Endocrino...</td>\n",
       "      <td>['Israel']</td>\n",
       "      <td>{'id': None, 'score': None}</td>\n",
       "      <td>{'preferred': 'Transcriptional regulation of t...</td>\n",
       "      <td>{'preferred': 'The insulin-responsive glucose ...</td>\n",
       "      <td>[]</td>\n",
       "    </tr>\n",
       "    <tr>\n",
       "      <th>1</th>\n",
       "      <td>1</td>\n",
       "      <td>pub.1011182182</td>\n",
       "      <td>['pub.1013726283' 'pub.1018900088' 'pub.102673...</td>\n",
       "      <td>[{'id': 'pub.1102285413', 'year': 2010}\\n {'id...</td>\n",
       "      <td>10.1353/apa.0.0007</td>\n",
       "      <td>0360-5949</td>\n",
       "      <td>1533-0699</td>\n",
       "      <td>article</td>\n",
       "      <td>2008-03-01</td>\n",
       "      <td>{'first_level': {'codes': array(['43', '44', '...</td>\n",
       "      <td>{'times_cited': 7, 'recent_citations': 2, 'fie...</td>\n",
       "      <td>['grid.266515.3']</td>\n",
       "      <td>['ur.011637600145.05']</td>\n",
       "      <td>{'id': 'jour.1143161', 'title': 'Transactions ...</td>\n",
       "      <td>['United States']</td>\n",
       "      <td>{'id': '56626804', 'score': 9}</td>\n",
       "      <td>{'preferred': 'Genus quid est?: Roman Scholars...</td>\n",
       "      <td>{'preferred': 'From at least as early as Varro...</td>\n",
       "      <td>[]</td>\n",
       "    </tr>\n",
       "  </tbody>\n",
       "</table>\n",
       "</div>"
      ],
      "text/plain": [
       "   0               1                                                  2   \\\n",
       "0   0  pub.1011627231  ['pub.1000621744' 'pub.1000722723' 'pub.100103...   \n",
       "1   1  pub.1011182182  ['pub.1013726283' 'pub.1018900088' 'pub.102673...   \n",
       "\n",
       "                                                  3   \\\n",
       "0  [{'id': 'pub.1115166073', 'year': 2016}\\n {'id...   \n",
       "1  [{'id': 'pub.1102285413', 'year': 2010}\\n {'id...   \n",
       "\n",
       "                           4          5          6        7           8   \\\n",
       "0  10.1152/ajpendo.90306.2008  0193-1849  1522-1555  article  2008-05-20   \n",
       "1          10.1353/apa.0.0007  0360-5949  1533-0699  article  2008-03-01   \n",
       "\n",
       "                                                  9   \\\n",
       "0  {'first_level': {'codes': array(['31', '42'], ...   \n",
       "1  {'first_level': {'codes': array(['43', '44', '...   \n",
       "\n",
       "                                                  10                 11  \\\n",
       "0  {'times_cited': 100, 'recent_citations': 6, 'f...    ['grid.6451.6']   \n",
       "1  {'times_cited': 7, 'recent_citations': 2, 'fie...  ['grid.266515.3']   \n",
       "\n",
       "                                          12  \\\n",
       "0  ['ur.07527627403.94' 'ur.01276472107.59']   \n",
       "1                     ['ur.011637600145.05']   \n",
       "\n",
       "                                                  13                 14  \\\n",
       "0  {'id': 'jour.1327387', 'title': 'AJP Endocrino...         ['Israel']   \n",
       "1  {'id': 'jour.1143161', 'title': 'Transactions ...  ['United States']   \n",
       "\n",
       "                               15  \\\n",
       "0     {'id': None, 'score': None}   \n",
       "1  {'id': '56626804', 'score': 9}   \n",
       "\n",
       "                                                  16  \\\n",
       "0  {'preferred': 'Transcriptional regulation of t...   \n",
       "1  {'preferred': 'Genus quid est?: Roman Scholars...   \n",
       "\n",
       "                                                  17  18  \n",
       "0  {'preferred': 'The insulin-responsive glucose ...  []  \n",
       "1  {'preferred': 'From at least as early as Varro...  []  "
      ]
     },
     "execution_count": 6,
     "metadata": {},
     "output_type": "execute_result"
    }
   ],
   "source": [
    "cite_df.head(2)"
   ]
  },
  {
   "cell_type": "code",
   "execution_count": 38,
   "metadata": {},
   "outputs": [],
   "source": [
    "cite_df.columns = [\"index\", \"publication_id\", \"reference_ids\", \"citing_ids\", \"doi\", \"issn\", \"eissn\", \"type\", \"date\", \"category_for\", \"times_cited\", \"research_org_cities\", \"ur_id\", \"source\", \"research_org_country_names\", \"altmetrics\", \"title\", \"abstract\", \"concepts\"]"
   ]
  },
  {
   "cell_type": "code",
   "execution_count": 44,
   "metadata": {},
   "outputs": [
    {
     "data": {
      "text/plain": [
       "index                         1026862\n",
       "publication_id                1026862\n",
       "reference_ids                 1026862\n",
       "citing_ids                    1026862\n",
       "doi                           1021679\n",
       "issn                           903907\n",
       "eissn                          955421\n",
       "type                          1026862\n",
       "date                          1026328\n",
       "category_for                   780600\n",
       "times_cited                   1026853\n",
       "research_org_cities           1026862\n",
       "ur_id                         1026862\n",
       "source                        1026862\n",
       "research_org_country_names    1026862\n",
       "altmetrics                    1026862\n",
       "title                         1026862\n",
       "abstract                       916881\n",
       "concepts                      1026862\n",
       "dtype: int64"
      ]
     },
     "execution_count": 44,
     "metadata": {},
     "output_type": "execute_result"
    }
   ],
   "source": [
    "filtered_df = cite_df[(cite_df.iloc[:, 5].isin(ojs_issns.keys())) | (cite_df.iloc[:, 6].isin(ojs_issns.keys()))]\n",
    "filtered_df.count()"
   ]
  },
  {
   "cell_type": "code",
   "execution_count": 52,
   "metadata": {},
   "outputs": [
    {
     "data": {
      "text/plain": [
       "index                         15109997\n",
       "publication_id                15109997\n",
       "reference_ids                 15109997\n",
       "citing_ids                    15109997\n",
       "doi                           15048232\n",
       "issn                          13234995\n",
       "eissn                         14430559\n",
       "type                          15109997\n",
       "date                          15106839\n",
       "category_for                  14476049\n",
       "times_cited                   15109966\n",
       "research_org_cities           15109997\n",
       "ur_id                         15109997\n",
       "source                        15056836\n",
       "research_org_country_names    15109997\n",
       "altmetrics                    15109997\n",
       "title                         15109997\n",
       "abstract                      14071618\n",
       "concepts                      15109997\n",
       "dtype: int64"
      ]
     },
     "execution_count": 52,
     "metadata": {},
     "output_type": "execute_result"
    }
   ],
   "source": [
    "cite_df.count()"
   ]
  },
  {
   "cell_type": "code",
   "execution_count": 51,
   "metadata": {},
   "outputs": [
    {
     "data": {
      "text/plain": [
       "index                         0.067959\n",
       "publication_id                0.067959\n",
       "reference_ids                 0.067959\n",
       "citing_ids                    0.067959\n",
       "doi                           0.067894\n",
       "issn                          0.068297\n",
       "eissn                         0.066208\n",
       "type                          0.067959\n",
       "date                          0.067938\n",
       "category_for                  0.053924\n",
       "times_cited                   0.067959\n",
       "research_org_cities           0.067959\n",
       "ur_id                         0.067959\n",
       "source                        0.068199\n",
       "research_org_country_names    0.067959\n",
       "altmetrics                    0.067959\n",
       "title                         0.067959\n",
       "abstract                      0.065158\n",
       "concepts                      0.067959\n",
       "dtype: float64"
      ]
     },
     "execution_count": 51,
     "metadata": {},
     "output_type": "execute_result"
    }
   ],
   "source": [
    "filtered_df.count() / cite_df.count()"
   ]
  },
  {
   "cell_type": "code",
   "execution_count": 45,
   "metadata": {},
   "outputs": [],
   "source": [
    "disciplines = filtered_df[\"category_for\"].apply(get_primary_discipline)\n",
    "countries = filtered_df[\"research_org_country_names\"].apply(get_country)"
   ]
  },
  {
   "cell_type": "code",
   "execution_count": 46,
   "metadata": {},
   "outputs": [],
   "source": [
    "copied_df = filtered_df.copy()\n",
    "copied_df[\"primary_discipline\"] = disciplines\n",
    "copied_df[\"primary_country\"] = countries\n",
    "copied_df.to_csv(\"data/filtered_citations.csv\", index=False)"
   ]
  },
  {
   "cell_type": "code",
   "execution_count": 48,
   "metadata": {},
   "outputs": [
    {
     "data": {
      "text/plain": [
       "780600"
      ]
     },
     "execution_count": 48,
     "metadata": {},
     "output_type": "execute_result"
    }
   ],
   "source": [
    "copied_df[\"primary_discipline\"].value_counts().sum()"
   ]
  },
  {
   "cell_type": "code",
   "execution_count": 49,
   "metadata": {},
   "outputs": [
    {
     "data": {
      "text/plain": [
       "primary_discipline\n",
       "Biomedical and Clinical Sciences              142482\n",
       "Biological Sciences                            97659\n",
       "Education                                      67178\n",
       "Agricultural, Veterinary and Food Sciences     60717\n",
       "Commerce, Management, Tourism and Services     56452\n",
       "Health Sciences                                46691\n",
       "Human Society                                  42591\n",
       "Language, Communication and Culture            32139\n",
       "Engineering                                    31361\n",
       "Earth Sciences                                 28515\n",
       "Mathematical Sciences                          24728\n",
       "Information and Computing Sciences             20644\n",
       "Chemical Sciences                              19546\n",
       "Philosophy and Religious Studies               18545\n",
       "Physical Sciences                              16437\n",
       "Creative Arts and Writing                      16260\n",
       "History, Heritage and Archaeology              11936\n",
       "Built Environment and Design                   10997\n",
       "Economics                                       9696\n",
       "Law and Legal Studies                           9283\n",
       "Psychology                                      8736\n",
       "Environmental Sciences                          8007\n",
       "Name: count, dtype: int64"
      ]
     },
     "execution_count": 49,
     "metadata": {},
     "output_type": "execute_result"
    }
   ],
   "source": [
    "copied_df[\"primary_discipline\"].value_counts()"
   ]
  },
  {
   "cell_type": "code",
   "execution_count": 50,
   "metadata": {},
   "outputs": [
    {
     "data": {
      "text/plain": [
       "primary_discipline\n",
       "Biomedical and Clinical Sciences              0.182529\n",
       "Biological Sciences                           0.125108\n",
       "Education                                     0.086059\n",
       "Agricultural, Veterinary and Food Sciences    0.077782\n",
       "Commerce, Management, Tourism and Services    0.072319\n",
       "Health Sciences                               0.059814\n",
       "Human Society                                 0.054562\n",
       "Language, Communication and Culture           0.041172\n",
       "Engineering                                   0.040176\n",
       "Earth Sciences                                0.036530\n",
       "Mathematical Sciences                         0.031678\n",
       "Information and Computing Sciences            0.026446\n",
       "Chemical Sciences                             0.025040\n",
       "Philosophy and Religious Studies              0.023757\n",
       "Physical Sciences                             0.021057\n",
       "Creative Arts and Writing                     0.020830\n",
       "History, Heritage and Archaeology             0.015291\n",
       "Built Environment and Design                  0.014088\n",
       "Economics                                     0.012421\n",
       "Law and Legal Studies                         0.011892\n",
       "Psychology                                    0.011191\n",
       "Environmental Sciences                        0.010257\n",
       "Name: count, dtype: float64"
      ]
     },
     "execution_count": 50,
     "metadata": {},
     "output_type": "execute_result"
    }
   ],
   "source": [
    "copied_df[\"primary_discipline\"].value_counts() / copied_df[\"primary_discipline\"].value_counts().sum()"
   ]
  },
  {
   "cell_type": "markdown",
   "metadata": {},
   "source": [
    "Articles with references:"
   ]
  },
  {
   "cell_type": "code",
   "execution_count": 59,
   "metadata": {},
   "outputs": [
    {
     "data": {
      "text/plain": [
       "1026862"
      ]
     },
     "execution_count": 59,
     "metadata": {},
     "output_type": "execute_result"
    }
   ],
   "source": [
    "sum(copied_df[\"reference_ids\"] != '[]')"
   ]
  },
  {
   "cell_type": "code",
   "execution_count": 60,
   "metadata": {},
   "outputs": [
    {
     "data": {
      "text/plain": [
       "1026862"
      ]
     },
     "execution_count": 60,
     "metadata": {},
     "output_type": "execute_result"
    }
   ],
   "source": [
    "copied_df[\"reference_ids\"].count()"
   ]
  },
  {
   "cell_type": "code",
   "execution_count": 61,
   "metadata": {},
   "outputs": [
    {
     "data": {
      "text/plain": [
       "1.0"
      ]
     },
     "execution_count": 61,
     "metadata": {},
     "output_type": "execute_result"
    }
   ],
   "source": [
    "sum(copied_df[\"reference_ids\"] != '[]') / copied_df[\"reference_ids\"].count()"
   ]
  },
  {
   "cell_type": "code",
   "execution_count": 62,
   "metadata": {},
   "outputs": [
    {
     "data": {
      "text/plain": [
       "primary_discipline\n",
       "Biomedical and Clinical Sciences              0.182529\n",
       "Biological Sciences                           0.125108\n",
       "Education                                     0.086059\n",
       "Agricultural, Veterinary and Food Sciences    0.077782\n",
       "Commerce, Management, Tourism and Services    0.072319\n",
       "Health Sciences                               0.059814\n",
       "Human Society                                 0.054562\n",
       "Language, Communication and Culture           0.041172\n",
       "Engineering                                   0.040176\n",
       "Earth Sciences                                0.036530\n",
       "Mathematical Sciences                         0.031678\n",
       "Information and Computing Sciences            0.026446\n",
       "Chemical Sciences                             0.025040\n",
       "Philosophy and Religious Studies              0.023757\n",
       "Physical Sciences                             0.021057\n",
       "Creative Arts and Writing                     0.020830\n",
       "History, Heritage and Archaeology             0.015291\n",
       "Built Environment and Design                  0.014088\n",
       "Economics                                     0.012421\n",
       "Law and Legal Studies                         0.011892\n",
       "Psychology                                    0.011191\n",
       "Environmental Sciences                        0.010257\n",
       "Name: count, dtype: float64"
      ]
     },
     "execution_count": 62,
     "metadata": {},
     "output_type": "execute_result"
    }
   ],
   "source": [
    "copied_df[copied_df[\"reference_ids\"] != '[]'][\"primary_discipline\"].value_counts() / copied_df[copied_df[\"reference_ids\"] != '[]'][\"primary_discipline\"].count()"
   ]
  },
  {
   "cell_type": "code",
   "execution_count": 63,
   "metadata": {},
   "outputs": [
    {
     "data": {
      "text/plain": [
       "780600"
      ]
     },
     "execution_count": 63,
     "metadata": {},
     "output_type": "execute_result"
    }
   ],
   "source": [
    "copied_df[copied_df[\"reference_ids\"] != '[]'][\"primary_discipline\"].count()"
   ]
  },
  {
   "cell_type": "code",
   "execution_count": 64,
   "metadata": {},
   "outputs": [
    {
     "data": {
      "text/plain": [
       "primary_country\n",
       "Indonesia                           0.168843\n",
       "United States                       0.155495\n",
       "Brazil                              0.150568\n",
       "United Kingdom                      0.044686\n",
       "Spain                               0.031880\n",
       "                                      ...   \n",
       "Cook Islands                        0.000003\n",
       "Cayman Islands                      0.000003\n",
       "Anguilla                            0.000001\n",
       "Cocos Islands                       0.000001\n",
       "Saint Vincent and the Grenadines    0.000001\n",
       "Name: count, Length: 226, dtype: float64"
      ]
     },
     "execution_count": 64,
     "metadata": {},
     "output_type": "execute_result"
    }
   ],
   "source": [
    "copied_df[\"primary_country\"].value_counts() / copied_df[\"primary_country\"].count()"
   ]
  },
  {
   "cell_type": "code",
   "execution_count": 65,
   "metadata": {},
   "outputs": [
    {
     "data": {
      "text/plain": [
       "753209"
      ]
     },
     "execution_count": 65,
     "metadata": {},
     "output_type": "execute_result"
    }
   ],
   "source": [
    "copied_df[\"primary_country\"].count()"
   ]
  },
  {
   "cell_type": "code",
   "execution_count": 68,
   "metadata": {},
   "outputs": [
    {
     "data": {
      "text/plain": [
       "0.5735639258245022"
      ]
     },
     "execution_count": 68,
     "metadata": {},
     "output_type": "execute_result"
    }
   ],
   "source": [
    "sum(copied_df[\"citing_ids\"] != '[]') / copied_df[\"citing_ids\"].count()"
   ]
  },
  {
   "cell_type": "code",
   "execution_count": 69,
   "metadata": {},
   "outputs": [
    {
     "data": {
      "text/plain": [
       "588971"
      ]
     },
     "execution_count": 69,
     "metadata": {},
     "output_type": "execute_result"
    }
   ],
   "source": [
    "sum(copied_df[\"citing_ids\"] != '[]')"
   ]
  },
  {
   "cell_type": "markdown",
   "metadata": {},
   "source": [
    "Null DOI:"
   ]
  },
  {
   "cell_type": "code",
   "execution_count": 70,
   "metadata": {},
   "outputs": [
    {
     "data": {
      "text/plain": [
       "1021679"
      ]
     },
     "execution_count": 70,
     "metadata": {},
     "output_type": "execute_result"
    }
   ],
   "source": [
    "copied_df[\"doi\"].notnull().sum()"
   ]
  },
  {
   "cell_type": "code",
   "execution_count": 71,
   "metadata": {},
   "outputs": [
    {
     "data": {
      "text/plain": [
       "0.9949525836967382"
      ]
     },
     "execution_count": 71,
     "metadata": {},
     "output_type": "execute_result"
    }
   ],
   "source": [
    "copied_df[\"doi\"].notnull().sum() / copied_df[\"index\"].count()"
   ]
  },
  {
   "cell_type": "code",
   "execution_count": 72,
   "metadata": {},
   "outputs": [
    {
     "data": {
      "text/plain": [
       "primary_discipline\n",
       "Biomedical and Clinical Sciences              0.180027\n",
       "Biological Sciences                           0.125763\n",
       "Education                                     0.086613\n",
       "Agricultural, Veterinary and Food Sciences    0.078218\n",
       "Commerce, Management, Tourism and Services    0.072783\n",
       "Health Sciences                               0.059694\n",
       "Human Society                                 0.054894\n",
       "Language, Communication and Culture           0.041436\n",
       "Engineering                                   0.040428\n",
       "Earth Sciences                                0.036767\n",
       "Mathematical Sciences                         0.031880\n",
       "Chemical Sciences                             0.025188\n",
       "Information and Computing Sciences            0.024642\n",
       "Philosophy and Religious Studies              0.023908\n",
       "Physical Sciences                             0.021194\n",
       "Creative Arts and Writing                     0.020960\n",
       "History, Heritage and Archaeology             0.015390\n",
       "Built Environment and Design                  0.014177\n",
       "Economics                                     0.012499\n",
       "Law and Legal Studies                         0.011963\n",
       "Psychology                                    0.011255\n",
       "Environmental Sciences                        0.010320\n",
       "Name: count, dtype: float64"
      ]
     },
     "execution_count": 72,
     "metadata": {},
     "output_type": "execute_result"
    }
   ],
   "source": [
    "copied_df[copied_df[\"doi\"].notnull()][\"primary_discipline\"].value_counts() / copied_df[copied_df[\"doi\"].notnull()][\"primary_discipline\"].count()"
   ]
  },
  {
   "cell_type": "code",
   "execution_count": 73,
   "metadata": {},
   "outputs": [
    {
     "data": {
      "text/plain": [
       "775555"
      ]
     },
     "execution_count": 73,
     "metadata": {},
     "output_type": "execute_result"
    }
   ],
   "source": [
    "copied_df[copied_df[\"doi\"].notnull()][\"primary_discipline\"].count()"
   ]
  },
  {
   "cell_type": "code",
   "execution_count": 74,
   "metadata": {},
   "outputs": [
    {
     "data": {
      "text/plain": [
       "primary_country\n",
       "Indonesia                           0.169783\n",
       "United States                       0.155091\n",
       "Brazil                              0.151342\n",
       "United Kingdom                      0.044826\n",
       "Spain                               0.031988\n",
       "                                      ...   \n",
       "Antarctica                          0.000003\n",
       "Cook Islands                        0.000003\n",
       "Anguilla                            0.000001\n",
       "Cocos Islands                       0.000001\n",
       "Saint Vincent and the Grenadines    0.000001\n",
       "Name: count, Length: 226, dtype: float64"
      ]
     },
     "execution_count": 74,
     "metadata": {},
     "output_type": "execute_result"
    }
   ],
   "source": [
    "copied_df[copied_df[\"doi\"].notnull()][\"primary_country\"].value_counts() / copied_df[copied_df[\"doi\"].notnull()][\"primary_country\"].count()"
   ]
  },
  {
   "cell_type": "code",
   "execution_count": 75,
   "metadata": {},
   "outputs": [
    {
     "data": {
      "text/plain": [
       "749001"
      ]
     },
     "execution_count": 75,
     "metadata": {},
     "output_type": "execute_result"
    }
   ],
   "source": [
    "copied_df[copied_df[\"doi\"].notnull()][\"primary_country\"].count()"
   ]
  },
  {
   "cell_type": "markdown",
   "metadata": {},
   "source": [
    "## references_of_all_pubs.csv"
   ]
  },
  {
   "cell_type": "markdown",
   "metadata": {},
   "source": [
    "### second pass (languages)"
   ]
  },
  {
   "cell_type": "code",
   "execution_count": 23,
   "metadata": {},
   "outputs": [],
   "source": [
    "filtered_df = pd.read_csv(\"data/filtered_references.csv\")"
   ]
  },
  {
   "cell_type": "markdown",
   "metadata": {},
   "source": [
    "With references:"
   ]
  },
  {
   "cell_type": "code",
   "execution_count": 24,
   "metadata": {},
   "outputs": [],
   "source": [
    "languages = filtered_df[filtered_df[\"reference_ids\"] != '[]'].apply(get_language, axis=1)"
   ]
  },
  {
   "cell_type": "code",
   "execution_count": 25,
   "metadata": {},
   "outputs": [
    {
     "data": {
      "text/plain": [
       "520794"
      ]
     },
     "execution_count": 25,
     "metadata": {},
     "output_type": "execute_result"
    }
   ],
   "source": [
    "languages.count()"
   ]
  },
  {
   "cell_type": "code",
   "execution_count": 26,
   "metadata": {},
   "outputs": [
    {
     "data": {
      "text/plain": [
       "en    0.849793\n",
       "es    0.049787\n",
       "pt    0.040772\n",
       "id    0.033278\n",
       "fr    0.005240\n",
       "ru    0.004485\n",
       "uk    0.003654\n",
       "de    0.002865\n",
       "pl    0.001684\n",
       "it    0.001463\n",
       "lt    0.001292\n",
       "hu    0.001194\n",
       "tr    0.000960\n",
       "ar    0.000753\n",
       "cs    0.000541\n",
       "ca    0.000442\n",
       "da    0.000298\n",
       "no    0.000246\n",
       "sv    0.000232\n",
       "vi    0.000200\n",
       "af    0.000175\n",
       "sh    0.000115\n",
       "zh    0.000096\n",
       "ms    0.000060\n",
       "nl    0.000058\n",
       "uz    0.000044\n",
       "hr    0.000044\n",
       "sk    0.000042\n",
       "sl    0.000027\n",
       "ka    0.000017\n",
       "sr    0.000017\n",
       "el    0.000015\n",
       "et    0.000015\n",
       "ja    0.000015\n",
       "lv    0.000012\n",
       "fi    0.000012\n",
       "ro    0.000012\n",
       "mn    0.000010\n",
       "ky    0.000006\n",
       "gl    0.000006\n",
       "nn    0.000006\n",
       "la    0.000004\n",
       "bg    0.000004\n",
       "os    0.000004\n",
       "fa    0.000002\n",
       "ne    0.000002\n",
       "ko    0.000002\n",
       "Name: count, dtype: float64"
      ]
     },
     "execution_count": 26,
     "metadata": {},
     "output_type": "execute_result"
    }
   ],
   "source": [
    "languages.value_counts() / languages.count()"
   ]
  },
  {
   "cell_type": "markdown",
   "metadata": {},
   "source": [
    "With DOIs:"
   ]
  },
  {
   "cell_type": "code",
   "execution_count": 27,
   "metadata": {},
   "outputs": [],
   "source": [
    "languages = filtered_df[filtered_df[\"doi\"].notnull()].apply(get_language, axis=1)"
   ]
  },
  {
   "cell_type": "code",
   "execution_count": 28,
   "metadata": {},
   "outputs": [
    {
     "data": {
      "text/plain": [
       "1004614"
      ]
     },
     "execution_count": 28,
     "metadata": {},
     "output_type": "execute_result"
    }
   ],
   "source": [
    "languages.count()"
   ]
  },
  {
   "cell_type": "code",
   "execution_count": 30,
   "metadata": {},
   "outputs": [
    {
     "data": {
      "text/plain": [
       "en     6.793624e-01\n",
       "id     1.114279e-01\n",
       "es     9.044767e-02\n",
       "pt     8.681643e-02\n",
       "uk     6.227267e-03\n",
       "           ...     \n",
       "ba     9.954072e-07\n",
       "ko     9.954072e-07\n",
       "ast    9.954072e-07\n",
       "kk     9.954072e-07\n",
       "sw     9.954072e-07\n",
       "Name: count, Length: 65, dtype: float64"
      ]
     },
     "execution_count": 30,
     "metadata": {},
     "output_type": "execute_result"
    }
   ],
   "source": [
    "languages.value_counts() / languages.count()"
   ]
  },
  {
   "cell_type": "markdown",
   "metadata": {},
   "source": [
    "### first pass (disciplines and countries)"
   ]
  },
  {
   "cell_type": "code",
   "execution_count": 23,
   "metadata": {},
   "outputs": [],
   "source": [
    "filtered_df = pd.read_csv(\"data/filtered_references.csv\")"
   ]
  },
  {
   "cell_type": "code",
   "execution_count": 36,
   "metadata": {},
   "outputs": [],
   "source": [
    "cites = [eval(s)[\"times_cited\"] for s in filtered_df[\"times_cited\"] if isinstance(s, str)]"
   ]
  },
  {
   "cell_type": "code",
   "execution_count": 37,
   "metadata": {},
   "outputs": [
    {
     "data": {
      "text/plain": [
       "index                         0.999989\n",
       "publication_id                0.999989\n",
       "reference_ids                 0.999989\n",
       "citing_ids                    0.999989\n",
       "doi                           1.026331\n",
       "issn                          1.122841\n",
       "eissn                         1.089701\n",
       "type                          0.999989\n",
       "date                          1.000208\n",
       "category_for                  1.503855\n",
       "times_cited                   1.000000\n",
       "research_org_cities           0.999989\n",
       "ur_id                         0.999989\n",
       "source                        0.999989\n",
       "research_org_country_names    0.999989\n",
       "altmetrics                    0.999989\n",
       "title                         0.999989\n",
       "abstract                      1.219175\n",
       "concepts                      0.999989\n",
       "idk                           0.999989\n",
       "primary_discipline            1.503855\n",
       "dtype: float64"
      ]
     },
     "execution_count": 37,
     "metadata": {},
     "output_type": "execute_result"
    }
   ],
   "source": [
    "len(cites) / filtered_df.count()"
   ]
  },
  {
   "cell_type": "code",
   "execution_count": 35,
   "metadata": {},
   "outputs": [
    {
     "data": {
      "text/plain": [
       "1255148"
      ]
     },
     "execution_count": 35,
     "metadata": {},
     "output_type": "execute_result"
    }
   ],
   "source": [
    "len(cites)"
   ]
  },
  {
   "cell_type": "code",
   "execution_count": 4,
   "metadata": {},
   "outputs": [],
   "source": [
    "with open(\"data/ojs_issns.json\", \"r\") as infile:\n",
    "    ojs_issns = json.load(infile)\n",
    "ojs_issns = {k: 1 for k in ojs_issns}"
   ]
  },
  {
   "cell_type": "code",
   "execution_count": 5,
   "metadata": {},
   "outputs": [],
   "source": [
    "#ref_df = pd.read_csv(\"data/references_of_all_pubs.csv\", header=None)\n",
    "#ref_df.columns = [\"index\", \"publication_id\", \"reference_ids\", \"citing_ids\", \"doi\", \"issn\", \"eissn\", \"type\", \"date\", \"category_for\", \"times_cited\", \"research_org_cities\", \"ur_id\", \"source\", \"research_org_country_names\", \"altmetrics\", \"title\", \"abstract\", \"concepts\", \"idk\"]"
   ]
  },
  {
   "cell_type": "code",
   "execution_count": 6,
   "metadata": {},
   "outputs": [],
   "source": [
    "#filtered_df = ref_df[(ref_df.iloc[:, 5].isin(ojs_issns.keys())) | (ref_df.iloc[:, 6].isin(ojs_issns.keys()))]\n",
    "#filtered_df.count()\n",
    "#filtered_df.to_csv(\"data/filtered_references.csv\", index=False)\n",
    "#disciplines = filtered_df[\"category_for\"].apply(get_primary_discipline)\n",
    "#copied_df = filtered_df.copy()\n",
    "#copied_df[\"primary_discipline\"] = disciplines\n",
    "#copied_df.to_csv(\"data/filtered_references.csv\", index=False)"
   ]
  },
  {
   "cell_type": "code",
   "execution_count": 15,
   "metadata": {},
   "outputs": [
    {
     "data": {
      "text/plain": [
       "primary_discipline\n",
       "Biomedical and Clinical Sciences              145569\n",
       "Biological Sciences                            94986\n",
       "Education                                      75953\n",
       "Commerce, Management, Tourism and Services     67879\n",
       "Agricultural, Veterinary and Food Sciences     62793\n",
       "Health Sciences                                48614\n",
       "Human Society                                  48483\n",
       "Language, Communication and Culture            37811\n",
       "Engineering                                    33152\n",
       "Philosophy and Religious Studies               28095\n",
       "Earth Sciences                                 27967\n",
       "Information and Computing Sciences             23869\n",
       "Mathematical Sciences                          23156\n",
       "Chemical Sciences                              19034\n",
       "Creative Arts and Writing                      16388\n",
       "History, Heritage and Archaeology              13789\n",
       "Physical Sciences                              13742\n",
       "Economics                                      12634\n",
       "Built Environment and Design                   11820\n",
       "Law and Legal Studies                          11313\n",
       "Psychology                                     10071\n",
       "Environmental Sciences                          8331\n",
       "primary_discipline                                 1\n",
       "Name: count, dtype: int64"
      ]
     },
     "execution_count": 15,
     "metadata": {},
     "output_type": "execute_result"
    }
   ],
   "source": [
    "filtered_df[\"primary_discipline\"].value_counts()"
   ]
  },
  {
   "cell_type": "code",
   "execution_count": 14,
   "metadata": {},
   "outputs": [
    {
     "data": {
      "text/plain": [
       "primary_discipline\n",
       "Biomedical and Clinical Sciences              0.174240\n",
       "Biological Sciences                           0.113694\n",
       "Education                                     0.090913\n",
       "Commerce, Management, Tourism and Services    0.081248\n",
       "Agricultural, Veterinary and Food Sciences    0.075161\n",
       "Health Sciences                               0.058189\n",
       "Human Society                                 0.058032\n",
       "Language, Communication and Culture           0.045258\n",
       "Engineering                                   0.039682\n",
       "Philosophy and Religious Studies              0.033629\n",
       "Earth Sciences                                0.033475\n",
       "Information and Computing Sciences            0.028570\n",
       "Mathematical Sciences                         0.027717\n",
       "Chemical Sciences                             0.022783\n",
       "Creative Arts and Writing                     0.019616\n",
       "History, Heritage and Archaeology             0.016505\n",
       "Physical Sciences                             0.016449\n",
       "Economics                                     0.015122\n",
       "Built Environment and Design                  0.014148\n",
       "Law and Legal Studies                         0.013541\n",
       "Psychology                                    0.012055\n",
       "Environmental Sciences                        0.009972\n",
       "primary_discipline                            0.000001\n",
       "Name: count, dtype: float64"
      ]
     },
     "execution_count": 14,
     "metadata": {},
     "output_type": "execute_result"
    }
   ],
   "source": [
    "filtered_df[\"primary_discipline\"].value_counts() / filtered_df[\"primary_discipline\"].count()"
   ]
  },
  {
   "cell_type": "code",
   "execution_count": 16,
   "metadata": {},
   "outputs": [],
   "source": [
    "countries = filtered_df[\"research_org_country_names\"].apply(get_country)"
   ]
  },
  {
   "cell_type": "code",
   "execution_count": 17,
   "metadata": {},
   "outputs": [
    {
     "data": {
      "text/plain": [
       "research_org_country_names\n",
       "Brazil                            0.158008\n",
       "Indonesia                         0.151695\n",
       "United States                     0.148292\n",
       "United Kingdom                    0.047197\n",
       "Spain                             0.040669\n",
       "                                    ...   \n",
       "Mayotte                           0.000002\n",
       "Cayman Islands                    0.000002\n",
       "Sao Tome and Principe             0.000002\n",
       "British Indian Ocean Territory    0.000002\n",
       "Saint Martin                      0.000002\n",
       "Name: count, Length: 229, dtype: float64"
      ]
     },
     "execution_count": 17,
     "metadata": {},
     "output_type": "execute_result"
    }
   ],
   "source": [
    "countries.value_counts() / countries.count()"
   ]
  },
  {
   "cell_type": "code",
   "execution_count": 18,
   "metadata": {},
   "outputs": [
    {
     "data": {
      "text/plain": [
       "research_org_country_names\n",
       "Brazil                            103362\n",
       "Indonesia                          99232\n",
       "United States                      97006\n",
       "United Kingdom                     30874\n",
       "Spain                              26604\n",
       "                                   ...  \n",
       "Mayotte                                1\n",
       "Cayman Islands                         1\n",
       "Sao Tome and Principe                  1\n",
       "British Indian Ocean Territory         1\n",
       "Saint Martin                           1\n",
       "Name: count, Length: 229, dtype: int64"
      ]
     },
     "execution_count": 18,
     "metadata": {},
     "output_type": "execute_result"
    }
   ],
   "source": [
    "countries.value_counts()"
   ]
  },
  {
   "cell_type": "markdown",
   "metadata": {},
   "source": [
    "Null references:"
   ]
  },
  {
   "cell_type": "code",
   "execution_count": 19,
   "metadata": {},
   "outputs": [
    {
     "data": {
      "text/plain": [
       "577821"
      ]
     },
     "execution_count": 19,
     "metadata": {},
     "output_type": "execute_result"
    }
   ],
   "source": [
    "sum(filtered_df[\"reference_ids\"] != '[]')"
   ]
  },
  {
   "cell_type": "code",
   "execution_count": 20,
   "metadata": {},
   "outputs": [
    {
     "data": {
      "text/plain": [
       "0.45989880683758233"
      ]
     },
     "execution_count": 20,
     "metadata": {},
     "output_type": "execute_result"
    }
   ],
   "source": [
    "sum(filtered_df[\"reference_ids\"] != '[]') / filtered_df[\"reference_ids\"].count()"
   ]
  },
  {
   "cell_type": "code",
   "execution_count": 35,
   "metadata": {},
   "outputs": [
    {
     "data": {
      "text/plain": [
       "primary_discipline\n",
       "Biomedical and Clinical Sciences              0.191364\n",
       "Biological Sciences                           0.149586\n",
       "Agricultural, Veterinary and Food Sciences    0.077772\n",
       "Education                                     0.067693\n",
       "Health Sciences                               0.065798\n",
       "Commerce, Management, Tourism and Services    0.064097\n",
       "Human Society                                 0.047718\n",
       "Engineering                                   0.045062\n",
       "Earth Sciences                                0.041530\n",
       "Mathematical Sciences                         0.036555\n",
       "Language, Communication and Culture           0.033553\n",
       "Chemical Sciences                             0.031497\n",
       "Physical Sciences                             0.025524\n",
       "Information and Computing Sciences            0.025064\n",
       "Philosophy and Religious Studies              0.017986\n",
       "Psychology                                    0.013662\n",
       "Economics                                     0.013307\n",
       "Built Environment and Design                  0.012699\n",
       "Creative Arts and Writing                     0.012445\n",
       "History, Heritage and Archaeology             0.011041\n",
       "Environmental Sciences                        0.009134\n",
       "Law and Legal Studies                         0.006909\n",
       "primary_discipline                            0.000002\n",
       "Name: count, dtype: float64"
      ]
     },
     "execution_count": 35,
     "metadata": {},
     "output_type": "execute_result"
    }
   ],
   "source": [
    "filtered_df[filtered_df[\"reference_ids\"] != '[]'][\"primary_discipline\"].value_counts() / filtered_df[filtered_df[\"reference_ids\"] != '[]'][\"primary_discipline\"].count()"
   ]
  },
  {
   "cell_type": "code",
   "execution_count": 36,
   "metadata": {},
   "outputs": [
    {
     "data": {
      "text/plain": [
       "484997"
      ]
     },
     "execution_count": 36,
     "metadata": {},
     "output_type": "execute_result"
    }
   ],
   "source": [
    "filtered_df[filtered_df[\"reference_ids\"] != '[]'][\"primary_discipline\"].count()"
   ]
  },
  {
   "cell_type": "code",
   "execution_count": 27,
   "metadata": {},
   "outputs": [],
   "source": [
    "countries = filtered_df[filtered_df[\"reference_ids\"] != '[]'][\"research_org_country_names\"].apply(get_country)"
   ]
  },
  {
   "cell_type": "code",
   "execution_count": 29,
   "metadata": {},
   "outputs": [
    {
     "data": {
      "text/plain": [
       "456772"
      ]
     },
     "execution_count": 29,
     "metadata": {},
     "output_type": "execute_result"
    }
   ],
   "source": [
    "countries.count()"
   ]
  },
  {
   "cell_type": "code",
   "execution_count": 28,
   "metadata": {},
   "outputs": [
    {
     "data": {
      "text/plain": [
       "research_org_country_names\n",
       "United States     0.189920\n",
       "Brazil            0.151802\n",
       "Indonesia         0.095336\n",
       "United Kingdom    0.059500\n",
       "Spain             0.029260\n",
       "                    ...   \n",
       "Vatican           0.000002\n",
       "Aland Islands     0.000002\n",
       "Cayman Islands    0.000002\n",
       "Norfolk Island    0.000002\n",
       "Sint Maarten      0.000002\n",
       "Name: count, Length: 224, dtype: float64"
      ]
     },
     "execution_count": 28,
     "metadata": {},
     "output_type": "execute_result"
    }
   ],
   "source": [
    "countries.value_counts() / countries.count()"
   ]
  },
  {
   "cell_type": "markdown",
   "metadata": {},
   "source": [
    "With DOIs:"
   ]
  },
  {
   "cell_type": "code",
   "execution_count": 30,
   "metadata": {},
   "outputs": [
    {
     "data": {
      "text/plain": [
       "1224162"
      ]
     },
     "execution_count": 30,
     "metadata": {},
     "output_type": "execute_result"
    }
   ],
   "source": [
    "filtered_df[\"doi\"].notnull().sum()"
   ]
  },
  {
   "cell_type": "code",
   "execution_count": 31,
   "metadata": {},
   "outputs": [
    {
     "data": {
      "text/plain": [
       "0.974333994742158"
      ]
     },
     "execution_count": 31,
     "metadata": {},
     "output_type": "execute_result"
    }
   ],
   "source": [
    "filtered_df[\"doi\"].notnull().sum() / filtered_df[\"index\"].count()"
   ]
  },
  {
   "cell_type": "code",
   "execution_count": 37,
   "metadata": {},
   "outputs": [
    {
     "data": {
      "text/plain": [
       "primary_discipline\n",
       "Biomedical and Clinical Sciences              0.157354\n",
       "Biological Sciences                           0.112666\n",
       "Education                                     0.094284\n",
       "Commerce, Management, Tourism and Services    0.084153\n",
       "Agricultural, Veterinary and Food Sciences    0.076088\n",
       "Human Society                                 0.060056\n",
       "Health Sciences                               0.057318\n",
       "Language, Communication and Culture           0.046952\n",
       "Engineering                                   0.041083\n",
       "Philosophy and Religious Studies              0.034717\n",
       "Earth Sciences                                0.034709\n",
       "Mathematical Sciences                         0.028748\n",
       "Information and Computing Sciences            0.027131\n",
       "Chemical Sciences                             0.023504\n",
       "Creative Arts and Writing                     0.020329\n",
       "History, Heritage and Archaeology             0.017069\n",
       "Physical Sciences                             0.016845\n",
       "Economics                                     0.015679\n",
       "Built Environment and Design                  0.014661\n",
       "Law and Legal Studies                         0.014007\n",
       "Psychology                                    0.012423\n",
       "Environmental Sciences                        0.010224\n",
       "primary_discipline                            0.000001\n",
       "Name: count, dtype: float64"
      ]
     },
     "execution_count": 37,
     "metadata": {},
     "output_type": "execute_result"
    }
   ],
   "source": [
    "filtered_df[filtered_df[\"doi\"].notnull()][\"primary_discipline\"].value_counts() / filtered_df[filtered_df[\"doi\"].notnull()][\"primary_discipline\"].count()"
   ]
  },
  {
   "cell_type": "code",
   "execution_count": 38,
   "metadata": {},
   "outputs": [
    {
     "data": {
      "text/plain": [
       "805103"
      ]
     },
     "execution_count": 38,
     "metadata": {},
     "output_type": "execute_result"
    }
   ],
   "source": [
    "filtered_df[filtered_df[\"doi\"].notnull()][\"primary_discipline\"].count()"
   ]
  },
  {
   "cell_type": "code",
   "execution_count": 39,
   "metadata": {},
   "outputs": [],
   "source": [
    "countries = filtered_df[filtered_df[\"doi\"].notnull()][\"research_org_country_names\"].apply(get_country)"
   ]
  },
  {
   "cell_type": "code",
   "execution_count": 40,
   "metadata": {},
   "outputs": [
    {
     "data": {
      "text/plain": [
       "633585"
      ]
     },
     "execution_count": 40,
     "metadata": {},
     "output_type": "execute_result"
    }
   ],
   "source": [
    "countries.count()"
   ]
  },
  {
   "cell_type": "code",
   "execution_count": 41,
   "metadata": {},
   "outputs": [
    {
     "data": {
      "text/plain": [
       "research_org_country_names\n",
       "Brazil                            0.162136\n",
       "Indonesia                         0.156233\n",
       "United States                     0.150627\n",
       "United Kingdom                    0.048314\n",
       "Spain                             0.041391\n",
       "                                    ...   \n",
       "Norfolk Island                    0.000002\n",
       "Mayotte                           0.000002\n",
       "Sao Tome and Principe             0.000002\n",
       "British Indian Ocean Territory    0.000002\n",
       "research_org_country_names        0.000002\n",
       "Name: count, Length: 228, dtype: float64"
      ]
     },
     "execution_count": 41,
     "metadata": {},
     "output_type": "execute_result"
    }
   ],
   "source": [
    "countries.value_counts() / countries.count()"
   ]
  }
 ],
 "metadata": {
  "language_info": {
   "name": "python"
  }
 },
 "nbformat": 4,
 "nbformat_minor": 2
}
