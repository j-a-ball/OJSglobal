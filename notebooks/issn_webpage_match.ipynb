{
 "cells": [
  {
   "cell_type": "code",
   "execution_count": 14,
   "metadata": {},
   "outputs": [],
   "source": [
    "import pandas as pd\n",
    "import json"
   ]
  },
  {
   "cell_type": "code",
   "execution_count": 15,
   "metadata": {},
   "outputs": [],
   "source": [
    "beacon = pd.read_csv(\"data/beacon_issn_match.csv\")"
   ]
  },
  {
   "cell_type": "code",
   "execution_count": 16,
   "metadata": {},
   "outputs": [
    {
     "data": {
      "text/plain": [
       "oai_url                  63874\n",
       "application              63874\n",
       "version                  63679\n",
       "earliest_datestamp       63123\n",
       "repository_name          49212\n",
       "set_spec                 63872\n",
       "context_name             63874\n",
       "stats_id                 63051\n",
       "total_record_count       63874\n",
       "issn                     51308\n",
       "country_marc             49536\n",
       "country_issn             49391\n",
       "country_tld              44877\n",
       "country_ip               41259\n",
       "country_consolidated     60882\n",
       "last_completed_update    63873\n",
       "first_beacon             63874\n",
       "last_beacon              63874\n",
       "last_oai_response        63123\n",
       "unresponsive_endpoint    63874\n",
       "unresponsive_context     63874\n",
       "record_count_2020        63874\n",
       "record_count_2021        63874\n",
       "record_count_2022        63874\n",
       "record_count_2023        63874\n",
       "journal_url              63874\n",
       "issn_webpage_match       63874\n",
       "ojs_in_html              63874\n",
       "scrape_success           63874\n",
       "dtype: int64"
      ]
     },
     "execution_count": 16,
     "metadata": {},
     "output_type": "execute_result"
    }
   ],
   "source": [
    "beacon.count()"
   ]
  },
  {
   "cell_type": "code",
   "execution_count": 17,
   "metadata": {},
   "outputs": [
    {
     "data": {
      "text/html": [
       "<div>\n",
       "<style scoped>\n",
       "    .dataframe tbody tr th:only-of-type {\n",
       "        vertical-align: middle;\n",
       "    }\n",
       "\n",
       "    .dataframe tbody tr th {\n",
       "        vertical-align: top;\n",
       "    }\n",
       "\n",
       "    .dataframe thead th {\n",
       "        text-align: right;\n",
       "    }\n",
       "</style>\n",
       "<table border=\"1\" class=\"dataframe\">\n",
       "  <thead>\n",
       "    <tr style=\"text-align: right;\">\n",
       "      <th></th>\n",
       "      <th>oai_url</th>\n",
       "      <th>application</th>\n",
       "      <th>version</th>\n",
       "      <th>earliest_datestamp</th>\n",
       "      <th>repository_name</th>\n",
       "      <th>set_spec</th>\n",
       "      <th>context_name</th>\n",
       "      <th>stats_id</th>\n",
       "      <th>total_record_count</th>\n",
       "      <th>issn</th>\n",
       "      <th>...</th>\n",
       "      <th>unresponsive_endpoint</th>\n",
       "      <th>unresponsive_context</th>\n",
       "      <th>record_count_2020</th>\n",
       "      <th>record_count_2021</th>\n",
       "      <th>record_count_2022</th>\n",
       "      <th>record_count_2023</th>\n",
       "      <th>journal_url</th>\n",
       "      <th>issn_webpage_match</th>\n",
       "      <th>ojs_in_html</th>\n",
       "      <th>scrape_success</th>\n",
       "    </tr>\n",
       "  </thead>\n",
       "  <tbody>\n",
       "    <tr>\n",
       "      <th>0</th>\n",
       "      <td>http://ojs.akperkerishusada.ac.id/index.php/in...</td>\n",
       "      <td>ojs</td>\n",
       "      <td>3.1.1.4</td>\n",
       "      <td>2020-02-02 18:12:13</td>\n",
       "      <td>Publikasi Ilmiah Akper Keris Husada</td>\n",
       "      <td>akperkeris</td>\n",
       "      <td>Jurnal Ilmiah Kesehatan Keris Husada</td>\n",
       "      <td>5e2fd2821b290</td>\n",
       "      <td>47</td>\n",
       "      <td>2684-6969</td>\n",
       "      <td>...</td>\n",
       "      <td>0</td>\n",
       "      <td>0</td>\n",
       "      <td>0</td>\n",
       "      <td>11</td>\n",
       "      <td>19</td>\n",
       "      <td>10</td>\n",
       "      <td>http://ojs.akperkerishusada.ac.id/index.php/ak...</td>\n",
       "      <td>False</td>\n",
       "      <td>True</td>\n",
       "      <td>True</td>\n",
       "    </tr>\n",
       "    <tr>\n",
       "      <th>1</th>\n",
       "      <td>https://journal.al-qawarir.com/index.php/index...</td>\n",
       "      <td>ojs</td>\n",
       "      <td>3.1.2.4</td>\n",
       "      <td>2020-01-28 04:38:48</td>\n",
       "      <td>Ning Journal Publication System</td>\n",
       "      <td>alqawarir</td>\n",
       "      <td>AL-QAWĀRĪR</td>\n",
       "      <td>5e1dc97dca06b</td>\n",
       "      <td>142</td>\n",
       "      <td>2709-4561\\n2709-457X</td>\n",
       "      <td>...</td>\n",
       "      <td>0</td>\n",
       "      <td>0</td>\n",
       "      <td>18</td>\n",
       "      <td>53</td>\n",
       "      <td>50</td>\n",
       "      <td>18</td>\n",
       "      <td>https://journal.al-qawarir.com/index.php/alqaw...</td>\n",
       "      <td>False</td>\n",
       "      <td>True</td>\n",
       "      <td>True</td>\n",
       "    </tr>\n",
       "    <tr>\n",
       "      <th>2</th>\n",
       "      <td>https://proceedings.goodwoodconferences.com/in...</td>\n",
       "      <td>ojs</td>\n",
       "      <td>3.1.2.4</td>\n",
       "      <td>2022-01-28 01:57:09</td>\n",
       "      <td>Goodwood Proceedings</td>\n",
       "      <td>gcbm</td>\n",
       "      <td>Global Conference on Business and Management P...</td>\n",
       "      <td>6108d4a8f1cf2</td>\n",
       "      <td>11</td>\n",
       "      <td>2828-0326</td>\n",
       "      <td>...</td>\n",
       "      <td>0</td>\n",
       "      <td>0</td>\n",
       "      <td>0</td>\n",
       "      <td>0</td>\n",
       "      <td>11</td>\n",
       "      <td>0</td>\n",
       "      <td>https://proceedings.goodwoodconferences.com/in...</td>\n",
       "      <td>False</td>\n",
       "      <td>True</td>\n",
       "      <td>True</td>\n",
       "    </tr>\n",
       "    <tr>\n",
       "      <th>3</th>\n",
       "      <td>https://journal.unj.ac.id/unj/index.php/index/oai</td>\n",
       "      <td>ojs</td>\n",
       "      <td>3.1.2.1</td>\n",
       "      <td>2017-03-17 06:33:34</td>\n",
       "      <td>Universitas Negeri Jakarta</td>\n",
       "      <td>hayula</td>\n",
       "      <td>Hayula: Indonesian Journal of Multidisciplinar...</td>\n",
       "      <td>58d23d3ec8cb4</td>\n",
       "      <td>104</td>\n",
       "      <td>2548-9860\\n2549-0761</td>\n",
       "      <td>...</td>\n",
       "      <td>0</td>\n",
       "      <td>0</td>\n",
       "      <td>14</td>\n",
       "      <td>18</td>\n",
       "      <td>18</td>\n",
       "      <td>18</td>\n",
       "      <td>https://journal.unj.ac.id/unj/index.php/hayula</td>\n",
       "      <td>False</td>\n",
       "      <td>True</td>\n",
       "      <td>True</td>\n",
       "    </tr>\n",
       "    <tr>\n",
       "      <th>4</th>\n",
       "      <td>https://jurnal.sttnlampung.ac.id/index.php/ind...</td>\n",
       "      <td>ojs</td>\n",
       "      <td>3.3.0.14</td>\n",
       "      <td>2023-03-29 03:26:00</td>\n",
       "      <td>Rumah Publikasi STTN Lampung</td>\n",
       "      <td>satkriya</td>\n",
       "      <td>SATKRIYA : Jurnal Pengabdian Kepada Masyarakat</td>\n",
       "      <td>631eb1a2996db</td>\n",
       "      <td>11</td>\n",
       "      <td>2988-3431\\n2988-4071</td>\n",
       "      <td>...</td>\n",
       "      <td>0</td>\n",
       "      <td>0</td>\n",
       "      <td>0</td>\n",
       "      <td>0</td>\n",
       "      <td>0</td>\n",
       "      <td>11</td>\n",
       "      <td>https://jurnal.sttnlampung.ac.id/index.php/sat...</td>\n",
       "      <td>True</td>\n",
       "      <td>True</td>\n",
       "      <td>True</td>\n",
       "    </tr>\n",
       "  </tbody>\n",
       "</table>\n",
       "<p>5 rows × 29 columns</p>\n",
       "</div>"
      ],
      "text/plain": [
       "                                             oai_url application   version  \\\n",
       "0  http://ojs.akperkerishusada.ac.id/index.php/in...         ojs   3.1.1.4   \n",
       "1  https://journal.al-qawarir.com/index.php/index...         ojs   3.1.2.4   \n",
       "2  https://proceedings.goodwoodconferences.com/in...         ojs   3.1.2.4   \n",
       "3  https://journal.unj.ac.id/unj/index.php/index/oai         ojs   3.1.2.1   \n",
       "4  https://jurnal.sttnlampung.ac.id/index.php/ind...         ojs  3.3.0.14   \n",
       "\n",
       "    earliest_datestamp                      repository_name    set_spec  \\\n",
       "0  2020-02-02 18:12:13  Publikasi Ilmiah Akper Keris Husada  akperkeris   \n",
       "1  2020-01-28 04:38:48      Ning Journal Publication System   alqawarir   \n",
       "2  2022-01-28 01:57:09                 Goodwood Proceedings        gcbm   \n",
       "3  2017-03-17 06:33:34           Universitas Negeri Jakarta      hayula   \n",
       "4  2023-03-29 03:26:00         Rumah Publikasi STTN Lampung    satkriya   \n",
       "\n",
       "                                        context_name       stats_id  \\\n",
       "0               Jurnal Ilmiah Kesehatan Keris Husada  5e2fd2821b290   \n",
       "1                                         AL-QAWĀRĪR  5e1dc97dca06b   \n",
       "2  Global Conference on Business and Management P...  6108d4a8f1cf2   \n",
       "3  Hayula: Indonesian Journal of Multidisciplinar...  58d23d3ec8cb4   \n",
       "4     SATKRIYA : Jurnal Pengabdian Kepada Masyarakat  631eb1a2996db   \n",
       "\n",
       "   total_record_count                  issn  ... unresponsive_endpoint  \\\n",
       "0                  47             2684-6969  ...                     0   \n",
       "1                 142  2709-4561\\n2709-457X  ...                     0   \n",
       "2                  11             2828-0326  ...                     0   \n",
       "3                 104  2548-9860\\n2549-0761  ...                     0   \n",
       "4                  11  2988-3431\\n2988-4071  ...                     0   \n",
       "\n",
       "  unresponsive_context record_count_2020 record_count_2021 record_count_2022  \\\n",
       "0                    0                 0                11                19   \n",
       "1                    0                18                53                50   \n",
       "2                    0                 0                 0                11   \n",
       "3                    0                14                18                18   \n",
       "4                    0                 0                 0                 0   \n",
       "\n",
       "  record_count_2023                                        journal_url  \\\n",
       "0                10  http://ojs.akperkerishusada.ac.id/index.php/ak...   \n",
       "1                18  https://journal.al-qawarir.com/index.php/alqaw...   \n",
       "2                 0  https://proceedings.goodwoodconferences.com/in...   \n",
       "3                18     https://journal.unj.ac.id/unj/index.php/hayula   \n",
       "4                11  https://jurnal.sttnlampung.ac.id/index.php/sat...   \n",
       "\n",
       "  issn_webpage_match ojs_in_html  scrape_success  \n",
       "0              False        True            True  \n",
       "1              False        True            True  \n",
       "2              False        True            True  \n",
       "3              False        True            True  \n",
       "4               True        True            True  \n",
       "\n",
       "[5 rows x 29 columns]"
      ]
     },
     "execution_count": 17,
     "metadata": {},
     "output_type": "execute_result"
    }
   ],
   "source": [
    "beacon.head()"
   ]
  },
  {
   "cell_type": "code",
   "execution_count": 18,
   "metadata": {},
   "outputs": [
    {
     "data": {
      "text/html": [
       "<div>\n",
       "<style scoped>\n",
       "    .dataframe tbody tr th:only-of-type {\n",
       "        vertical-align: middle;\n",
       "    }\n",
       "\n",
       "    .dataframe tbody tr th {\n",
       "        vertical-align: top;\n",
       "    }\n",
       "\n",
       "    .dataframe thead th {\n",
       "        text-align: right;\n",
       "    }\n",
       "</style>\n",
       "<table border=\"1\" class=\"dataframe\">\n",
       "  <thead>\n",
       "    <tr style=\"text-align: right;\">\n",
       "      <th></th>\n",
       "      <th>total_record_count</th>\n",
       "      <th>unresponsive_endpoint</th>\n",
       "      <th>unresponsive_context</th>\n",
       "      <th>record_count_2020</th>\n",
       "      <th>record_count_2021</th>\n",
       "      <th>record_count_2022</th>\n",
       "      <th>record_count_2023</th>\n",
       "    </tr>\n",
       "  </thead>\n",
       "  <tbody>\n",
       "    <tr>\n",
       "      <th>count</th>\n",
       "      <td>60044.000000</td>\n",
       "      <td>60044.000000</td>\n",
       "      <td>60044.000000</td>\n",
       "      <td>60044.000000</td>\n",
       "      <td>60044.000000</td>\n",
       "      <td>60044.000000</td>\n",
       "      <td>60044.000000</td>\n",
       "    </tr>\n",
       "    <tr>\n",
       "      <th>mean</th>\n",
       "      <td>203.515239</td>\n",
       "      <td>0.010376</td>\n",
       "      <td>0.010009</td>\n",
       "      <td>20.010559</td>\n",
       "      <td>24.215042</td>\n",
       "      <td>25.800513</td>\n",
       "      <td>27.179135</td>\n",
       "    </tr>\n",
       "    <tr>\n",
       "      <th>std</th>\n",
       "      <td>566.076398</td>\n",
       "      <td>0.101332</td>\n",
       "      <td>0.099545</td>\n",
       "      <td>121.560273</td>\n",
       "      <td>126.686700</td>\n",
       "      <td>137.482628</td>\n",
       "      <td>93.481072</td>\n",
       "    </tr>\n",
       "    <tr>\n",
       "      <th>min</th>\n",
       "      <td>5.000000</td>\n",
       "      <td>0.000000</td>\n",
       "      <td>0.000000</td>\n",
       "      <td>0.000000</td>\n",
       "      <td>0.000000</td>\n",
       "      <td>0.000000</td>\n",
       "      <td>0.000000</td>\n",
       "    </tr>\n",
       "    <tr>\n",
       "      <th>25%</th>\n",
       "      <td>25.000000</td>\n",
       "      <td>0.000000</td>\n",
       "      <td>0.000000</td>\n",
       "      <td>0.000000</td>\n",
       "      <td>0.000000</td>\n",
       "      <td>1.000000</td>\n",
       "      <td>3.000000</td>\n",
       "    </tr>\n",
       "    <tr>\n",
       "      <th>50%</th>\n",
       "      <td>76.000000</td>\n",
       "      <td>0.000000</td>\n",
       "      <td>0.000000</td>\n",
       "      <td>7.000000</td>\n",
       "      <td>11.000000</td>\n",
       "      <td>12.000000</td>\n",
       "      <td>11.000000</td>\n",
       "    </tr>\n",
       "    <tr>\n",
       "      <th>75%</th>\n",
       "      <td>197.000000</td>\n",
       "      <td>0.000000</td>\n",
       "      <td>0.000000</td>\n",
       "      <td>20.000000</td>\n",
       "      <td>23.000000</td>\n",
       "      <td>24.000000</td>\n",
       "      <td>24.000000</td>\n",
       "    </tr>\n",
       "    <tr>\n",
       "      <th>max</th>\n",
       "      <td>37439.000000</td>\n",
       "      <td>1.000000</td>\n",
       "      <td>1.000000</td>\n",
       "      <td>13815.000000</td>\n",
       "      <td>10932.000000</td>\n",
       "      <td>23461.000000</td>\n",
       "      <td>5051.000000</td>\n",
       "    </tr>\n",
       "  </tbody>\n",
       "</table>\n",
       "</div>"
      ],
      "text/plain": [
       "       total_record_count  unresponsive_endpoint  unresponsive_context  \\\n",
       "count        60044.000000           60044.000000          60044.000000   \n",
       "mean           203.515239               0.010376              0.010009   \n",
       "std            566.076398               0.101332              0.099545   \n",
       "min              5.000000               0.000000              0.000000   \n",
       "25%             25.000000               0.000000              0.000000   \n",
       "50%             76.000000               0.000000              0.000000   \n",
       "75%            197.000000               0.000000              0.000000   \n",
       "max          37439.000000               1.000000              1.000000   \n",
       "\n",
       "       record_count_2020  record_count_2021  record_count_2022  \\\n",
       "count       60044.000000       60044.000000       60044.000000   \n",
       "mean           20.010559          24.215042          25.800513   \n",
       "std           121.560273         126.686700         137.482628   \n",
       "min             0.000000           0.000000           0.000000   \n",
       "25%             0.000000           0.000000           1.000000   \n",
       "50%             7.000000          11.000000          12.000000   \n",
       "75%            20.000000          23.000000          24.000000   \n",
       "max         13815.000000       10932.000000       23461.000000   \n",
       "\n",
       "       record_count_2023  \n",
       "count       60044.000000  \n",
       "mean           27.179135  \n",
       "std            93.481072  \n",
       "min             0.000000  \n",
       "25%             3.000000  \n",
       "50%            11.000000  \n",
       "75%            24.000000  \n",
       "max          5051.000000  "
      ]
     },
     "execution_count": 18,
     "metadata": {},
     "output_type": "execute_result"
    }
   ],
   "source": [
    "scrapedDF = beacon[beacon[\"scrape_success\"] == True]\n",
    "failDF = beacon[beacon[\"scrape_success\"] == False]\n",
    "scrapedDF.describe()"
   ]
  },
  {
   "cell_type": "code",
   "execution_count": 19,
   "metadata": {},
   "outputs": [
    {
     "data": {
      "text/plain": [
       "Index(['oai_url', 'application', 'version', 'earliest_datestamp',\n",
       "       'repository_name', 'set_spec', 'context_name', 'stats_id',\n",
       "       'total_record_count', 'issn', 'country_marc', 'country_issn',\n",
       "       'country_tld', 'country_ip', 'country_consolidated',\n",
       "       'last_completed_update', 'first_beacon', 'last_beacon',\n",
       "       'last_oai_response', 'unresponsive_endpoint', 'unresponsive_context',\n",
       "       'record_count_2020', 'record_count_2021', 'record_count_2022',\n",
       "       'record_count_2023', 'journal_url', 'issn_webpage_match', 'ojs_in_html',\n",
       "       'scrape_success'],\n",
       "      dtype='object')"
      ]
     },
     "execution_count": 19,
     "metadata": {},
     "output_type": "execute_result"
    }
   ],
   "source": [
    "failDF.columns"
   ]
  },
  {
   "cell_type": "markdown",
   "metadata": {},
   "source": [
    "### Report countries from failed scrapes"
   ]
  },
  {
   "cell_type": "code",
   "execution_count": 20,
   "metadata": {},
   "outputs": [
    {
     "data": {
      "text/plain": [
       "country_tld\n",
       "ID    0.520030\n",
       "BR    0.110071\n",
       "CO    0.025084\n",
       "ES    0.020592\n",
       "IN    0.019843\n",
       "        ...   \n",
       "DO    0.000374\n",
       "BW    0.000374\n",
       "ME    0.000374\n",
       "SY    0.000374\n",
       "CN    0.000374\n",
       "Name: proportion, Length: 97, dtype: float64"
      ]
     },
     "execution_count": 20,
     "metadata": {},
     "output_type": "execute_result"
    }
   ],
   "source": [
    "# summarize countries proportionally in failDF\n",
    "failDF[\"country_tld\"].value_counts(normalize=True)"
   ]
  },
  {
   "cell_type": "markdown",
   "metadata": {},
   "source": [
    "Scrape success rate:"
   ]
  },
  {
   "cell_type": "code",
   "execution_count": 21,
   "metadata": {},
   "outputs": [
    {
     "data": {
      "text/plain": [
       "oai_url                  0.940038\n",
       "application              0.940038\n",
       "version                  0.940106\n",
       "earliest_datestamp       0.940038\n",
       "repository_name          0.940421\n",
       "set_spec                 0.940052\n",
       "context_name             0.940038\n",
       "stats_id                 0.940001\n",
       "total_record_count       0.940038\n",
       "issn                     0.939756\n",
       "country_marc             0.939902\n",
       "country_issn             0.939847\n",
       "country_tld              0.940482\n",
       "country_ip               0.939286\n",
       "country_consolidated     0.940114\n",
       "last_completed_update    0.940037\n",
       "first_beacon             0.940038\n",
       "last_beacon              0.940038\n",
       "last_oai_response        0.940038\n",
       "unresponsive_endpoint    0.940038\n",
       "unresponsive_context     0.940038\n",
       "record_count_2020        0.940038\n",
       "record_count_2021        0.940038\n",
       "record_count_2022        0.940038\n",
       "record_count_2023        0.940038\n",
       "journal_url              0.940038\n",
       "issn_webpage_match       0.940038\n",
       "ojs_in_html              0.940038\n",
       "scrape_success           0.940038\n",
       "dtype: float64"
      ]
     },
     "execution_count": 21,
     "metadata": {},
     "output_type": "execute_result"
    }
   ],
   "source": [
    "scrapedDF.count() / beacon.count()"
   ]
  },
  {
   "cell_type": "markdown",
   "metadata": {},
   "source": [
    "Scrape success rate holds true for active journals:"
   ]
  },
  {
   "cell_type": "code",
   "execution_count": 22,
   "metadata": {},
   "outputs": [
    {
     "data": {
      "text/plain": [
       "oai_url                  0.940939\n",
       "application              0.940939\n",
       "version                  0.941024\n",
       "earliest_datestamp       0.940988\n",
       "repository_name          0.941336\n",
       "set_spec                 0.940959\n",
       "context_name             0.940939\n",
       "stats_id                 0.940993\n",
       "total_record_count       0.940939\n",
       "issn                     0.940591\n",
       "country_marc             0.940754\n",
       "country_issn             0.940716\n",
       "country_tld              0.941295\n",
       "country_ip               0.940471\n",
       "country_consolidated     0.941023\n",
       "last_completed_update    0.940939\n",
       "first_beacon             0.940939\n",
       "last_beacon              0.940939\n",
       "last_oai_response        0.940988\n",
       "unresponsive_endpoint    0.940939\n",
       "unresponsive_context     0.940939\n",
       "record_count_2020        0.940939\n",
       "record_count_2021        0.940939\n",
       "record_count_2022        0.940939\n",
       "record_count_2023        0.940939\n",
       "journal_url              0.940939\n",
       "issn_webpage_match       0.940939\n",
       "ojs_in_html              0.940939\n",
       "scrape_success           0.940939\n",
       "dtype: float64"
      ]
     },
     "execution_count": 22,
     "metadata": {},
     "output_type": "execute_result"
    }
   ],
   "source": [
    "beacon[(beacon[\"record_count_2023\"] > 5) & (beacon[\"scrape_success\"] == True)].count() / beacon[beacon[\"record_count_2023\"] > 5].count()"
   ]
  },
  {
   "cell_type": "markdown",
   "metadata": {},
   "source": [
    "Beacon ISSN <> webpage ISSN matching:"
   ]
  },
  {
   "cell_type": "code",
   "execution_count": 23,
   "metadata": {},
   "outputs": [
    {
     "data": {
      "text/plain": [
       "oai_url                  32055\n",
       "application              32055\n",
       "version                  31947\n",
       "earliest_datestamp       31663\n",
       "repository_name          24738\n",
       "set_spec                 32054\n",
       "context_name             32055\n",
       "stats_id                 31655\n",
       "total_record_count       32055\n",
       "issn                     25732\n",
       "country_marc             24866\n",
       "country_issn             24794\n",
       "country_tld              22472\n",
       "country_ip               20700\n",
       "country_consolidated     30545\n",
       "last_completed_update    32055\n",
       "first_beacon             32055\n",
       "last_beacon              32055\n",
       "last_oai_response        31663\n",
       "unresponsive_endpoint    32055\n",
       "unresponsive_context     32055\n",
       "record_count_2020        32055\n",
       "record_count_2021        32055\n",
       "record_count_2022        32055\n",
       "record_count_2023        32055\n",
       "journal_url              32055\n",
       "issn_webpage_match       32055\n",
       "ojs_in_html              32055\n",
       "scrape_success           32055\n",
       "dtype: int64"
      ]
     },
     "execution_count": 23,
     "metadata": {},
     "output_type": "execute_result"
    }
   ],
   "source": [
    "scrapedDF[scrapedDF[\"issn_webpage_match\"] == True].count()"
   ]
  },
  {
   "cell_type": "code",
   "execution_count": 24,
   "metadata": {},
   "outputs": [
    {
     "data": {
      "text/plain": [
       "oai_url                  0.533859\n",
       "application              0.533859\n",
       "version                  0.533651\n",
       "earliest_datestamp       0.533604\n",
       "repository_name          0.534529\n",
       "set_spec                 0.533851\n",
       "context_name             0.533859\n",
       "stats_id                 0.534099\n",
       "total_record_count       0.533859\n",
       "issn                     0.533671\n",
       "country_marc             0.534075\n",
       "country_issn             0.534123\n",
       "country_tld              0.532436\n",
       "country_ip               0.534138\n",
       "country_consolidated     0.533668\n",
       "last_completed_update    0.533867\n",
       "first_beacon             0.533859\n",
       "last_beacon              0.533859\n",
       "last_oai_response        0.533604\n",
       "unresponsive_endpoint    0.533859\n",
       "unresponsive_context     0.533859\n",
       "record_count_2020        0.533859\n",
       "record_count_2021        0.533859\n",
       "record_count_2022        0.533859\n",
       "record_count_2023        0.533859\n",
       "journal_url              0.533859\n",
       "issn_webpage_match       0.533859\n",
       "ojs_in_html              0.533859\n",
       "scrape_success           0.533859\n",
       "dtype: float64"
      ]
     },
     "execution_count": 24,
     "metadata": {},
     "output_type": "execute_result"
    }
   ],
   "source": [
    "scrapedDF[scrapedDF[\"issn_webpage_match\"] == True].count() / scrapedDF.count()"
   ]
  },
  {
   "cell_type": "markdown",
   "metadata": {},
   "source": [
    "Proportion holds true for active journals:"
   ]
  },
  {
   "cell_type": "code",
   "execution_count": 25,
   "metadata": {},
   "outputs": [
    {
     "data": {
      "text/plain": [
       "oai_url                  0.536713\n",
       "application              0.536713\n",
       "version                  0.536442\n",
       "earliest_datestamp       0.536181\n",
       "repository_name          0.536467\n",
       "set_spec                 0.536701\n",
       "context_name             0.536713\n",
       "stats_id                 0.536931\n",
       "total_record_count       0.536713\n",
       "issn                     0.535680\n",
       "country_marc             0.535991\n",
       "country_issn             0.536085\n",
       "country_tld              0.534907\n",
       "country_ip               0.536526\n",
       "country_consolidated     0.536521\n",
       "last_completed_update    0.536713\n",
       "first_beacon             0.536713\n",
       "last_beacon              0.536713\n",
       "last_oai_response        0.536181\n",
       "unresponsive_endpoint    0.536713\n",
       "unresponsive_context     0.536713\n",
       "record_count_2020        0.536713\n",
       "record_count_2021        0.536713\n",
       "record_count_2022        0.536713\n",
       "record_count_2023        0.536713\n",
       "journal_url              0.536713\n",
       "issn_webpage_match       0.536713\n",
       "ojs_in_html              0.536713\n",
       "scrape_success           0.536713\n",
       "dtype: float64"
      ]
     },
     "execution_count": 25,
     "metadata": {},
     "output_type": "execute_result"
    }
   ],
   "source": [
    "scrapedDF[(scrapedDF[\"issn_webpage_match\"] == True) & (scrapedDF[\"record_count_2023\"] > 5)].count() / scrapedDF[scrapedDF[\"record_count_2023\"] > 5].count()"
   ]
  },
  {
   "cell_type": "markdown",
   "metadata": {},
   "source": [
    "Proportion of journal websites that include \"Open Journal Systems\" in HTML source:"
   ]
  },
  {
   "cell_type": "code",
   "execution_count": 26,
   "metadata": {},
   "outputs": [
    {
     "data": {
      "text/plain": [
       "oai_url                  0.958647\n",
       "application              0.958647\n",
       "version                  0.958640\n",
       "earliest_datestamp       0.958627\n",
       "repository_name          0.958751\n",
       "set_spec                 0.958646\n",
       "context_name             0.958647\n",
       "stats_id                 0.958696\n",
       "total_record_count       0.958647\n",
       "issn                     0.959143\n",
       "country_marc             0.958998\n",
       "country_issn             0.958983\n",
       "country_tld              0.957660\n",
       "country_ip               0.957733\n",
       "country_consolidated     0.958697\n",
       "last_completed_update    0.958646\n",
       "first_beacon             0.958647\n",
       "last_beacon              0.958647\n",
       "last_oai_response        0.958627\n",
       "unresponsive_endpoint    0.958647\n",
       "unresponsive_context     0.958647\n",
       "record_count_2020        0.958647\n",
       "record_count_2021        0.958647\n",
       "record_count_2022        0.958647\n",
       "record_count_2023        0.958647\n",
       "journal_url              0.958647\n",
       "issn_webpage_match       0.958647\n",
       "ojs_in_html              0.958647\n",
       "scrape_success           0.958647\n",
       "dtype: float64"
      ]
     },
     "execution_count": 26,
     "metadata": {},
     "output_type": "execute_result"
    }
   ],
   "source": [
    "scrapedDF[scrapedDF[\"ojs_in_html\"] == True].count() / scrapedDF.count()"
   ]
  }
 ],
 "metadata": {
  "kernelspec": {
   "display_name": "nlu",
   "language": "python",
   "name": "python3"
  },
  "language_info": {
   "codemirror_mode": {
    "name": "ipython",
    "version": 3
   },
   "file_extension": ".py",
   "mimetype": "text/x-python",
   "name": "python",
   "nbconvert_exporter": "python",
   "pygments_lexer": "ipython3",
   "version": "3.12.3"
  }
 },
 "nbformat": 4,
 "nbformat_minor": 2
}
