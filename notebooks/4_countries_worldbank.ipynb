{
 "cells": [
  {
   "cell_type": "markdown",
   "metadata": {},
   "source": [
    "# 4. Active journals using OJS by country and World Bank income group"
   ]
  },
  {
   "cell_type": "markdown",
   "metadata": {},
   "source": [
    "### Notebook objectives:\n",
    "1. [Determine the number of active OJS journals by country.](#country)\n",
    "2. [Group journals by country income level using World Bank GNI data*.](#wb)\n",
    "<br>\n",
    "*<a href='https://datahelpdesk.worldbank.org/knowledgebase/articles/906519-world-bank-country-and-lending-groups'>GNI data</a> are updated as of FY22 but reflect 2020 data"
   ]
  },
  {
   "cell_type": "markdown",
   "metadata": {},
   "source": [
    "Import packages and read the cleaned beacon dataset into pandas:"
   ]
  },
  {
   "cell_type": "code",
   "execution_count": 1,
   "metadata": {},
   "outputs": [],
   "source": [
    "from collections import defaultdict\n",
    "from collections import Counter\n",
    "import matplotlib.pyplot as plt\n",
    "import seaborn as sns\n",
    "import pandas as pd\n",
    "import numpy as np\n",
    "import json\n",
    "import time\n",
    "import os\n",
    "import re"
   ]
  },
  {
   "cell_type": "code",
   "execution_count": 2,
   "metadata": {},
   "outputs": [],
   "source": [
    "beaconActive = pd.read_csv(os.path.join('data', 'beacon_active.csv'))"
   ]
  },
  {
   "cell_type": "markdown",
   "metadata": {},
   "source": [
    "Rename the beaconActive DataFrame's 'country_consolidated' variable as 'tld' (top-level domain):"
   ]
  },
  {
   "cell_type": "code",
   "execution_count": 3,
   "metadata": {},
   "outputs": [],
   "source": [
    "beaconActive.rename(columns={'country_consolidated':'tld'}, inplace=True)"
   ]
  },
  {
   "cell_type": "markdown",
   "metadata": {},
   "source": [
    "### Preprocess the World Bank country and lending group dataset:"
   ]
  },
  {
   "cell_type": "code",
   "execution_count": 4,
   "metadata": {},
   "outputs": [],
   "source": [
    "wbGroups = pd.read_excel(os.path.join('data','wb_tlds.xlsx'))"
   ]
  },
  {
   "cell_type": "code",
   "execution_count": 5,
   "metadata": {},
   "outputs": [],
   "source": [
    "#Select only the country, income_group, and tld variables, and rename them accordingly:\n",
    "wbGroups = wbGroups[['Economy',\n",
    "                     'Income group',\n",
    "                     'Domain']]\n",
    "wbGroups.rename(columns={'Economy':'country','Income group':'income_group','Domain':'tld'}, inplace=True)"
   ]
  },
  {
   "cell_type": "code",
   "execution_count": 6,
   "metadata": {},
   "outputs": [
    {
     "data": {
      "text/plain": [
       "country         0\n",
       "income_group    0\n",
       "tld             1\n",
       "dtype: int64"
      ]
     },
     "execution_count": 6,
     "metadata": {},
     "output_type": "execute_result"
    }
   ],
   "source": [
    "wbGroups.isnull().sum()"
   ]
  },
  {
   "cell_type": "code",
   "execution_count": 7,
   "metadata": {},
   "outputs": [
    {
     "data": {
      "text/html": [
       "<div>\n",
       "<style scoped>\n",
       "    .dataframe tbody tr th:only-of-type {\n",
       "        vertical-align: middle;\n",
       "    }\n",
       "\n",
       "    .dataframe tbody tr th {\n",
       "        vertical-align: top;\n",
       "    }\n",
       "\n",
       "    .dataframe thead th {\n",
       "        text-align: right;\n",
       "    }\n",
       "</style>\n",
       "<table border=\"1\" class=\"dataframe\">\n",
       "  <thead>\n",
       "    <tr style=\"text-align: right;\">\n",
       "      <th></th>\n",
       "      <th>country</th>\n",
       "      <th>income_group</th>\n",
       "      <th>tld</th>\n",
       "    </tr>\n",
       "  </thead>\n",
       "  <tbody>\n",
       "    <tr>\n",
       "      <th>141</th>\n",
       "      <td>Namibia</td>\n",
       "      <td>Upper middle income</td>\n",
       "      <td>NaN</td>\n",
       "    </tr>\n",
       "  </tbody>\n",
       "</table>\n",
       "</div>"
      ],
      "text/plain": [
       "     country         income_group  tld\n",
       "141  Namibia  Upper middle income  NaN"
      ]
     },
     "execution_count": 7,
     "metadata": {},
     "output_type": "execute_result"
    }
   ],
   "source": [
    "#There is one missing 'tld' value\n",
    "wbGroups[wbGroups['tld'].isnull()]"
   ]
  },
  {
   "cell_type": "code",
   "execution_count": 8,
   "metadata": {},
   "outputs": [],
   "source": [
    "#Namibia is missing! The top-level domain 'NA' read into pandas as NaN\n",
    "#Change NaN to NA in the 'tld' column for Nigerian contexts\n",
    "wbGroups['tld'] = np.where(wbGroups['tld'].isnull(), 'NA', wbGroups['tld'])\n",
    "beaconActive['tld'] = np.where(beaconActive['oai_url'].str.contains('.na/'), 'NA', beaconActive['tld'])"
   ]
  },
  {
   "cell_type": "markdown",
   "metadata": {},
   "source": [
    "Filter the World Bank income group dataset to include only those countries that match beaconActive:"
   ]
  },
  {
   "cell_type": "code",
   "execution_count": 9,
   "metadata": {},
   "outputs": [
    {
     "name": "stdout",
     "output_type": "stream",
     "text": [
      "<class 'pandas.core.frame.DataFrame'>\n",
      "RangeIndex: 139 entries, 0 to 138\n",
      "Data columns (total 4 columns):\n",
      " #   Column        Non-Null Count  Dtype \n",
      "---  ------        --------------  ----- \n",
      " 0   index         139 non-null    int64 \n",
      " 1   country       139 non-null    object\n",
      " 2   income_group  139 non-null    object\n",
      " 3   tld           139 non-null    object\n",
      "dtypes: int64(1), object(3)\n",
      "memory usage: 4.5+ KB\n"
     ]
    }
   ],
   "source": [
    "wbGroups = wbGroups[wbGroups['tld'].isin(beaconActive['tld'])].reset_index()\n",
    "wbGroups.info()"
   ]
  },
  {
   "cell_type": "code",
   "execution_count": 10,
   "metadata": {},
   "outputs": [
    {
     "data": {
      "text/html": [
       "<div>\n",
       "<style scoped>\n",
       "    .dataframe tbody tr th:only-of-type {\n",
       "        vertical-align: middle;\n",
       "    }\n",
       "\n",
       "    .dataframe tbody tr th {\n",
       "        vertical-align: top;\n",
       "    }\n",
       "\n",
       "    .dataframe thead th {\n",
       "        text-align: right;\n",
       "    }\n",
       "</style>\n",
       "<table border=\"1\" class=\"dataframe\">\n",
       "  <thead>\n",
       "    <tr style=\"text-align: right;\">\n",
       "      <th></th>\n",
       "      <th>index</th>\n",
       "      <th>country</th>\n",
       "      <th>income_group</th>\n",
       "      <th>tld</th>\n",
       "    </tr>\n",
       "  </thead>\n",
       "  <tbody>\n",
       "    <tr>\n",
       "      <th>134</th>\n",
       "      <td>216</td>\n",
       "      <td>Kosovo</td>\n",
       "      <td>Upper middle income</td>\n",
       "      <td>AL</td>\n",
       "    </tr>\n",
       "  </tbody>\n",
       "</table>\n",
       "</div>"
      ],
      "text/plain": [
       "     index country         income_group tld\n",
       "134    216  Kosovo  Upper middle income  AL"
      ]
     },
     "execution_count": 10,
     "metadata": {},
     "output_type": "execute_result"
    }
   ],
   "source": [
    "#Check for duplicates in the 'tld' column \n",
    "wbGroups[wbGroups['tld'].duplicated()]"
   ]
  },
  {
   "cell_type": "code",
   "execution_count": 11,
   "metadata": {},
   "outputs": [],
   "source": [
    "#Kosovo shares a top-level domain with Albania. But both Kosovo and Albania belong to the same income_group\n",
    "#Merging on 'tld', so delete Kosovo for now\n",
    "wbGroups.drop(index=134, inplace=True)"
   ]
  },
  {
   "cell_type": "code",
   "execution_count": 12,
   "metadata": {},
   "outputs": [
    {
     "name": "stdout",
     "output_type": "stream",
     "text": [
      "Low income\n",
      "Lower middle income\n",
      "Upper middle income\n",
      "High income\n",
      "Unclassified\n"
     ]
    }
   ],
   "source": [
    "#Drop the index column\n",
    "wbGroups.drop('index', axis=1, inplace=True)\n",
    "for group in wbGroups['income_group'].unique():\n",
    "    print(group)"
   ]
  },
  {
   "cell_type": "markdown",
   "metadata": {},
   "source": [
    "Change Venezuela's income classification from 'Unclassified' (2021) to its previous classification (2020):"
   ]
  },
  {
   "cell_type": "code",
   "execution_count": 13,
   "metadata": {},
   "outputs": [],
   "source": [
    "wbGroups['income_group'] = np.where(wbGroups['income_group'].str.contains('Unclassified'),\n",
    "                                    'Upper middle income',\n",
    "                                    wbGroups['income_group'])"
   ]
  },
  {
   "cell_type": "markdown",
   "metadata": {},
   "source": [
    "#### Merge the Beacon and World Bank datasets by Top-Level Domain"
   ]
  },
  {
   "cell_type": "code",
   "execution_count": 14,
   "metadata": {},
   "outputs": [
    {
     "name": "stdout",
     "output_type": "stream",
     "text": [
      "(25651, 40)\n"
     ]
    }
   ],
   "source": [
    "incomeGroups = beaconActive.merge(wbGroups, how='inner', on='tld')\n",
    "print(incomeGroups.shape)"
   ]
  },
  {
   "cell_type": "code",
   "execution_count": 15,
   "metadata": {
    "scrolled": true
   },
   "outputs": [
    {
     "data": {
      "text/plain": [
       "Unnamed: 0                   0\n",
       "oai_url                      0\n",
       "application                  0\n",
       "version                     34\n",
       "admin_email                658\n",
       "earliest_datestamp          99\n",
       "repository_name           4139\n",
       "set_spec                     0\n",
       "context_name                 0\n",
       "stats_id                     0\n",
       "total_record_count           0\n",
       "issn                      2819\n",
       "country_marc              2856\n",
       "country_issn              2931\n",
       "country_tld               5276\n",
       "country_ip                 191\n",
       "tld                          0\n",
       "last_completed_update       22\n",
       "first_beacon                 0\n",
       "last_beacon                  0\n",
       "last_oai_response           99\n",
       "unresponsive_endpoint        0\n",
       "unresponsive_context         0\n",
       "record_count_2010            0\n",
       "record_count_2011            0\n",
       "record_count_2012            0\n",
       "record_count_2013            0\n",
       "record_count_2014            0\n",
       "record_count_2015            0\n",
       "record_count_2016            0\n",
       "record_count_2017            0\n",
       "record_count_2018            0\n",
       "record_count_2019            0\n",
       "record_count_2020            0\n",
       "record_count_2021            0\n",
       "issn_1                    2819\n",
       "issn_2                   17232\n",
       "journal_url                  0\n",
       "country                      0\n",
       "income_group                 0\n",
       "dtype: int64"
      ]
     },
     "execution_count": 15,
     "metadata": {},
     "output_type": "execute_result"
    }
   ],
   "source": [
    "incomeGroups.isnull().sum()"
   ]
  },
  {
   "cell_type": "markdown",
   "metadata": {},
   "source": [
    "## Distribution of active OJS journals by country:<a id='country'></a>"
   ]
  },
  {
   "cell_type": "code",
   "execution_count": 17,
   "metadata": {},
   "outputs": [
    {
     "data": {
      "image/png": "[encoded data removed]",
      "text/plain": [
       "<Figure size 432x288 with 1 Axes>"
      ]
     },
     "metadata": {},
     "output_type": "display_data"
    }
   ],
   "source": [
    "#Plot the distribution of OJS journals by World Bank income group\n",
    "sns.set(font_scale=1.25)\n",
    "sns.set_style('whitegrid')\n",
    "\n",
    "fig, ax = plt.subplots()\n",
    "\n",
    "inc = sns.barplot(y=incomeGroups['country'].value_counts().index[:10],\n",
    "                  x=incomeGroups['country'].value_counts().iloc[:10],\n",
    "                  data=incomeGroups,\n",
    "                  color='grey')\n",
    "\n",
    "ax.set(xlim=(0, 15500),\n",
    "       xlabel = 'Active journals using OJS',\n",
    "       ylabel = 'Country')#,\n",
    "       #title='''The distribution of active journals using OJS across World Bank country groups \\n\n",
    "       #based on gross national income (GNI) per capita ($\\it{n}$ = 25,651)''')\n",
    "sns.despine(bottom=True)\n",
    "\n",
    "plt.xticks([2500, 5000, 7500, 10000, 12500],\n",
    "                         ['2,500', '5,000', '7,500', '10,000', '12,500'])\n",
    "\n",
    "for p in inc.patches:\n",
    "    _x = p.get_x() + p.get_width()\n",
    "    _y = p.get_y() + p.get_height() - 0.125\n",
    "    value = '{:,}'.format(p.get_width())\n",
    "    percent = round(((p.get_width() / 25651) * 100), 1)\n",
    "    if len(str(int(p.get_width()))) == 5:\n",
    "        value = str(int(p.get_width()))[:2] + ',' + str(int(p.get_width()))[2:] + f' ({str(percent)})%'\n",
    "    elif len(str(int(p.get_width()))) == 4:\n",
    "        value = str(int(p.get_width()))[0] + ',' + str(int(p.get_width()))[1:] + f' ({str(percent)})%'\n",
    "        value = str(int(p.get_width())) + f' ({str(percent)})%'\n",
    "    else:\n",
    "        value = str(int(p.get_width())) + f' ({str(percent)})%' \n",
    "    inc.text(_x + 200, _y, value, ha='left', weight='bold')\n",
    "\n",
    "inc.figure.savefig(os.path.join('vis', 'OJScountries.png'), bbox_inches='tight')"
   ]
  },
  {
   "cell_type": "markdown",
   "metadata": {},
   "source": [
    "## The distribution of active journals using OJS across World Bank country groups based on gross national income (GNI) per capita ($\\it{n}$ = 25,651) <a id='wb'></a>"
   ]
  },
  {
   "cell_type": "code",
   "execution_count": 18,
   "metadata": {},
   "outputs": [
    {
     "data": {
      "image/png": "[encoded data removed]",
      "text/plain": [
       "<Figure size 432x288 with 1 Axes>"
      ]
     },
     "metadata": {},
     "output_type": "display_data"
    }
   ],
   "source": [
    "#Plot the distribution of OJS journals by World Bank income group\n",
    "\n",
    "fig, ax = plt.subplots()\n",
    "\n",
    "inc = sns.countplot(y='income_group', \n",
    "                    order=['Low income',\n",
    "                           'Lower middle income',\n",
    "                           'Upper middle income',\n",
    "                           'High income'],\n",
    "                    data=incomeGroups,\n",
    "                    color='grey')\n",
    "\n",
    "ax.set(xlim=(0, 17500),\n",
    "       xlabel = 'Active journals using OJS',\n",
    "       ylabel = 'World Bank income group')#,\n",
    "       #title='''The distribution of active journals using OJS across World Bank country groups \\n\n",
    "       #based on gross national income (GNI) per capita ($\\it{n}$ = 25,651)''')\n",
    "sns.despine(bottom=True)\n",
    "\n",
    "plt.xticks([2500, 5000, 7500, 10000, 12500, 15000],\n",
    "                         ['2,500', '5,000', '7,500', '10,000', '12,500', '15,000'])\n",
    "\n",
    "for p in inc.patches:\n",
    "    _x = p.get_x() + p.get_width()\n",
    "    _y = p.get_y() + p.get_height() - 0.3\n",
    "    value = '{:,}'.format(p.get_width())\n",
    "    percent = round(((p.get_width() / 25651) * 100), 1)\n",
    "    if len(str(int(p.get_width()))) == 5:\n",
    "        value = str(int(p.get_width()))[:2] + ',' + str(int(p.get_width()))[2:] + f' ({str(percent)})%'\n",
    "    elif len(str(int(p.get_width()))) == 4:\n",
    "        value = str(int(p.get_width()))[0] + ',' + str(int(p.get_width()))[1:] + f' ({str(percent)})%'\n",
    "        value = str(int(p.get_width())) + f' ({str(percent)})%'\n",
    "    inc.text(_x + 250, _y, value, ha='left', weight='bold')\n",
    "\n",
    "inc.figure.savefig(os.path.join('vis', 'OJSincome_groups.png'), bbox_inches='tight')"
   ]
  }
 ],
 "metadata": {
  "kernelspec": {
   "display_name": "nlu",
   "language": "python",
   "name": "nlu"
  },
  "language_info": {
   "codemirror_mode": {
    "name": "ipython",
    "version": 3
   },
   "file_extension": ".py",
   "mimetype": "text/x-python",
   "name": "python",
   "nbconvert_exporter": "python",
   "pygments_lexer": "ipython3",
   "version": "3.9.13"
  }
 },
 "nbformat": 4,
 "nbformat_minor": 4
}
