{
 "cells": [
  {
   "cell_type": "markdown",
   "metadata": {},
   "source": [
    "## World Bank income groups<a name=\"worldbank\"></a>\n",
    "Determine the number of active OJS journals by country, then group countries by income using World Bank GNI data*:\n",
    "https://datahelpdesk.worldbank.org/knowledgebase/articles/906519-world-bank-country-and-lending-groups <br>\n",
    "*GNI data is updated as of FY22 but reflects 2020 data"
   ]
  },
  {
   "cell_type": "markdown",
   "metadata": {},
   "source": [
    "Rename the beaconActive DataFrame's 'country_consolidated' variable as 'tld' (top-level domain):"
   ]
  },
  {
   "cell_type": "code",
   "execution_count": 71,
   "metadata": {},
   "outputs": [],
   "source": [
    "beaconActive.rename(columns={'country_consolidated':'tld'}, inplace=True)"
   ]
  },
  {
   "cell_type": "markdown",
   "metadata": {},
   "source": [
    "#### Preprocess the World Bank country and lending group dataset (12/2021):"
   ]
  },
  {
   "cell_type": "code",
   "execution_count": 72,
   "metadata": {},
   "outputs": [],
   "source": [
    "wbGroups = pd.read_excel('data/wb_tlds.xlsx')"
   ]
  },
  {
   "cell_type": "code",
   "execution_count": 73,
   "metadata": {},
   "outputs": [],
   "source": [
    "#Select only the country, income_group, and tld variables, and rename them accordingly:\n",
    "wbGroups = wbGroups[['Economy',\n",
    "                       'Income group',\n",
    "                       'Domain']]\n",
    "wbGroups.rename(columns={'Economy':'country','Income group':'income_group','Domain':'tld'}, inplace=True)"
   ]
  },
  {
   "cell_type": "code",
   "execution_count": 74,
   "metadata": {},
   "outputs": [
    {
     "data": {
      "text/plain": [
       "country         0\n",
       "income_group    0\n",
       "tld             1\n",
       "dtype: int64"
      ]
     },
     "execution_count": 74,
     "metadata": {},
     "output_type": "execute_result"
    }
   ],
   "source": [
    "wbGroups.isnull().sum()"
   ]
  },
  {
   "cell_type": "code",
   "execution_count": 75,
   "metadata": {},
   "outputs": [
    {
     "data": {
      "text/html": [
       "<div>\n",
       "<style scoped>\n",
       "    .dataframe tbody tr th:only-of-type {\n",
       "        vertical-align: middle;\n",
       "    }\n",
       "\n",
       "    .dataframe tbody tr th {\n",
       "        vertical-align: top;\n",
       "    }\n",
       "\n",
       "    .dataframe thead th {\n",
       "        text-align: right;\n",
       "    }\n",
       "</style>\n",
       "<table border=\"1\" class=\"dataframe\">\n",
       "  <thead>\n",
       "    <tr style=\"text-align: right;\">\n",
       "      <th></th>\n",
       "      <th>country</th>\n",
       "      <th>income_group</th>\n",
       "      <th>tld</th>\n",
       "    </tr>\n",
       "  </thead>\n",
       "  <tbody>\n",
       "    <tr>\n",
       "      <th>141</th>\n",
       "      <td>Namibia</td>\n",
       "      <td>Upper middle income</td>\n",
       "      <td>NaN</td>\n",
       "    </tr>\n",
       "  </tbody>\n",
       "</table>\n",
       "</div>"
      ],
      "text/plain": [
       "     country         income_group  tld\n",
       "141  Namibia  Upper middle income  NaN"
      ]
     },
     "execution_count": 75,
     "metadata": {},
     "output_type": "execute_result"
    }
   ],
   "source": [
    "#There is one missing 'tld' value\n",
    "wbGroups[wbGroups['tld'].isnull()]"
   ]
  },
  {
   "cell_type": "code",
   "execution_count": 76,
   "metadata": {},
   "outputs": [],
   "source": [
    "#Namibia is missing! The top-level domain 'NA' read into pandas as NaN\n",
    "#Change NaN to NA in the 'tld' column for both DataFrames\n",
    "wbGroups['tld'] = np.where(wbGroups['tld'].isnull(), 'NA', wbGroups['tld'])\n",
    "beaconActive['tld'] = np.where(beaconActive['oai_url'].str.contains('.na/'), 'NA', beaconActive['tld'])"
   ]
  },
  {
   "cell_type": "code",
   "execution_count": 77,
   "metadata": {},
   "outputs": [
    {
     "name": "stdout",
     "output_type": "stream",
     "text": [
      "<class 'pandas.core.frame.DataFrame'>\n",
      "RangeIndex: 139 entries, 0 to 138\n",
      "Data columns (total 4 columns):\n",
      " #   Column        Non-Null Count  Dtype \n",
      "---  ------        --------------  ----- \n",
      " 0   index         139 non-null    int64 \n",
      " 1   country       139 non-null    object\n",
      " 2   income_group  139 non-null    object\n",
      " 3   tld           139 non-null    object\n",
      "dtypes: int64(1), object(3)\n",
      "memory usage: 4.5+ KB\n"
     ]
    }
   ],
   "source": [
    "#Filter the World Bank income class dataset to include only those countries that match beaconActive:\n",
    "wbGroups = wbGroups[wbGroups['tld'].isin(beaconActive['tld'])].reset_index()\n",
    "wbGroups.info()"
   ]
  },
  {
   "cell_type": "code",
   "execution_count": 78,
   "metadata": {},
   "outputs": [
    {
     "data": {
      "text/html": [
       "<div>\n",
       "<style scoped>\n",
       "    .dataframe tbody tr th:only-of-type {\n",
       "        vertical-align: middle;\n",
       "    }\n",
       "\n",
       "    .dataframe tbody tr th {\n",
       "        vertical-align: top;\n",
       "    }\n",
       "\n",
       "    .dataframe thead th {\n",
       "        text-align: right;\n",
       "    }\n",
       "</style>\n",
       "<table border=\"1\" class=\"dataframe\">\n",
       "  <thead>\n",
       "    <tr style=\"text-align: right;\">\n",
       "      <th></th>\n",
       "      <th>index</th>\n",
       "      <th>country</th>\n",
       "      <th>income_group</th>\n",
       "      <th>tld</th>\n",
       "    </tr>\n",
       "  </thead>\n",
       "  <tbody>\n",
       "    <tr>\n",
       "      <th>134</th>\n",
       "      <td>216</td>\n",
       "      <td>Kosovo</td>\n",
       "      <td>Upper middle income</td>\n",
       "      <td>AL</td>\n",
       "    </tr>\n",
       "  </tbody>\n",
       "</table>\n",
       "</div>"
      ],
      "text/plain": [
       "     index country         income_group tld\n",
       "134    216  Kosovo  Upper middle income  AL"
      ]
     },
     "execution_count": 78,
     "metadata": {},
     "output_type": "execute_result"
    }
   ],
   "source": [
    "#Check for duplicates in the 'tld' column \n",
    "wbGroups[wbGroups['tld'].duplicated()]"
   ]
  },
  {
   "cell_type": "code",
   "execution_count": 79,
   "metadata": {},
   "outputs": [],
   "source": [
    "#Kosovo shares a top-level domain with Albania. But both Kosovo and Albania belong to the same income_group\n",
    "#Merging on 'tld', so delete Kosovo for now\n",
    "wbGroups.drop(index=134, inplace=True)"
   ]
  },
  {
   "cell_type": "code",
   "execution_count": 80,
   "metadata": {},
   "outputs": [
    {
     "name": "stdout",
     "output_type": "stream",
     "text": [
      "Low income\n",
      "Lower middle income\n",
      "Upper middle income\n",
      "High income\n",
      "Unclassified\n"
     ]
    }
   ],
   "source": [
    "#Drop the index column\n",
    "wbGroups.drop('index', axis=1, inplace=True)\n",
    "for group in wbGroups['income_group'].unique():\n",
    "    print(group)"
   ]
  },
  {
   "cell_type": "markdown",
   "metadata": {},
   "source": [
    "Change Venezuela's income classification from 'Unclassified' (2021) to its previous classification (2020):"
   ]
  },
  {
   "cell_type": "code",
   "execution_count": 81,
   "metadata": {},
   "outputs": [],
   "source": [
    "wbGroups['income_group'] = np.where(wbGroups['income_group'].str.contains('Unclassified'),\n",
    "                                    'Upper middle income',\n",
    "                                    wbGroups['income_group'])"
   ]
  },
  {
   "cell_type": "markdown",
   "metadata": {},
   "source": [
    "#### Merge the Beacon and World Bank datasets by Top-Level Domain"
   ]
  },
  {
   "cell_type": "code",
   "execution_count": 82,
   "metadata": {},
   "outputs": [],
   "source": [
    "incomeGroups = beaconActive.merge(wbGroups, how='inner', on='tld')"
   ]
  },
  {
   "cell_type": "code",
   "execution_count": 83,
   "metadata": {},
   "outputs": [
    {
     "name": "stdout",
     "output_type": "stream",
     "text": [
      "<class 'pandas.core.frame.DataFrame'>\n",
      "Int64Index: 25651 entries, 0 to 25650\n",
      "Data columns (total 10 columns):\n",
      " #   Column        Non-Null Count  Dtype \n",
      "---  ------        --------------  ----- \n",
      " 0   oai_url       25651 non-null  object\n",
      " 1   set_spec      25651 non-null  object\n",
      " 2   context_name  25651 non-null  object\n",
      " 3   issn          22832 non-null  object\n",
      " 4   tld           25651 non-null  object\n",
      " 5   issn_1        22832 non-null  object\n",
      " 6   issn_2        8419 non-null   object\n",
      " 7   journal_url   25651 non-null  object\n",
      " 8   country       25651 non-null  object\n",
      " 9   income_group  25651 non-null  object\n",
      "dtypes: object(10)\n",
      "memory usage: 2.2+ MB\n"
     ]
    }
   ],
   "source": [
    "#91 rows (25742 - 25651) contain empty 'tld' values, so those have been dropped\n",
    "incomeGroups.info()"
   ]
  },
  {
   "cell_type": "code",
   "execution_count": 84,
   "metadata": {
    "scrolled": true
   },
   "outputs": [
    {
     "data": {
      "text/plain": [
       "oai_url             0\n",
       "set_spec            0\n",
       "context_name        0\n",
       "issn             2819\n",
       "tld                 0\n",
       "issn_1           2819\n",
       "issn_2          17232\n",
       "journal_url         0\n",
       "country             0\n",
       "income_group        0\n",
       "dtype: int64"
      ]
     },
     "execution_count": 84,
     "metadata": {},
     "output_type": "execute_result"
    }
   ],
   "source": [
    "incomeGroups.isnull().sum()"
   ]
  },
  {
   "cell_type": "code",
   "execution_count": 85,
   "metadata": {},
   "outputs": [
    {
     "data": {
      "image/png": "[encoded data removed]",
      "text/plain": [
       "<Figure size 432x288 with 1 Axes>"
      ]
     },
     "metadata": {},
     "output_type": "display_data"
    }
   ],
   "source": [
    "#Plot the distribution of OJS journals by World Bank income group\n",
    "sns.set_theme(style='whitegrid')\n",
    "sns.set_color_codes()\n",
    "inc = sns.countplot(y='income_group', \n",
    "                    order=['Low income',\n",
    "                           'Lower middle income',\n",
    "                           'Upper middle income',\n",
    "                           'High income'],\n",
    "                    data=incomeGroups,\n",
    "                    color='grey')\n",
    "\n",
    "\n",
    "matplotlib.pyplot.xlim(0,20000)\n",
    "\n",
    "matplotlib.pyplot.xticks([2500, 5000, 7500, 10000, 12500, 15000],\n",
    "                         ['2,500', '5,000', '7,500', '10,000', '12,500', '15,000'])\n",
    "\n",
    "for p in inc.patches:\n",
    "    _x = p.get_x() + p.get_width()\n",
    "    _y = p.get_y() + p.get_height() - 0.3\n",
    "    value = '{:,}'.format(p.get_width())\n",
    "    percent = round(((p.get_width() / 25651) * 100), 1)\n",
    "    value = value + ' ({})'.format(str(percent)+'%')\n",
    "    inc.text(_x + 250, _y, value, ha='left')\n",
    "\n",
    "inc.set(xlabel='Active journals using OJS', ylabel='World Bank income group')\n",
    "inc.figure.savefig('OJS_income_groups.png', bbox_inches='tight')"
   ]
  }
 ],
 "metadata": {
  "kernelspec": {
   "display_name": "Python 3",
   "language": "python",
   "name": "python3"
  },
  "language_info": {
   "codemirror_mode": {
    "name": "ipython",
    "version": 3
   },
   "file_extension": ".py",
   "mimetype": "text/x-python",
   "name": "python",
   "nbconvert_exporter": "python",
   "pygments_lexer": "ipython3",
   "version": "3.8.3"
  }
 },
 "nbformat": 4,
 "nbformat_minor": 4
}
